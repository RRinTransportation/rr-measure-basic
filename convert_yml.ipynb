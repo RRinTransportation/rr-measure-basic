{
 "cells": [
  {
   "cell_type": "code",
   "execution_count": null,
   "metadata": {},
   "outputs": [],
   "source": [
    "import yaml\n",
    "\n",
    "def convert_environment_to_requirements(env_file, req_file):\n",
    "    with open(env_file, 'r') as f:\n",
    "        env_data = yaml.safe_load(f)\n",
    "    dependencies = env_data.get('dependencies', [])\n",
    "    requirements = []\n",
    "    for dep in dependencies:\n",
    "        if isinstance(dep, dict) and 'pip' in dep:\n",
    "            requirements.extend(dep['pip'])\n",
    "        elif isinstance(dep, str):\n",
    "            requirements.append(dep)\n",
    "    with open(req_file, 'w') as f:\n",
    "        f.write('\\n'.join(requirements))\n",
    "    print(f\"Converted {env_file} to {req_file}\")"
   ]
  },
  {
   "cell_type": "code",
   "execution_count": null,
   "metadata": {},
   "outputs": [],
   "source": [
    "\n",
    "convert_environment_to_requirements('environment.yml', 'requirements.txt')"
   ]
  }
 ],
 "metadata": {
  "kernelspec": {
   "display_name": "RR-measure",
   "language": "python",
   "name": "python3"
  },
  "language_info": {
   "codemirror_mode": {
    "name": "ipython",
    "version": 3
   },
   "file_extension": ".py",
   "mimetype": "text/x-python",
   "name": "python",
   "nbconvert_exporter": "python",
   "pygments_lexer": "ipython3",
   "version": "3.10.15"
  }
 },
 "nbformat": 4,
 "nbformat_minor": 2
}

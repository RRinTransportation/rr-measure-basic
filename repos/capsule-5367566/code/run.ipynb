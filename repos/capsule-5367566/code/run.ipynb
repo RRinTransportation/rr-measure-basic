{
 "cells": [
  {
   "cell_type": "code",
   "execution_count": 3,
   "metadata": {},
   "outputs": [
    {
     "name": "stdout",
     "output_type": "stream",
     "text": [
      "Transform trajectories into hypercubes....\n",
      "Finished\n",
      "1 2 3 ERROR: index= 8  area is None\n",
      "ERROR: index= 9  area is None\n",
      "4 ERROR: index= 9  area is None\n",
      "5 6 \n",
      "\n",
      "HyperETA:\n",
      "testFileName= ../data/test_quicktest\n",
      "MAPE= 17.374344500709498\n",
      "RMSE= 459.7782074000463\n",
      "MAE= 323.0\n",
      "\n",
      "\n",
      "Transform trajectories into hypercubes....\n",
      "Finished\n",
      "1 2 3 ERROR: index= 8  area is None\n",
      "ERROR: index= 9  area is None\n",
      "4 ERROR: index= 9  area is None\n",
      "5 6 \n",
      "\n",
      "HyperETA_noDTW:\n",
      "testFileName= ../data/test_quicktest\n",
      "MAPE= 17.374344500709498\n",
      "RMSE= 459.7782074000463\n",
      "MAE= 323.0\n"
     ]
    }
   ],
   "source": [
    "class setting:\n",
    "    #trainDataFile = '../data/train' # Train raw data\n",
    "    #trainDataFile = '../data/train_quicktest' # Train raw data for quick test.\n",
    "    \n",
    "    trajModel = '../data/trainTrajModel.pickle' # Direct use exist Trajectory Model\n",
    "    \n",
    "    #testDataFile = '../data/testRemoveBeginLast' # Test raw data\n",
    "    testDataFile = '../data/test_quicktest' # Test raw data for quick test.\n",
    "    #testTrajPreprocessed = '../data/testPreprocessed.pickle' # Direct use exist preprocessed trajectory\n",
    "    \n",
    "    DTW = True # Set to False if need the results of HyperETA-noDTW\n",
    "    def __init__(self):\n",
    "        pass\n",
    "args = setting()\n",
    "\n",
    "import json\n",
    "config = json.load(open('config.json', 'r'))\n",
    "\n",
    "import librun\n",
    "import lib2\n",
    "import lib2noDTW\n",
    "\n",
    "(MAPE,RMSE,MAE) = librun.run(args,config,lib2noDTW)\n",
    "\n",
    "print('\\n')\n",
    "print('HyperETA:')\n",
    "if args.testDataFile:\n",
    "        print('testFileName=', args.testDataFile)\n",
    "elif args.testTrajPreprocessed:\n",
    "        print('testFileName=', args.testTrajPreprocessed)\n",
    "print('MAPE=', MAPE)\n",
    "print('RMSE=', RMSE)\n",
    "print('MAE=', MAE)\n",
    "print('\\n')\n",
    "\n",
    "args.DTW = False\n",
    "(MAPE,RMSE,MAE) = librun.run(args,config,lib2noDTW)\n",
    "print('\\n')\n",
    "print('HyperETA_noDTW:')\n",
    "if args.testDataFile:\n",
    "        print('testFileName=', args.testDataFile)\n",
    "elif args.testTrajPreprocessed:\n",
    "        print('testFileName=', args.testTrajPreprocessed)\n",
    "print('MAPE=', MAPE)\n",
    "print('RMSE=', RMSE)\n",
    "print('MAE=', MAE)\n"
   ]
  },
  {
   "cell_type": "code",
   "execution_count": null,
   "metadata": {},
   "outputs": [],
   "source": []
  }
 ],
 "metadata": {
  "kernelspec": {
   "display_name": "Python 3",
   "language": "python",
   "name": "python3"
  },
  "language_info": {
   "codemirror_mode": {
    "name": "ipython",
    "version": 3
   },
   "file_extension": ".py",
   "mimetype": "text/x-python",
   "name": "python",
   "nbconvert_exporter": "python",
   "pygments_lexer": "ipython3",
   "version": "3.7.7"
  },
  "varInspector": {
   "cols": {
    "lenName": 16,
    "lenType": 16,
    "lenVar": 40
   },
   "kernels_config": {
    "python": {
     "delete_cmd_postfix": "",
     "delete_cmd_prefix": "del ",
     "library": "var_list.py",
     "varRefreshCmd": "print(var_dic_list())"
    },
    "r": {
     "delete_cmd_postfix": ") ",
     "delete_cmd_prefix": "rm(",
     "library": "var_list.r",
     "varRefreshCmd": "cat(var_dic_list()) "
    }
   },
   "types_to_exclude": [
    "module",
    "function",
    "builtin_function_or_method",
    "instance",
    "_Feature"
   ],
   "window_display": false
  }
 },
 "nbformat": 4,
 "nbformat_minor": 4
}

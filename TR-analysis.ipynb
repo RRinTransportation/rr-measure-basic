{
 "cells": [
  {
   "cell_type": "code",
   "execution_count": 24,
   "metadata": {},
   "outputs": [],
   "source": [
    "import pandas as pd\n",
    "import os\n",
    "folder = '../trc-full-text'\n",
    "# List all files in the folder\n",
    "files = os.listdir(folder)"
   ]
  },
  {
   "cell_type": "code",
   "execution_count": 25,
   "metadata": {},
   "outputs": [
    {
     "name": "stdout",
     "output_type": "stream",
     "text": [
      "13.51%\n"
     ]
    }
   ],
   "source": [
    "count = 0\n",
    "for file in files:\n",
    "    # filter the file with .txt\n",
    "    if file.endswith('.txt'):\n",
    "        # read the file\n",
    "        with open(folder + '/' + file, 'r') as f:\n",
    "            text = f.read()\n",
    "            if 'github' in text:\n",
    "                count += 1\n",
    "print(f\"{(count/len(files) * 100):.2f}%\")"
   ]
  },
  {
   "cell_type": "code",
   "execution_count": null,
   "metadata": {},
   "outputs": [],
   "source": []
  }
 ],
 "metadata": {
  "kernelspec": {
   "display_name": "RR-measure",
   "language": "python",
   "name": "python3"
  },
  "language_info": {
   "codemirror_mode": {
    "name": "ipython",
    "version": 3
   },
   "file_extension": ".py",
   "mimetype": "text/x-python",
   "name": "python",
   "nbconvert_exporter": "python",
   "pygments_lexer": "ipython3",
   "version": "3.10.15"
  }
 },
 "nbformat": 4,
 "nbformat_minor": 2
}

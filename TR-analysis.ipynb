{
 "cells": [
  {
   "cell_type": "code",
   "execution_count": 13,
   "metadata": {},
   "outputs": [],
   "source": [
    "import pandas as pd\n",
    "import os\n",
    "import re\n",
    "folder = '../journal-full-text'\n",
    "# List all files in the folder with csv\n",
    "journals = [f for f in os.listdir(folder) if f.endswith('.csv')]\n",
    "journal_issn_list = [['TRA','0965-8564'],\n",
    "                     ['TRB','0191-2615'],\n",
    "                     ['TRC','0968-090X'],\n",
    "                     ['TRD','1361-9209'],\n",
    "                     ['TRE','1366-5545'],\n",
    "                     ['TRF','1369-8478'],\n",
    "                     ['TRIP','2590-1982']]\n",
    "journal_issn_df = pd.DataFrame(journal_issn_list, columns=['journal','issn'])"
   ]
  },
  {
   "cell_type": "code",
   "execution_count": null,
   "metadata": {},
   "outputs": [],
   "source": [
    "for journal in journals:\n",
    "    # get the journal without the .csv\n",
    "    journal_issn = journal.split('.csv')[0]\n",
    "    journal_folder = os.path.join(folder, journal_issn)\n",
    "    files = os.listdir(journal_folder)\n",
    "    count = 0\n",
    "    for file in files:\n",
    "        # filter the file with .txt\n",
    "        if file.endswith('.txt'):\n",
    "            # read the file\n",
    "            with open(journal_folder + '/' + file, 'r') as f:\n",
    "                text = f.read()\n",
    "                if 'github' in text or 'GitHub' in text or 'Github' in text:\n",
    "                    count += 1\n",
    "    journal_name = journal_issn_df[journal_issn_df['issn'] == journal_issn]['journal'].values[0]\n",
    "    print(f\"{journal_name}:{(count/len(files) * 100):.2f}%\")\n",
    "    # print the journal name in match with the issn"
   ]
  },
  {
   "cell_type": "code",
   "execution_count": null,
   "metadata": {},
   "outputs": [],
   "source": [
    "import plotly.graph_objects as go\n",
    "\n",
    "# Define nodes (categories)\n",
    "nodes = dict(\n",
    "    label=[\"Input\", \"Output 1\", \"Output 2\", \"Output 3\", \"Another Input\", \"Output A\", \"Output B\"],  # Labels for nodes\n",
    "    pad=20,       # Padding between nodes\n",
    "    thickness=20, # Thickness of nodes\n",
    "    color=[\"blue\", \"orange\", \"green\", \"red\", \"purple\", \"yellow\", \"cyan\"]  # Colors for nodes\n",
    ")\n",
    "\n",
    "# Define links (flows between nodes)\n",
    "links = dict(\n",
    "    source=[0, 0, 0, 0, 4, 4],  # Indices of source nodes\n",
    "    target=[1, 2, 3, 4, 5, 6],  # Indices of target nodes\n",
    "    value=[100, 30, 20, 50, 15, 35],  # Values of the flows\n",
    "    color=[\"blue\", \"orange\", \"green\", \"red\", \"purple\", \"yellow\"]  # Colors for links (optional)\n",
    ")\n",
    "\n",
    "# Create the Sankey diagram\n",
    "fig = go.Figure(go.Sankey(\n",
    "    node=nodes,\n",
    "    link=links\n",
    "))\n",
    "\n",
    "# Add a title and show the figure\n",
    "fig.update_layout(title_text=\"Sankey Diagram Example\", font_size=14)\n",
    "fig.write_html(\"../sankey_diagram.html\")"
   ]
  }
 ],
 "metadata": {
  "kernelspec": {
   "display_name": "RR-measure",
   "language": "python",
   "name": "python3"
  },
  "language_info": {
   "codemirror_mode": {
    "name": "ipython",
    "version": 3
   },
   "file_extension": ".py",
   "mimetype": "text/x-python",
   "name": "python",
   "nbconvert_exporter": "python",
   "pygments_lexer": "ipython3",
   "version": "3.10.15"
  }
 },
 "nbformat": 4,
 "nbformat_minor": 2
}

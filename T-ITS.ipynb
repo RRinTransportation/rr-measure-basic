{
 "cells": [
  {
   "cell_type": "code",
   "execution_count": 3,
   "metadata": {},
   "outputs": [],
   "source": [
    "import yaml\n",
    "import pandas as pd\n",
    "import json\n",
    "from thirdparty.xploreapi import XPLORE\n",
    "\n",
    "with open('./config.yaml', 'r') as file:\n",
    "    config = yaml.safe_load(file)\n",
    "\n",
    "# Access the API key\n",
    "api_key = config['xplore_api']['api_key']\n",
    "auth_token = config['xplore_api']['auth_token']"
   ]
  },
  {
   "cell_type": "code",
   "execution_count": null,
   "metadata": {},
   "outputs": [],
   "source": [
    "def get_all_dois(journal_issn, api_key =  api_key):\n",
    "    query = XPLORE(api_key)\n",
    "    query.issn(journal_issn)\n",
    "    query.dataType('json')\n",
    "    query.dataFormat('raw')\n",
    "    data = query.callAPI()\n",
    "    \n",
    "    title_doi_dataframe = pd.DataFrame(json.loads(data))\n",
    "    title_doi_dataframe.to_csv(f\"../journal-meta/{journal_issn}_doi.csv\", index=False)\n",
    "    return title_doi_dataframe"
   ]
  },
  {
   "cell_type": "code",
   "execution_count": 5,
   "metadata": {},
   "outputs": [],
   "source": [
    "# Replace with a valid article DOI or EID for testing\n",
    "# article_doi = \"10.1016/j.trc.2023.104311\"\n",
    "def retrieve_full_text(article_doi, save_folder, api_key = api_key, auth_token = auth_token):\n",
    "    # API Endpoint for Article Retrieval\n",
    "    query = XPLORE(api_key)\n",
    "    query.setAuthToken('auth_token')\n",
    "    query.dataType('json')\n",
    "    query.dataFormat('raw')\n",
    "    query.doi(article_doi)\n",
    "    query.fullTextRequest('article number')\n",
    "\n",
    "    data = query.callAPI()\n",
    "    \n",
    "    unique_id = article_doi.replace('/','_')\n",
    "    with open(f'{save_folder}/{unique_id}.txt', 'w', encoding='utf-8') as file:\n",
    "        file.write(data)\n",
    "    return data"
   ]
  },
  {
   "cell_type": "code",
   "execution_count": null,
   "metadata": {},
   "outputs": [],
   "source": [
    "# read the journal-meta folder and get a list of csv files\n",
    "import os\n",
    "folder = '../journal-meta'\n",
    "full_text_folder = '../journal-full-text'\n",
    "csv_files = [file for file in os.listdir(folder) if file.endswith('.csv')]\n",
    "for csv_file in csv_files:\n",
    "    journal_info = csv_file.split('_')[0]\n",
    "    # create a folder in the full_text_folder under the journal info\n",
    "    save_folder = os.path.join(full_text_folder, journal_info)\n",
    "    # Check if the folder doesn't already exist and create it if necessary\n",
    "    if not os.path.exists(save_folder):\n",
    "        os.makedirs(save_folder)\n",
    "    article_info = pd.read_csv(folder + '/' + csv_file)\n",
    "    article_info['year'] = article_info['date'].str.extract(r'(\\d{4})')\n",
    "    # get the month from the format of YYYY-MM-DD\n",
    "    article_info['month'] = article_info['date'].str.extract(r'-(\\d{2})-')\n",
    "    article = article_info[article_info['year'] >= '2019']\n",
    "    article.loc[:, 'abstract'] = article.apply(lambda x: retrieve_full_text(x['doi'],save_folder), axis=1)\n",
    "    article.to_csv(full_text_folder + '/' + journal_info + '.csv', index=False)"
   ]
  }
 ],
 "metadata": {
  "kernelspec": {
   "display_name": "Python 3 (ipykernel)",
   "language": "python",
   "name": "python3"
  },
  "language_info": {
   "codemirror_mode": {
    "name": "ipython",
    "version": 3
   },
   "file_extension": ".py",
   "mimetype": "text/x-python",
   "name": "python",
   "nbconvert_exporter": "python",
   "pygments_lexer": "ipython3",
   "version": "3.13.0"
  }
 },
 "nbformat": 4,
 "nbformat_minor": 2
}

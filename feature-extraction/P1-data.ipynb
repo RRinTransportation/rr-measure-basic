{
 "cells": [
  {
   "cell_type": "markdown",
   "metadata": {},
   "source": [
    "### File Structure of the Dataset Folder\n",
    "```\n",
    "├── journal-meta/\n",
    "│   ├── 0968-090X.csv         # TRC\n",
    "│   ├── mini-dataset.csv      # A mini dataset for tutorial, extracted from TRC\n",
    "│   ├── journal-meta-dataset.csv   # the combined dataset for all journals\n",
    "│   ├── github_data.json      # the links for the GitHub repository\n",
    "│   ├── url_data.json         # the links for the data avaiablity urls\n",
    "│   └── ... (other journal CSV files)\n",
    "├── journal-full-text/\n",
    "│   ├── 0968-090X/\n",
    "│   │   └── 10.1016_j.trc.2023.104311.xml\n",
    "│   └── ... (other DOI folders)\n",
    "```"
   ]
  },
  {
   "cell_type": "code",
   "execution_count": null,
   "metadata": {},
   "outputs": [],
   "source": [
    "import pandas as pd\n",
    "import os\n",
    "from tqdm import tqdm\n",
    "from utils import *\n",
    "# replace it with your downloaded folder path\n",
    "full_data_folder = '/Users/junyi/Work/RR/rr-measure-dataset/journal-full-text'\n",
    "meta_data_folder = '/Users/junyi/Work/RR/rr-measure-dataset/journal-meta'"
   ]
  },
  {
   "cell_type": "code",
   "execution_count": null,
   "metadata": {},
   "outputs": [],
   "source": [
    "data = pd.read_csv(os.path.join(meta_data_folder, 'full-meta-dataset.csv'))\n",
    "data.columns"
   ]
  },
  {
   "cell_type": "code",
   "execution_count": null,
   "metadata": {},
   "outputs": [],
   "source": [
    "data['is_availablity_statement'] = 0\n",
    "for i in range(len(data)):\n",
    "# # In case for the mini test to debug the code\n",
    "# for i in tqdm(range(1000)):\n",
    "    journal_path = os.path.join(full_data_folder, data['issn'][i])  # Path to the journal folder\n",
    "    paper_path = os.path.join(journal_path, data['unique_id'][i] + '.xml')  # Path to the paper folder\n",
    "    sections = extract_sections_and_text_from_xml(paper_path)\n",
    "    reorganized_sections = postprocess_sections(sections)\n",
    "    for section in reorganized_sections:\n",
    "        section_title = section['title']\n",
    "        if 'data availability' in section_title.lower():\n",
    "            data.loc[i, 'is_availablity_statement'] = 1\n",
    "data.to_csv(os.path.join(meta_data_folder, 'full-meta-dataset.csv'), index=False)"
   ]
  },
  {
   "cell_type": "code",
   "execution_count": null,
   "metadata": {},
   "outputs": [],
   "source": [
    "data['is_data_mentioned_in_section_title'] = 0\n",
    "for i in range(len(data)):\n",
    "# # In case for the mini test to debug the code\n",
    "# for i in tqdm(range(1000)):\n",
    "    journal_path = os.path.join(full_data_folder, data['issn'][i])  # Path to the journal folder\n",
    "    paper_path = os.path.join(journal_path, data['unique_id'][i] + '.xml')  # Path to the paper folder\n",
    "    sections = extract_sections_and_text_from_xml(paper_path)\n",
    "    reorganized_sections = postprocess_sections(sections)\n",
    "    label = 0\n",
    "    for section in reorganized_sections:\n",
    "        section_title = section['title']\n",
    "        if 'data' in section_title.lower():\n",
    "            label = 1\n",
    "        for subsection in section['subsections']:\n",
    "            subsection_title = subsection['title']\n",
    "            if 'data' in subsection_title.lower():\n",
    "                label = 1\n",
    "            for subsubsection in subsection['subsubsections']:\n",
    "                subsubsection_title = subsubsection['title']\n",
    "                if 'data' in subsubsection_title.lower():\n",
    "                    label = 1\n",
    "    data.loc[i, 'is_data_mentioned_in_section_title'] = label\n",
    "data.to_csv(os.path.join(meta_data_folder, 'full-meta-dataset.csv'), index=False)"
   ]
  },
  {
   "cell_type": "code",
   "execution_count": null,
   "metadata": {},
   "outputs": [],
   "source": [
    "data['is_experiment_mentioned_in_section_title'] = 0\n",
    "for i in range(len(data)):\n",
    "# # In case for the mini test to debug the code\n",
    "# for i in tqdm(range(1000)):\n",
    "    journal_path = os.path.join(full_data_folder, data['issn'][i])  # Path to the journal folder\n",
    "    paper_path = os.path.join(journal_path, data['unique_id'][i] + '.xml')  # Path to the paper folder\n",
    "    sections = extract_sections_and_text_from_xml(paper_path)\n",
    "    reorganized_sections = postprocess_sections(sections)\n",
    "    label = 0\n",
    "    for section in reorganized_sections:\n",
    "        section_title = section['title']\n",
    "        if 'experiment' in section_title.lower():\n",
    "            label = 1\n",
    "        for subsection in section['subsections']:\n",
    "            subsection_title = subsection['title']\n",
    "            if 'experiment' in subsection_title.lower():\n",
    "                label = 1\n",
    "            for subsubsection in subsection['subsubsections']:\n",
    "                subsubsection_title = subsubsection['title']\n",
    "                if 'experiment' in subsubsection_title.lower():\n",
    "                    label = 1\n",
    "    data.loc[i, 'is_experiment_mentioned_in_section_title'] = label\n",
    "data.to_csv(os.path.join(meta_data_folder, 'full-meta-dataset.csv'), index=False)"
   ]
  },
  {
   "cell_type": "code",
   "execution_count": null,
   "metadata": {},
   "outputs": [],
   "source": [
    "data['is_link_in_avaiablity_statement'] = 0\n",
    "data['num_of_links_in_avaiablity_statement'] = 0\n",
    "url_pattern = r'(https?://\\S+|www\\.\\S+)'  # URL pattern\n",
    "# # In case for the mini test to debug the code\n",
    "url_data = []\n",
    "for i in range(len(data)):\n",
    "# for i in range(1000):\n",
    "    journal_path = os.path.join(full_data_folder, data['issn'][i])  # Path to the journal folder\n",
    "    paper_path = os.path.join(journal_path, data['unique_id'][i] + '.xml')  # Path to the paper folder\n",
    "    sections = extract_sections_and_text_from_xml(paper_path)\n",
    "    reorganized_sections = postprocess_sections(sections)\n",
    "    for section in reorganized_sections:\n",
    "        section_title = section['title']\n",
    "        if 'data availability' in section_title.lower():\n",
    "            if 'http' in section['text']:\n",
    "                data.loc[i, 'is_link_in_avaiablity_statement'] = 1\n",
    "                url = re.findall(url_pattern, section['text'])\n",
    "                unique_url = list(set(url))\n",
    "                if url:\n",
    "                    print(url)\n",
    "                url_data.append({\n",
    "                'issn': data['issn'][i],\n",
    "                'unique_id': data['unique_idf'][i],\n",
    "                'title': data['title'][i],\n",
    "                'url': unique_url\n",
    "                })\n",
    "                data.loc[i, 'num_of_links_in_avaiablity_statement'] = len(unique_url)\n",
    "data.to_csv(os.path.join(meta_data_folder, 'full-meta-dataset.csv'), index=False)\n",
    "save_json(url_data, os.path.join(meta_data_folder, 'url_data.json'))"
   ]
  }
 ],
 "metadata": {
  "kernelspec": {
   "display_name": "RR-measure",
   "language": "python",
   "name": "python3"
  },
  "language_info": {
   "codemirror_mode": {
    "name": "ipython",
    "version": 3
   },
   "file_extension": ".py",
   "mimetype": "text/x-python",
   "name": "python",
   "nbconvert_exporter": "python",
   "pygments_lexer": "ipython3",
   "version": "3.10.15"
  }
 },
 "nbformat": 4,
 "nbformat_minor": 2
}

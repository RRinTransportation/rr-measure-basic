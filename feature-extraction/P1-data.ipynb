{
 "cells": [
  {
   "cell_type": "markdown",
   "metadata": {},
   "source": [
    "### File Structure of the Dataset Folder\n",
    "```\n",
    "├── journal-meta/\n",
    "│   ├── 0968-090X.csv         # TRC\n",
    "│   ├── mini-dataset.csv      # A mini dataset for tutorial, extracted from TRC\n",
    "│   ├── journal-meta-dataset.csv   # the combined dataset for all journals\n",
    "│   ├── github_data.json      # the links for the GitHub repository\n",
    "│   ├── url_data.json         # the links for the data avaiablity urls\n",
    "│   └── ... (other journal CSV files)\n",
    "├── journal-full-text/\n",
    "│   ├── 0968-090X/\n",
    "│   │   └── 10.1016_j.trc.2023.104311.xml\n",
    "│   └── ... (other DOI folders)\n",
    "```"
   ]
  },
  {
   "cell_type": "code",
   "execution_count": 1,
   "metadata": {},
   "outputs": [],
   "source": [
    "import pandas as pd\n",
    "import os\n",
    "from tqdm import tqdm\n",
    "from utils import *\n",
    "# replace it with your downloaded folder path\n",
    "full_data_folder = '/Users/junyi/Work/RR/rr-measure-dataset/journal-full-text'\n",
    "meta_data_folder = '/Users/junyi/Work/RR/rr-measure-dataset/journal-meta'\n",
    "result_data_folder = '/Users/junyi/Work/RR/rr-measure-dataset/journal-results'"
   ]
  },
  {
   "cell_type": "code",
   "execution_count": 2,
   "metadata": {},
   "outputs": [
    {
     "data": {
      "text/plain": [
       "Index(['title', 'doi', 'volume', 'date', 'year', 'month', 'abstract', 'issn',\n",
       "       'journal_name', 'unique_id', 'is_github', 'num_of_github_urls',\n",
       "       'is_availablity_statement', 'is_data_mentioned_in_section_title',\n",
       "       'is_experiment_mentioned_in_section_title',\n",
       "       'is_link_in_avaiablity_statement',\n",
       "       'num_of_links_in_avaiablity_statement'],\n",
       "      dtype='object')"
      ]
     },
     "execution_count": 2,
     "metadata": {},
     "output_type": "execute_result"
    }
   ],
   "source": [
    "data = pd.read_csv(os.path.join(meta_data_folder, 'full-meta-dataset.csv'))\n",
    "data.columns"
   ]
  },
  {
   "cell_type": "code",
   "execution_count": 4,
   "metadata": {},
   "outputs": [],
   "source": [
    "data['is_availability_statement'] = 0\n",
    "for i in range(len(data)):\n",
    "# # In case for the mini test to debug the code\n",
    "# for i in tqdm(range(1000)):\n",
    "    journal_path = os.path.join(full_data_folder, data['issn'][i])  # Path to the journal folder\n",
    "    paper_path = os.path.join(journal_path, data['unique_id'][i] + '.xml')  # Path to the paper folder\n",
    "    sections = extract_sections_and_text_from_xml(paper_path)\n",
    "    reorganized_sections = postprocess_sections(sections)\n",
    "    for section in reorganized_sections:\n",
    "        section_title = section['title']\n",
    "        if 'data availability' in section_title.lower():\n",
    "            data.loc[i, 'is_availability_statement'] = 1"
   ]
  },
  {
   "cell_type": "code",
   "execution_count": 16,
   "metadata": {},
   "outputs": [],
   "source": [
    "import openai\n",
    "import yaml\n",
    "import json\n",
    "# Load API key from config.yaml\n",
    "from openai import OpenAI\n",
    "with open(\"/Users/junyi/Work/RR/config.yaml\", \"r\") as config_file:\n",
    "    config = yaml.safe_load(config_file)\n",
    "openai.api_key = config[\"openai_api_key\"]\n",
    "client = OpenAI(api_key=config[\"openai_api_key\"])\n",
    "def analyze_with_openai(data_context):\n",
    "    definition_context = \"\"\"\n",
    "                        ---------------------------\n",
    "                        Definition of data source:\n",
    "                        Real-world data is the data is collected from the real-world, such as data from sensors, surveys, or other sources.\n",
    "                        Simulation data is the data generated from simulation or synthetic data, even though the scenario is based on real-world.\n",
    "                        \"\"\"\n",
    "    response = client.chat.completions.create(\n",
    "        model=\"gpt-4o-mini\",\n",
    "        messages=[\n",
    "            {\n",
    "                \"role\": \"user\",\n",
    "                \"content\": data_context + definition_context\n",
    "            }\n",
    "        ],\n",
    "        response_format={\n",
    "            \"type\": \"json_schema\",\n",
    "            \"json_schema\": {\n",
    "                \"name\": \"data_source_description\",\n",
    "                \"strict\": True,\n",
    "                \"schema\": {\n",
    "                    \"type\": \"object\",\n",
    "                    \"properties\": {\n",
    "                        \"source_description\": {\n",
    "                            \"type\": \"string\",\n",
    "                            \"description\": \"Description of the data source.\"\n",
    "                        },\n",
    "                        \"real_world\": {\n",
    "                            \"type\": \"boolean\",\n",
    "                            \"description\": \"Is the data collected from real-world based on the definition?\"\n",
    "                        },\n",
    "                        \"simulation\": {\n",
    "                            \"type\": \"boolean\",\n",
    "                            \"description\": \"Is the data collected from simulation or synthetic data based on the definition?\"\n",
    "                        },\n",
    "                        \"details\": {\n",
    "                            \"type\": \"object\",\n",
    "                            \"properties\": {\n",
    "                                \"dataset_size_description\": {\n",
    "                                    \"type\": \"boolean\",\n",
    "                                    \"description\": \"Indicates whether there is a description of the dataset size.\"\n",
    "                                },\n",
    "                                \"data_collection_description\": {\n",
    "                                    \"type\": \"boolean\",\n",
    "                                    \"description\": \"Indicates whether there is a description of data collection.\"\n",
    "                                },\n",
    "                                \"size_decription_detail\": {\n",
    "                                    \"type\": \"string\",\n",
    "                                    \"description\": \"Description of the dataset size.\"\n",
    "                                },\n",
    "                                \"data_collection_detail\": {\n",
    "                                    \"type\": \"string\",\n",
    "                                    \"description\": \"Description of the data collection.\"\n",
    "                                }\n",
    "                            },\n",
    "                            \"required\": [\n",
    "                                \"dataset_size_description\",\n",
    "                                \"data_collection_description\",\n",
    "                                \"size_decription_detail\",\n",
    "                                \"data_collection_detail\"\n",
    "                            ],\n",
    "                            \"additionalProperties\": False\n",
    "                        }\n",
    "                    },\n",
    "                    \"required\": [\n",
    "                        \"source_description\",\n",
    "                        \"real_world\",\n",
    "                        \"simulation\",\n",
    "                        \"details\"\n",
    "                    ],\n",
    "                    \"additionalProperties\": False\n",
    "                }\n",
    "            }\n",
    "        },\n",
    "        temperature=0,\n",
    "        max_completion_tokens=16383,\n",
    "        top_p=1,\n",
    "        frequency_penalty=0,\n",
    "        presence_penalty=0\n",
    "    )\n",
    "    return response.choices[0].message.content"
   ]
  },
  {
   "cell_type": "code",
   "execution_count": 15,
   "metadata": {},
   "outputs": [
    {
     "name": "stderr",
     "output_type": "stream",
     "text": [
      "  0%|          | 1/10990 [00:01<4:39:21,  1.53s/it]"
     ]
    },
    {
     "name": "stdout",
     "output_type": "stream",
     "text": [
      "The data source for this study consists of simulated traffic conditions that emulate real-world scenarios in a suburban traffic corridor, specifically designed to evaluate the performance of the proposed deep reinforcement learning algorithm for adaptive traffic signal control.\n"
     ]
    },
    {
     "name": "stderr",
     "output_type": "stream",
     "text": [
      "  0%|          | 2/10990 [00:02<4:29:36,  1.47s/it]"
     ]
    },
    {
     "name": "stdout",
     "output_type": "stream",
     "text": [
      "The data source is a longitudinal online survey conducted as part of the PASTA project, which aimed to understand the determinants of active mobility and its health impacts across seven European cities.\n"
     ]
    },
    {
     "name": "stderr",
     "output_type": "stream",
     "text": [
      "  0%|          | 3/10990 [00:04<4:26:09,  1.45s/it]"
     ]
    },
    {
     "name": "stdout",
     "output_type": "stream",
     "text": [
      "This study examines the critical components of China's aviation system, including airports, airlines, and air traffic management, through a review of academic literature, official reports, and news articles.\n"
     ]
    },
    {
     "name": "stderr",
     "output_type": "stream",
     "text": [
      "  0%|          | 4/10990 [00:06<4:38:24,  1.52s/it]"
     ]
    },
    {
     "name": "stdout",
     "output_type": "stream",
     "text": [
      "The data source for this research paper includes empirical data collected through face-to-face interviews, literature reviews, and secondary data analysis from various reports, articles, and statistics related to vocational education and training (VET) in the STEM workforce, particularly focusing on women's integration in the Japanese transport sector.\n"
     ]
    },
    {
     "name": "stderr",
     "output_type": "stream",
     "text": [
      "  0%|          | 5/10990 [00:07<4:39:53,  1.53s/it]"
     ]
    },
    {
     "name": "stdout",
     "output_type": "stream",
     "text": [
      "The data source for this study is derived from simulation outputs generated by the TSIS-CORSIM model, which simulates traffic conditions and control systems in urban areas. The data includes various measures of effectiveness (MOEs) related to traffic management parameters under different congestion scenarios.\n",
      "No data context found\n"
     ]
    },
    {
     "name": "stderr",
     "output_type": "stream",
     "text": [
      "  0%|          | 7/10990 [00:08<3:11:52,  1.05s/it]"
     ]
    },
    {
     "name": "stdout",
     "output_type": "stream",
     "text": [
      "The data source consists of survey responses collected from train passengers in the UK, focusing on their preferences for technological innovations aimed at improving the rail journey experience.\n"
     ]
    },
    {
     "name": "stderr",
     "output_type": "stream",
     "text": [
      "  0%|          | 8/10990 [00:11<4:24:17,  1.44s/it]"
     ]
    },
    {
     "name": "stdout",
     "output_type": "stream",
     "text": [
      "The data source for this study includes a combination of real-world survey data, operational data from an e-hailing service provider, and simulated traffic network data. The primary dataset is the 2007 Origin Destination Survey (OD07) conducted by the São Paulo subway company, which provides detailed information on travel patterns in the São Paulo Metropolitan Region. Additionally, operational data from the e-hailing company 99 and traffic simulation data from TTC are utilized to analyze the impacts of e-hailing services.\n"
     ]
    },
    {
     "name": "stderr",
     "output_type": "stream",
     "text": [
      "  0%|          | 9/10990 [00:12<4:28:42,  1.47s/it]"
     ]
    },
    {
     "name": "stdout",
     "output_type": "stream",
     "text": [
      "The data source consists of recall accuracy scores and participant ratings collected from a study involving real-world driving experiences, where participants drove familiar routes and were later tested on their recall of details from those drives using various auditory and visual cues.\n"
     ]
    },
    {
     "name": "stderr",
     "output_type": "stream",
     "text": [
      "  0%|          | 10/10990 [00:14<4:21:33,  1.43s/it]"
     ]
    },
    {
     "name": "stdout",
     "output_type": "stream",
     "text": [
      "The data source consists of performance measures collected from various transit agencies across Michigan, assessing the quality of transit services provided in urban, semi-urban, and rural areas.\n"
     ]
    },
    {
     "name": "stderr",
     "output_type": "stream",
     "text": [
      "  0%|          | 11/10990 [00:15<4:03:37,  1.33s/it]"
     ]
    },
    {
     "name": "stdout",
     "output_type": "stream",
     "text": [
      "The data source consists of physiological measurements and subjective stress assessments collected from police officers performing traffic duties in real-world environments, specifically in Quebec City and Montreal, Canada.\n"
     ]
    },
    {
     "name": "stderr",
     "output_type": "stream",
     "text": [
      "  0%|          | 12/10990 [00:16<3:58:50,  1.31s/it]"
     ]
    },
    {
     "name": "stdout",
     "output_type": "stream",
     "text": [
      "The data source consists of empirical and theoretical insights drawn from various disciplines including education, organizational development, human resources, environmental sciences, and business strategy, focusing on learning processes that contribute to strategic capacity building in transportation planning.\n"
     ]
    },
    {
     "name": "stderr",
     "output_type": "stream",
     "text": [
      "  0%|          | 13/10990 [00:18<4:36:05,  1.51s/it]"
     ]
    },
    {
     "name": "stdout",
     "output_type": "stream",
     "text": [
      "The data source consists of real-world data collected from various sources to evaluate the effectiveness of the automated speed enforcement camera project along the Friendship Highway in Khon Kaen, Thailand. This includes vehicle speed measurements, accident records, and speed ticket issuance data.\n"
     ]
    },
    {
     "name": "stderr",
     "output_type": "stream",
     "text": [
      "  0%|          | 14/10990 [00:19<4:34:09,  1.50s/it]"
     ]
    },
    {
     "name": "stdout",
     "output_type": "stream",
     "text": [
      "The data source consists of life cycle assessment models developed to quantify the energy output and emissions of transportation alternatives in Qatar, specifically comparing private automobiles and the Doha Metro Project.\n"
     ]
    },
    {
     "name": "stderr",
     "output_type": "stream",
     "text": [
      "  0%|          | 15/10990 [00:21<4:32:28,  1.49s/it]"
     ]
    },
    {
     "name": "stdout",
     "output_type": "stream",
     "text": [
      "The data source consists of real-time incident reports from the Waze mobile navigation application, which allows users to report various roadway incidents such as crashes, disabled vehicles, and traffic conditions. This data was evaluated against ground truth evidence from traffic cameras to assess its accuracy.\n"
     ]
    },
    {
     "name": "stderr",
     "output_type": "stream",
     "text": [
      "  0%|          | 16/10990 [00:22<4:23:39,  1.44s/it]"
     ]
    },
    {
     "name": "stdout",
     "output_type": "stream",
     "text": [
      "The data source consists of panel data reflecting the development of the air logistics industry in the Beijing-Tianjin-Hebei region from 2005 to 2014, used to analyze the coordination degree of the industry.\n"
     ]
    },
    {
     "name": "stderr",
     "output_type": "stream",
     "text": [
      "  0%|          | 17/10990 [00:24<4:17:47,  1.41s/it]"
     ]
    },
    {
     "name": "stdout",
     "output_type": "stream",
     "text": [
      "The data source consists of real-world traffic stop records from Burlington, Vermont, specifically focusing on speeding violations from 2012 to 2017. This dataset includes information on the outcomes of traffic stops, such as whether a ticket or warning was issued, as well as demographic details of the drivers involved.\n"
     ]
    },
    {
     "name": "stderr",
     "output_type": "stream",
     "text": [
      "  0%|          | 18/10990 [00:25<4:30:24,  1.48s/it]"
     ]
    },
    {
     "name": "stdout",
     "output_type": "stream",
     "text": [
      "The data source consists of qualitative data collected from interviews with practitioners involved in the planning and design of cycle highways across five European countries. This data provides insights into the definitions and conceptualizations of cycle highways and their impact on cycling experiences.\n"
     ]
    },
    {
     "name": "stderr",
     "output_type": "stream",
     "text": [
      "  0%|          | 19/10990 [00:27<4:38:57,  1.53s/it]"
     ]
    },
    {
     "name": "stdout",
     "output_type": "stream",
     "text": [
      "This study utilizes real-world data collected through remote-sensing, geographical information systems (GIS), field observations, and in-depth interviews to analyze the spatial distribution of informal e-bike taxi services in Shenzhen, China.\n"
     ]
    },
    {
     "name": "stderr",
     "output_type": "stream",
     "text": [
      "  0%|          | 20/10990 [00:28<4:25:21,  1.45s/it]"
     ]
    },
    {
     "name": "stdout",
     "output_type": "stream",
     "text": [
      "The data source consists of survey responses collected from individuals in the US regarding their behaviors and preferences related to crowd-shipping (CS) as driver-partners and requesters in the logistics market.\n"
     ]
    },
    {
     "name": "stderr",
     "output_type": "stream",
     "text": [
      "  0%|          | 21/10990 [00:29<4:11:33,  1.38s/it]"
     ]
    },
    {
     "name": "stdout",
     "output_type": "stream",
     "text": [
      "The data source for this study is based on an intercept survey conducted at Capital Bikeshare (CaBi) stations, collecting real-world user responses regarding their sensitivity to price changes and preferences for bikeshare services.\n"
     ]
    },
    {
     "name": "stderr",
     "output_type": "stream",
     "text": [
      "  0%|          | 22/10990 [00:32<4:58:05,  1.63s/it]"
     ]
    },
    {
     "name": "stdout",
     "output_type": "stream",
     "text": [
      "The dataset comprises public domain data on flight delays in Australia's domestic aviation market, covering 21 major routes linking state capitals from January 2004 to December 2015. It includes information from various airlines such as Qantas, Jetstar, and Virgin, focusing on the number of delayed flights relative to scheduled flights.\n"
     ]
    },
    {
     "name": "stderr",
     "output_type": "stream",
     "text": [
      "  0%|          | 23/10990 [00:33<4:53:01,  1.60s/it]"
     ]
    },
    {
     "name": "stdout",
     "output_type": "stream",
     "text": [
      "This study uses semi-structured interviews with experts from academia, industry, and government in the United States to explore the impacts of connected and automated vehicles (C/AVs) on active travel, specifically walking and cycling. The interviews aim to identify potential synergies and conflicts between C/AVs and active travel, as well as planning and policy priorities for integrating these technologies into transportation networks.\n"
     ]
    },
    {
     "name": "stderr",
     "output_type": "stream",
     "text": [
      "  0%|          | 24/10990 [00:34<4:36:14,  1.51s/it]"
     ]
    },
    {
     "name": "stdout",
     "output_type": "stream",
     "text": [
      "The data source for this paper includes real-world data on tax revenues from fuel and vehicle taxation in OECD countries, as well as data on transportation systems and the implications of ACES on public finance.\n"
     ]
    },
    {
     "name": "stderr",
     "output_type": "stream",
     "text": [
      "  0%|          | 25/10990 [00:35<4:12:46,  1.38s/it]"
     ]
    },
    {
     "name": "stdout",
     "output_type": "stream",
     "text": [
      "The data source consists of empirical traffic data collected over five years from loop detectors and Bluetooth sensors on an arterial road in Fort Myers, Florida, specifically during sporting events.\n"
     ]
    },
    {
     "name": "stderr",
     "output_type": "stream",
     "text": [
      "  0%|          | 26/10990 [00:36<3:52:48,  1.27s/it]"
     ]
    },
    {
     "name": "stdout",
     "output_type": "stream",
     "text": [
      "The data source consists of qualitative interviews conducted with city dwellers from Singapore and London to understand their transportation choices and experiences in relation to their respective city cultures and transport policies.\n"
     ]
    },
    {
     "name": "stderr",
     "output_type": "stream",
     "text": [
      "  0%|          | 27/10990 [00:38<4:03:40,  1.33s/it]"
     ]
    },
    {
     "name": "stdout",
     "output_type": "stream",
     "text": [
      "The data source consists of self-reported survey data collected from riders of various types of two-wheelers in Shanghai, including e-bikes, traditional bicycles, e-scooters, and motorized two-wheelers. The study focuses on the frequency of risky riding behaviors among these groups.\n"
     ]
    },
    {
     "name": "stderr",
     "output_type": "stream",
     "text": [
      "  0%|          | 28/10990 [00:39<4:06:17,  1.35s/it]"
     ]
    },
    {
     "name": "stdout",
     "output_type": "stream",
     "text": [
      "The data source consists of aggregate cycling data collected from the Strava app, which includes information on bicycle trips in Dresden, Germany. This data is used to analyze cycling behavior and route choice models.\n"
     ]
    },
    {
     "name": "stderr",
     "output_type": "stream",
     "text": [
      "  0%|          | 29/10990 [00:41<4:05:35,  1.34s/it]"
     ]
    },
    {
     "name": "stdout",
     "output_type": "stream",
     "text": [
      "The data source for this study includes qualitative interviews, office attendance data, and travel survey data collected by Transport for London (TfL) before and after the London 2012 Olympics, focusing on travel behaviour changes due to the TDM programme.\n"
     ]
    },
    {
     "name": "stderr",
     "output_type": "stream",
     "text": [
      "  0%|          | 30/10990 [00:42<4:12:01,  1.38s/it]"
     ]
    },
    {
     "name": "stdout",
     "output_type": "stream",
     "text": [
      "The data source consists of crash data obtained from the Critical Analysis Reporting Environment (CARE), developed by the Center for Advanced Public Safety (CAPS) at the University of Alabama. This dataset includes fatal and incapacitating injury crashes in Alabama from 2009 to 2013, focusing on driver characteristics and regional attributes to analyze crash outcomes.\n"
     ]
    },
    {
     "name": "stderr",
     "output_type": "stream",
     "text": [
      "  0%|          | 31/10990 [00:44<4:19:11,  1.42s/it]"
     ]
    },
    {
     "name": "stdout",
     "output_type": "stream",
     "text": [
      "The data source for this study consists of real-world traffic crash data collected from two and four-lane urban and rural highways, focusing on the effects of geometric, environmental, and demographic factors on crash occurrences.\n"
     ]
    },
    {
     "name": "stderr",
     "output_type": "stream",
     "text": [
      "  0%|          | 32/10990 [00:45<4:19:05,  1.42s/it]"
     ]
    },
    {
     "name": "stdout",
     "output_type": "stream",
     "text": [
      "The data source consists of real-world urbanization and motorization indicators collected from 287 Chinese prefectural cities over a period from 2001 to 2014, along with qualitative transportation policy documents from selected cities representing distinct clusters identified through time-series clustering analysis.\n"
     ]
    },
    {
     "name": "stderr",
     "output_type": "stream",
     "text": [
      "  0%|          | 33/10990 [00:46<4:03:14,  1.33s/it]"
     ]
    },
    {
     "name": "stdout",
     "output_type": "stream",
     "text": [
      "The data source for this study is derived from a controlled high-fidelity driving simulator experiment designed to replicate real driving conditions and assess driver responses to sudden unintended acceleration (SUA) events.\n"
     ]
    },
    {
     "name": "stderr",
     "output_type": "stream",
     "text": [
      "  0%|          | 34/10990 [00:50<6:40:19,  2.19s/it]"
     ]
    },
    {
     "name": "stdout",
     "output_type": "stream",
     "text": [
      "The data source consists of weather information obtained from the National Oceanic and Atmospheric Administration (NOAA) Rapid Refresh Products (RAP) weather files, which provide a three-dimensional grid of atmospheric conditions over the continental United States (CONUS). This data is used to analyze the potential for mitigating contrail formation by adjusting flight levels of aircraft in relation to ice super saturated (ISS) regions.\n"
     ]
    },
    {
     "name": "stderr",
     "output_type": "stream",
     "text": [
      "  0%|          | 35/10990 [00:52<6:31:37,  2.14s/it]"
     ]
    },
    {
     "name": "stdout",
     "output_type": "stream",
     "text": [
      "The data source consists of traffic crash reports collected from various traffic offices in the Kurdistan Region of Iraq (KRI), including reports from the General Directorate of Traffic, Forensic Medical Institute, and KRSO. These reports include information about victims, drivers, vehicles, crash locations, and conditions, but are noted to be rudimentary compared to developed countries.\n"
     ]
    },
    {
     "name": "stderr",
     "output_type": "stream",
     "text": [
      "  0%|          | 36/10990 [00:54<5:47:32,  1.90s/it]"
     ]
    },
    {
     "name": "stdout",
     "output_type": "stream",
     "text": [
      "The data source consists of a unique compilation of CEO profiles from the world's largest 100 airlines, including both primary data from interviews and secondary data from publicly available sources.\n"
     ]
    },
    {
     "name": "stderr",
     "output_type": "stream",
     "text": [
      "  0%|          | 37/10990 [00:55<5:16:08,  1.73s/it]"
     ]
    },
    {
     "name": "stdout",
     "output_type": "stream",
     "text": [
      "The data source consists of primary and secondary data collected through semi-structured interviews and literature review, focusing on the logistics environment and supply chain requirements for perishable agricultural goods in the Kyrgyz Republic.\n"
     ]
    },
    {
     "name": "stderr",
     "output_type": "stream",
     "text": [
      "  0%|          | 38/10990 [00:56<4:56:25,  1.62s/it]"
     ]
    },
    {
     "name": "stdout",
     "output_type": "stream",
     "text": [
      "The data source consists of visibility ratings collected from workers in a real-world setting, specifically from a health and safety training facility where participants evaluated visibility around construction equipment.\n"
     ]
    },
    {
     "name": "stderr",
     "output_type": "stream",
     "text": [
      "  0%|          | 39/10990 [00:57<4:14:03,  1.39s/it]"
     ]
    },
    {
     "name": "stdout",
     "output_type": "stream",
     "text": [
      "The data source is derived from a survey conducted with eighty-nine participants to assess their perceptions of vehicle designs as faces and their correlation with aggressive driving behaviors.\n"
     ]
    },
    {
     "name": "stderr",
     "output_type": "stream",
     "text": [
      "  0%|          | 40/10990 [00:59<4:08:51,  1.36s/it]"
     ]
    },
    {
     "name": "stdout",
     "output_type": "stream",
     "text": [
      "The data source consists of questionnaire survey responses collected from public transport users in Metro Manila, focusing on their perceived risks during flood events.\n"
     ]
    },
    {
     "name": "stderr",
     "output_type": "stream",
     "text": [
      "  0%|          | 41/10990 [01:00<4:10:51,  1.37s/it]"
     ]
    },
    {
     "name": "stdout",
     "output_type": "stream",
     "text": [
      "The data source consists of real-world data collected from case studies in Belgium, focusing on the operational factors and policy levers affecting consolidation-based freight transport systems, particularly in intermodal transport.\n"
     ]
    },
    {
     "name": "stderr",
     "output_type": "stream",
     "text": [
      "  0%|          | 42/10990 [01:01<4:08:27,  1.36s/it]"
     ]
    },
    {
     "name": "stdout",
     "output_type": "stream",
     "text": [
      "The data source consists of empirical observations of bus passenger boarding and alighting times collected from King County Metro in Seattle, Washington, using Automatic Passenger Counting (APC) and Automatic Vehicle Location (AVL) systems.\n"
     ]
    },
    {
     "name": "stderr",
     "output_type": "stream",
     "text": [
      "  0%|          | 43/10990 [01:03<4:01:07,  1.32s/it]"
     ]
    },
    {
     "name": "stdout",
     "output_type": "stream",
     "text": [
      "The data source consists of real-world data collected through extensive interviews and questionnaire surveys targeting three-wheeler drivers in three cities in Sri Lanka. This data aims to analyze the social capital factors affecting drivers' life satisfaction and the overall condition of the three-wheeler industry.\n",
      "No data context found\n"
     ]
    },
    {
     "name": "stderr",
     "output_type": "stream",
     "text": [
      "  0%|          | 45/10990 [01:04<3:23:11,  1.11s/it]"
     ]
    },
    {
     "name": "stdout",
     "output_type": "stream",
     "text": [
      "The data source consists of real-world car sharing use data collected from 24Rent, a car sharing operator in Finland, along with urban form and mobility pattern monitoring data from the Finnish Environment Institute. This data includes the number of car sharing trips, their lengths, and demographic information related to urban zones.\n"
     ]
    },
    {
     "name": "stderr",
     "output_type": "stream",
     "text": [
      "  0%|          | 46/10990 [01:07<4:23:03,  1.44s/it]"
     ]
    },
    {
     "name": "stdout",
     "output_type": "stream",
     "text": [
      "The data source consists of archived Intelligent Transportation Systems (ITS) transit data, including Automatic Vehicle Location (AVL), Automatic Passenger Counters (APC), and Automatic Fare Card (AFC) data, as well as real-time subway and bus data from the Metropolitan Transportation Authority (MTA) in New York City, published in General Transit Feed Specifications (GTFS-R) and Service Interface for Real Time Information (SIRI) formats.\n"
     ]
    },
    {
     "name": "stderr",
     "output_type": "stream",
     "text": [
      "  0%|          | 47/10990 [01:08<4:21:47,  1.44s/it]"
     ]
    },
    {
     "name": "stdout",
     "output_type": "stream",
     "text": [
      "The data source consists of various quantitative recovery-focused civil infrastructure system (CIS) models that analyze population displacement due to natural disasters, incorporating both real-world data and simulation data to evaluate infrastructure interdependencies and recovery timelines.\n"
     ]
    },
    {
     "name": "stderr",
     "output_type": "stream",
     "text": [
      "  0%|          | 48/10990 [01:10<4:37:38,  1.52s/it]"
     ]
    },
    {
     "name": "stdout",
     "output_type": "stream",
     "text": [
      "The data source consists of primary data collected through surveys to evaluate pedestrian speed influenced by various factors such as age group, gender, group size, and trip purpose.\n"
     ]
    },
    {
     "name": "stderr",
     "output_type": "stream",
     "text": [
      "  0%|          | 49/10990 [01:11<4:18:22,  1.42s/it]"
     ]
    },
    {
     "name": "stdout",
     "output_type": "stream",
     "text": [
      "The data source consists of responses collected from high school students participating in an evaluation study of a serious game designed to improve knowledge, attitude, and willingness to use mobility on demand systems (MODS).\n"
     ]
    },
    {
     "name": "stderr",
     "output_type": "stream",
     "text": [
      "  0%|          | 50/10990 [01:13<4:30:05,  1.48s/it]"
     ]
    },
    {
     "name": "stdout",
     "output_type": "stream",
     "text": [
      "The Pikalert® system integrates real-time weather information and data from connected vehicles to enhance the safety and efficiency of surface transportation systems. It utilizes a combination of observational and model data, employing expert systems and machine learning algorithms for data processing and forecasting.\n"
     ]
    },
    {
     "name": "stderr",
     "output_type": "stream",
     "text": [
      "  0%|          | 51/10990 [01:14<4:15:28,  1.40s/it]"
     ]
    },
    {
     "name": "stdout",
     "output_type": "stream",
     "text": [
      "The data source consists of real estate market valuation data and Census data collected from Sydney, Australia, focusing on property prices in relation to the proximity of new transport infrastructure.\n"
     ]
    },
    {
     "name": "stderr",
     "output_type": "stream",
     "text": [
      "  0%|          | 52/10990 [01:15<4:06:36,  1.35s/it]"
     ]
    },
    {
     "name": "stdout",
     "output_type": "stream",
     "text": [
      "The data source for this study consists of experimental data collected from drivers interacting with different Human-Machine Interfaces (HMIs) designed to support cooperative driving scenarios. The data includes driver responses, performance metrics, and subjective assessments of the HMI effectiveness in facilitating cooperation during driving maneuvers.\n"
     ]
    },
    {
     "name": "stderr",
     "output_type": "stream",
     "text": [
      "  0%|          | 53/10990 [01:17<4:33:36,  1.50s/it]"
     ]
    },
    {
     "name": "stdout",
     "output_type": "stream",
     "text": [
      "The data source consists of both real-world incident data and simulation data derived from mechanical models and FEM simulations to assess aircraft part failures during hazardous conditions.\n"
     ]
    },
    {
     "name": "stderr",
     "output_type": "stream",
     "text": [
      "  0%|          | 54/10990 [01:18<4:14:42,  1.40s/it]"
     ]
    },
    {
     "name": "stdout",
     "output_type": "stream",
     "text": [
      "The data source for this study consists of peer-reviewed articles retrieved from major biomedical and health databases, specifically MEDLINE, EMBASE, and CINAHL, which provide real-world data on the outcomes of adult trauma patients following road traffic crashes.\n"
     ]
    },
    {
     "name": "stderr",
     "output_type": "stream",
     "text": [
      "  1%|          | 55/10990 [01:19<4:09:32,  1.37s/it]"
     ]
    },
    {
     "name": "stdout",
     "output_type": "stream",
     "text": [
      "The data source consists of real-world commuting data for employees of the Oak Ridge National Laboratory (ORNL), including employee residences by zip code, and associated geographic and transportation data used to analyze commuting patterns and develop a commuting program.\n"
     ]
    },
    {
     "name": "stderr",
     "output_type": "stream",
     "text": [
      "  1%|          | 56/10990 [01:21<4:33:17,  1.50s/it]"
     ]
    },
    {
     "name": "stdout",
     "output_type": "stream",
     "text": [
      "The data source consists of various geographic and environmental datasets used to analyze critical road segments in Volusia County, Florida, particularly in the context of post-disaster scenarios such as flooding from hurricanes. The datasets include road network shapefiles, land cover data, impervious surface data, and building footprint data, all of which are essential for understanding the infrastructure and its vulnerability during extreme weather events.\n"
     ]
    },
    {
     "name": "stderr",
     "output_type": "stream",
     "text": [
      "  1%|          | 57/10990 [01:23<4:59:41,  1.64s/it]"
     ]
    },
    {
     "name": "stdout",
     "output_type": "stream",
     "text": [
      "The data source for this study is derived from satellite images analyzed through object-based image analysis to identify zones with high potential for trip generation in João Pessoa, Brazil. This approach integrates remote sensing techniques to assess land use and land cover changes, which are then correlated with urban trip generation data.\n"
     ]
    },
    {
     "name": "stderr",
     "output_type": "stream",
     "text": [
      "  1%|          | 58/10990 [01:24<4:31:28,  1.49s/it]"
     ]
    },
    {
     "name": "stdout",
     "output_type": "stream",
     "text": [
      "The data source for this study consists of survey responses collected from airline passengers in the United States, focusing on their preferences between legacy and low-cost carriers.\n"
     ]
    },
    {
     "name": "stderr",
     "output_type": "stream",
     "text": [
      "  1%|          | 59/10990 [01:26<4:31:46,  1.49s/it]"
     ]
    },
    {
     "name": "stdout",
     "output_type": "stream",
     "text": [
      "The data source consists of survey responses and interviews conducted with management level employees in the Plaine Saint-Denis business district, focusing on their commuting patterns and scheduling choices.\n"
     ]
    },
    {
     "name": "stderr",
     "output_type": "stream",
     "text": [
      "  1%|          | 60/10990 [01:27<4:14:00,  1.39s/it]"
     ]
    },
    {
     "name": "stdout",
     "output_type": "stream",
     "text": [
      "The data source consists of simulation results derived from the microscopic simulation software INTEGRATION, which models traffic flow and vehicle behavior at isolated intersections under various conditions.\n"
     ]
    },
    {
     "name": "stderr",
     "output_type": "stream",
     "text": [
      "  1%|          | 61/10990 [01:28<4:13:33,  1.39s/it]"
     ]
    },
    {
     "name": "stdout",
     "output_type": "stream",
     "text": [
      "This study examines the impact of editorial patterns in traffic crash reporting on public perceptions of road safety, using an experimental design with human subjects.\n"
     ]
    },
    {
     "name": "stderr",
     "output_type": "stream",
     "text": [
      "  1%|          | 62/10990 [01:29<3:54:48,  1.29s/it]"
     ]
    },
    {
     "name": "stdout",
     "output_type": "stream",
     "text": [
      "The data source consists of experimental data collected from a driving simulator study involving participants' performance in driving tasks and their scores on various cognitive measures related to attention, inhibition, and working memory.\n"
     ]
    },
    {
     "name": "stderr",
     "output_type": "stream",
     "text": [
      "  1%|          | 63/10990 [01:34<7:02:41,  2.32s/it]"
     ]
    },
    {
     "name": "stdout",
     "output_type": "stream",
     "text": [
      "The data source consists of large-scale travel time data collected anonymously from various technological devices such as GPS, sensors, and smartphones. This data is used to analyze and develop link-level travel time measures for assessing the level of service (LOS) on urban road links in Charlotte, North Carolina.\n"
     ]
    },
    {
     "name": "stderr",
     "output_type": "stream",
     "text": [
      "  1%|          | 64/10990 [01:36<6:25:33,  2.12s/it]"
     ]
    },
    {
     "name": "stdout",
     "output_type": "stream",
     "text": [
      "The data source for this study is derived from real-world observations and analyses of the road transport system in Queensland, Australia, focusing on crash contributory factors and potential interventions for road safety.\n"
     ]
    },
    {
     "name": "stderr",
     "output_type": "stream",
     "text": [
      "  1%|          | 65/10990 [01:37<5:48:26,  1.91s/it]"
     ]
    },
    {
     "name": "stdout",
     "output_type": "stream",
     "text": [
      "The data source consists of GPS data collected from a fleet of class six delivery trucks operated by a major parcel delivery company in Columbus, Ohio. The data includes vehicle speed, local time and date, longitude and latitude, fuel consumption, coolant temperature, and engine speed, which were used to analyze delivery patterns and develop a freight delivery demand estimation model.\n"
     ]
    },
    {
     "name": "stderr",
     "output_type": "stream",
     "text": [
      "  1%|          | 66/10990 [01:39<5:14:45,  1.73s/it]"
     ]
    },
    {
     "name": "stdout",
     "output_type": "stream",
     "text": [
      "Data collected to understand the characteristics, costs, frequencies, and acceptability of rural transport services in Ghana, focusing on motorcycle taxis and public transport services.\n"
     ]
    },
    {
     "name": "stderr",
     "output_type": "stream",
     "text": [
      "  1%|          | 67/10990 [01:40<5:17:01,  1.74s/it]"
     ]
    },
    {
     "name": "stdout",
     "output_type": "stream",
     "text": [
      "The data source consists of real-time passenger information and communication data collected from the TravelBot system, which interacts with users on Twitter to provide updates on public transport disruptions and service changes.\n"
     ]
    },
    {
     "name": "stderr",
     "output_type": "stream",
     "text": [
      "  1%|          | 68/10990 [01:42<4:52:42,  1.61s/it]"
     ]
    },
    {
     "name": "stdout",
     "output_type": "stream",
     "text": [
      "This research utilizes real-world data collected from user-generated Yelp business reviews and parking supply data at the parcel level in the Phoenix, Arizona region to analyze customer sentiment towards parking and its association with business ratings.\n"
     ]
    },
    {
     "name": "stderr",
     "output_type": "stream",
     "text": [
      "  1%|          | 69/10990 [01:44<5:32:25,  1.83s/it]"
     ]
    },
    {
     "name": "stdout",
     "output_type": "stream",
     "text": [
      "The data source for this study includes qualitative and quantitative data collected from focus group meetings, telephone interviews with users, and chart audits of an existing adapted driver education program.\n"
     ]
    },
    {
     "name": "stderr",
     "output_type": "stream",
     "text": [
      "  1%|          | 70/10990 [01:45<5:02:18,  1.66s/it]"
     ]
    },
    {
     "name": "stdout",
     "output_type": "stream",
     "text": [
      "The data source consists of eye and head movement data collected from drivers in both a driving simulator and naturalistic driving conditions, using various eye-tracking and motion capture technologies.\n"
     ]
    },
    {
     "name": "stderr",
     "output_type": "stream",
     "text": [
      "  1%|          | 71/10990 [01:47<4:44:22,  1.56s/it]"
     ]
    },
    {
     "name": "stdout",
     "output_type": "stream",
     "text": [
      "The data source consists of numerical simulations and experimental data related to traffic flows and air quality in city tunnels, focusing on the interaction between vehicle emissions and airflow dynamics.\n"
     ]
    },
    {
     "name": "stderr",
     "output_type": "stream",
     "text": [
      "  1%|          | 72/10990 [01:48<4:40:42,  1.54s/it]"
     ]
    },
    {
     "name": "stdout",
     "output_type": "stream",
     "text": [
      "The data source consists of a systematic literature review of 111 interdisciplinary publications discussing the socio-technical aspects of civil drones for transportation purposes, focusing on barriers, problems, solutions, and benefits associated with their use.\n"
     ]
    },
    {
     "name": "stderr",
     "output_type": "stream",
     "text": [
      "  1%|          | 73/10990 [01:49<4:28:19,  1.47s/it]"
     ]
    },
    {
     "name": "stdout",
     "output_type": "stream",
     "text": [
      "The data source for this study is derived from workshops conducted with children and young people aged 8-18, utilizing Lego™ to capture their views and perceptions regarding Mobility as a Service (MaaS).\n"
     ]
    },
    {
     "name": "stderr",
     "output_type": "stream",
     "text": [
      "  1%|          | 74/10990 [01:51<4:18:00,  1.42s/it]"
     ]
    },
    {
     "name": "stdout",
     "output_type": "stream",
     "text": [
      "Data collected from surveys conducted among commuters in three urban cities in Metro Cebu, Philippines, focusing on their transport mode choices and the factors influencing these choices.\n"
     ]
    },
    {
     "name": "stderr",
     "output_type": "stream",
     "text": [
      "  1%|          | 75/10990 [01:52<4:13:03,  1.39s/it]"
     ]
    },
    {
     "name": "stdout",
     "output_type": "stream",
     "text": [
      "The data source consists of annual data on the quantity of crude oil, petroleum products, and dry cargo transported by sea, as well as world GDP and oil prices, sourced from UNCTAD and the World Bank.\n"
     ]
    },
    {
     "name": "stderr",
     "output_type": "stream",
     "text": [
      "  1%|          | 76/10990 [01:53<4:15:22,  1.40s/it]"
     ]
    },
    {
     "name": "stdout",
     "output_type": "stream",
     "text": [
      "The data source consists of real-world data collected from various European airlines regarding their implementation of Fatigue Risk Management Systems (FRMS), including operational metrics, crew duty times, rest durations, and safety performance indicators. This data is used to analyze the effectiveness and bureaucratic implications of FRMS in managing crew fatigue.\n"
     ]
    },
    {
     "name": "stderr",
     "output_type": "stream",
     "text": [
      "  1%|          | 77/10990 [01:55<4:39:25,  1.54s/it]"
     ]
    },
    {
     "name": "stdout",
     "output_type": "stream",
     "text": [
      "The data source consists of real-world evaluations of pavement conditions in the state of Paraná, Brazil, using the Pavement Condition Index (PCI) method. The study involved both objective and subjective assessments of pavement defects, which were analyzed and visualized using GIS software.\n"
     ]
    },
    {
     "name": "stderr",
     "output_type": "stream",
     "text": [
      "  1%|          | 78/10990 [01:57<4:39:11,  1.54s/it]"
     ]
    },
    {
     "name": "stdout",
     "output_type": "stream",
     "text": [
      "The data source consists of survey results from consumers and car sellers in The Netherlands regarding their knowledge and information about Advanced Driver Assistance Systems (ADAS).\n"
     ]
    },
    {
     "name": "stderr",
     "output_type": "stream",
     "text": [
      "  1%|          | 79/10990 [01:58<4:17:00,  1.41s/it]"
     ]
    },
    {
     "name": "stdout",
     "output_type": "stream",
     "text": [
      "The data source for this study consists of qualitative data collected from five real-world transport infrastructure planning projects in Sweden, focusing on collaborative planning and design work among professionals from different disciplines.\n"
     ]
    },
    {
     "name": "stderr",
     "output_type": "stream",
     "text": [
      "  1%|          | 80/10990 [01:59<4:01:17,  1.33s/it]"
     ]
    },
    {
     "name": "stdout",
     "output_type": "stream",
     "text": [
      "The data source consists of cognitive task performance and on-road driving test results from older adult participants, collected to evaluate driving safety and cognitive decline.\n"
     ]
    },
    {
     "name": "stderr",
     "output_type": "stream",
     "text": [
      "  1%|          | 81/10990 [02:00<3:50:24,  1.27s/it]"
     ]
    },
    {
     "name": "stdout",
     "output_type": "stream",
     "text": [
      "The data source consists of real-world data collected from a Brazilian city's transport system, including GHG emissions measurements and urban mobility project assessments.\n"
     ]
    },
    {
     "name": "stderr",
     "output_type": "stream",
     "text": [
      "  1%|          | 82/10990 [02:01<3:44:23,  1.23s/it]"
     ]
    },
    {
     "name": "stdout",
     "output_type": "stream",
     "text": [
      "The data source consists of real-world data collected from various countries in Asia, specifically Indonesia, Malaysia, and Vietnam, focusing on gasoline and diesel supply policies and fuel quality management.\n"
     ]
    },
    {
     "name": "stderr",
     "output_type": "stream",
     "text": [
      "  1%|          | 83/10990 [02:03<3:53:25,  1.28s/it]"
     ]
    },
    {
     "name": "stdout",
     "output_type": "stream",
     "text": [
      "The data source consists of over 1.6 million GPS coordinates collected from bikeshare users in Baltimore City over a four-month period, used to analyze bike route usage and identify potential new bike station locations.\n"
     ]
    },
    {
     "name": "stderr",
     "output_type": "stream",
     "text": [
      "  1%|          | 84/10990 [02:04<3:51:11,  1.27s/it]"
     ]
    },
    {
     "name": "stdout",
     "output_type": "stream",
     "text": [
      "This data source consists of original observational data collected on the parking practices and violations of e-scooters, bikes, and motor vehicles in various cities, focusing on their impact on sidewalk and roadway access.\n"
     ]
    },
    {
     "name": "stderr",
     "output_type": "stream",
     "text": [
      "  1%|          | 85/10990 [02:06<4:27:10,  1.47s/it]"
     ]
    },
    {
     "name": "stdout",
     "output_type": "stream",
     "text": [
      "The data source consists of real-world data collected from motor vehicle collision (MVC) incidents, focusing on the economic costs associated with injuries, compensation estimates, and various factors influencing the severity of collisions. This includes detailed statistics on occupant demographics, vehicle characteristics, environmental conditions, and crash types, as well as the expected compensation costs (ECCs) linked to injuries sustained in these incidents.\n"
     ]
    },
    {
     "name": "stderr",
     "output_type": "stream",
     "text": [
      "  1%|          | 86/10990 [02:07<4:13:36,  1.40s/it]"
     ]
    },
    {
     "name": "stdout",
     "output_type": "stream",
     "text": [
      "The data source consists of real-world observations and experiments conducted over 39 months to assess the nesting behavior of the mud-nesting keyhole wasp in aircraft pitot probes at Brisbane Airport, along with risk analysis and climate modeling.\n"
     ]
    },
    {
     "name": "stderr",
     "output_type": "stream",
     "text": [
      "  1%|          | 87/10990 [02:09<4:18:16,  1.42s/it]"
     ]
    },
    {
     "name": "stdout",
     "output_type": "stream",
     "text": [
      "This study reviews emerging data sources for monitoring non-motorized travel, categorizing them into mode-unspecified and mode-specified data, and discusses their applications, challenges, and potential for enhancing travel data accuracy and comprehensiveness.\n"
     ]
    },
    {
     "name": "stderr",
     "output_type": "stream",
     "text": [
      "  1%|          | 88/10990 [02:10<4:05:34,  1.35s/it]"
     ]
    },
    {
     "name": "stdout",
     "output_type": "stream",
     "text": [
      "Data collected from an intercept survey of travelers on a university campus to investigate pedestrian-cyclist interactions, safety perceptions, and experienced incidents.\n"
     ]
    },
    {
     "name": "stderr",
     "output_type": "stream",
     "text": [
      "  1%|          | 89/10990 [02:11<3:47:38,  1.25s/it]"
     ]
    },
    {
     "name": "stdout",
     "output_type": "stream",
     "text": [
      "The data source for this study includes physiological measurements (heart rate) and subjective evaluations (surveys) collected from real drivers during a driving test on different types of highway medians.\n"
     ]
    },
    {
     "name": "stderr",
     "output_type": "stream",
     "text": [
      "  1%|          | 90/10990 [02:13<4:08:37,  1.37s/it]"
     ]
    },
    {
     "name": "stdout",
     "output_type": "stream",
     "text": [
      "The data source consists of real-world transportation demand data collected from various publicly available sources, including flight data from airlines and traffic statistics from the California Department of Transportation. This data is used to estimate the number of passengers traveling between Los Angeles and San Francisco by air and road, which is critical for developing a simulation model for the Hyperloop system.\n"
     ]
    },
    {
     "name": "stderr",
     "output_type": "stream",
     "text": [
      "  1%|          | 91/10990 [02:14<4:06:52,  1.36s/it]"
     ]
    },
    {
     "name": "stdout",
     "output_type": "stream",
     "text": [
      "The data source consists of real-world driving data collected from vehicles equipped with the WICE system, which logs various parameters during naturalistic driving cycles to analyze the usage of Automated Driver Assistance Systems (ADAS) under different driving contexts.\n"
     ]
    },
    {
     "name": "stderr",
     "output_type": "stream",
     "text": [
      "  1%|          | 92/10990 [02:15<4:11:02,  1.38s/it]"
     ]
    },
    {
     "name": "stdout",
     "output_type": "stream",
     "text": [
      "The data source consists of survey responses collected from adolescents regarding their attitudes and intentions towards safe driving practices and the use of smartphone-based driving safety technology.\n"
     ]
    },
    {
     "name": "stderr",
     "output_type": "stream",
     "text": [
      "  1%|          | 93/10990 [02:16<4:02:12,  1.33s/it]"
     ]
    },
    {
     "name": "stdout",
     "output_type": "stream",
     "text": [
      "This paper reviews and synthesizes existing methodologies for assessing the equity of emerging transportation technologies, focusing on accessibility, traffic emissions, and safety outcomes.\n"
     ]
    },
    {
     "name": "stderr",
     "output_type": "stream",
     "text": [
      "  1%|          | 94/10990 [02:18<3:59:38,  1.32s/it]"
     ]
    },
    {
     "name": "stdout",
     "output_type": "stream",
     "text": [
      "The data source is the United Kingdom Time Use Survey, which collects information on how individuals allocate their time across various activities over a two-day period. It includes demographic data and subjective well-being ratings for different activities.\n"
     ]
    },
    {
     "name": "stderr",
     "output_type": "stream",
     "text": [
      "  1%|          | 95/10990 [02:19<3:51:35,  1.28s/it]"
     ]
    },
    {
     "name": "stdout",
     "output_type": "stream",
     "text": [
      "The data source consists of qualitative data collected from focus groups of vulnerable populations affected by California wildfires, exploring their perspectives on the sharing economy's role in evacuation scenarios.\n"
     ]
    },
    {
     "name": "stderr",
     "output_type": "stream",
     "text": [
      "  1%|          | 96/10990 [02:20<3:54:41,  1.29s/it]"
     ]
    },
    {
     "name": "stdout",
     "output_type": "stream",
     "text": [
      "The data source consists of experimental data collected from a driving simulator where participants made decisions under time pressure regarding which group of pedestrians to avoid. The study analyzed drivers' eye movements and ethical decision-making in simulated scenarios that mimic real-world driving situations.\n"
     ]
    },
    {
     "name": "stderr",
     "output_type": "stream",
     "text": [
      "  1%|          | 97/10990 [02:22<4:13:24,  1.40s/it]"
     ]
    },
    {
     "name": "stdout",
     "output_type": "stream",
     "text": [
      "The data source consists of a stated preference survey designed to explore individuals' attitudes and perceptions regarding the renting of personal vehicles in peer-to-peer carsharing. The survey collected socio-demographic information, travel behavior, and travel patterns from respondents.\n"
     ]
    },
    {
     "name": "stderr",
     "output_type": "stream",
     "text": [
      "  1%|          | 98/10990 [02:23<3:48:58,  1.26s/it]"
     ]
    },
    {
     "name": "stdout",
     "output_type": "stream",
     "text": [
      "The data source for this study is primarily simulation data generated from an agent-based model designed to assess vulnerabilities at airport security checkpoints. The model incorporates human behavior and decision-making processes of security operators, passengers, and potential attackers.\n"
     ]
    },
    {
     "name": "stderr",
     "output_type": "stream",
     "text": [
      "  1%|          | 99/10990 [02:24<3:39:38,  1.21s/it]"
     ]
    },
    {
     "name": "stdout",
     "output_type": "stream",
     "text": [
      "This study utilizes real-world data collected from surveys, interviews, and archival analysis of cities and transit agencies across Texas to examine the integration challenges between app-based, on-demand services and traditional fixed route transit services.\n"
     ]
    },
    {
     "name": "stderr",
     "output_type": "stream",
     "text": [
      "  1%|          | 100/10990 [02:25<3:57:08,  1.31s/it]"
     ]
    },
    {
     "name": "stdout",
     "output_type": "stream",
     "text": [
      "The data source includes real-world data collected from the automatic identification system (AIS) tracking the movement of ocean cruise ships globally, as well as data from the Centers for Disease Control and Prevention (CDC) regarding cruise ships affected by COVID-19.\n"
     ]
    },
    {
     "name": "stderr",
     "output_type": "stream",
     "text": [
      "  1%|          | 101/10990 [02:27<3:53:39,  1.29s/it]"
     ]
    },
    {
     "name": "stdout",
     "output_type": "stream",
     "text": [
      "The data source consists of origin and destination mobility surveys, high-resolution traffic assignment models, and emission models used to study air quality and CO2 emissions from on-road transportation in the Metropolitan Area of São Paulo (MASP).\n"
     ]
    }
   ],
   "source": [
    "import os\n",
    "from tqdm import tqdm\n",
    "data['source_description'] = ''\n",
    "data['real_world'] = ''\n",
    "data['simulation'] = ''\n",
    "data['dataset_size_description'] = ''\n",
    "data['data_collection_description'] = ''\n",
    "data['is_data_mentioned'] = 0\n",
    "if not os.path.exists(result_data_folder + '/data-description'):\n",
    "    os.makedirs(result_data_folder + '/data-description')\n",
    "for i in tqdm(range(len(data))):\n",
    "# for i in tqdm(range(10)):\n",
    "    # Initialize data context\n",
    "    data_context = ''\n",
    "    label = 0\n",
    "    try:\n",
    "        # Construct paths for journal and paper\n",
    "        journal_path = os.path.join(full_data_folder, data['issn'][i])\n",
    "        paper_path = os.path.join(journal_path, f\"{data['unique_id'][i]}.xml\")\n",
    "        \n",
    "        # get the abstract from the xml\n",
    "        abstract = extract_abstract_from_xml(paper_path)\n",
    "        if abstract:\n",
    "            # if \"data\" in abstract.lower():\n",
    "            if \"data\" in abstract.lower():\n",
    "                label = 1\n",
    "        data_context += abstract\n",
    "        # Extract and process sections from the paper XML\n",
    "        sections = extract_sections_and_text_from_xml(paper_path)\n",
    "        reorganized_sections = postprocess_sections(sections)\n",
    "\n",
    "        # Traverse the sections and collect data-related text\n",
    "        for section in reorganized_sections:\n",
    "            if 'data' in section['title'].lower():\n",
    "                data_context += section['text']\n",
    "                label = 1\n",
    "            for subsection in section.get('subsections', []):\n",
    "                if 'data' in subsection['title'].lower():\n",
    "                    data_context += subsection['text']\n",
    "                    label = 1\n",
    "                for subsubsection in subsection.get('subsubsections', []):\n",
    "                    if 'data' in subsubsection['title'].lower():\n",
    "                        data_context += subsubsection['text']\n",
    "                        label = 1\n",
    "    except KeyError as e:\n",
    "        print(f\"Missing key in data: {e}\")\n",
    "    except FileNotFoundError as e:\n",
    "        print(f\"File not found: {e}\")\n",
    "    except Exception as e:\n",
    "        print(f\"An error occurred: {e}\")\n",
    "    if len(data_context)>0:\n",
    "        response = analyze_with_openai(data_context)\n",
    "        # print(data['title'][i])\n",
    "        # print(response)\n",
    "        response = json.loads(response)\n",
    "        data.loc[i, 'source_description'] = response['source_description']\n",
    "        data.loc[i, 'real_world'] = response['real_world']\n",
    "        data.loc[i, 'simulation'] = response['simulation']\n",
    "        data.loc[i, 'dataset_size_description'] = response['details']['dataset_size_description']\n",
    "        data.loc[i, 'data_collection_description'] = response['details']['data_collection_description']\n",
    "        data.loc[i, 'is_data_mentioned'] = label\n",
    "        print(response['source_description'])\n",
    "        # combine the response with the data context as json file\n",
    "        data_description = {\n",
    "            \"data_context\": data_context,\n",
    "            \"data_source_description\": response\n",
    "        }\n",
    "        save_json(data_description, os.path.join(result_data_folder + '/data-description', f\"{data['unique_id'][i]}.json\"))\n",
    "    else:\n",
    "        print(\"No data context found\")  \n",
    "data.to_csv(os.path.join(full_data_folder, 'full-meta-dataset-data-descriptive.csv'), index=False)"
   ]
  },
  {
   "cell_type": "code",
   "execution_count": 9,
   "metadata": {},
   "outputs": [
    {
     "data": {
      "text/html": [
       "<div>\n",
       "<style scoped>\n",
       "    .dataframe tbody tr th:only-of-type {\n",
       "        vertical-align: middle;\n",
       "    }\n",
       "\n",
       "    .dataframe tbody tr th {\n",
       "        vertical-align: top;\n",
       "    }\n",
       "\n",
       "    .dataframe thead th {\n",
       "        text-align: right;\n",
       "    }\n",
       "</style>\n",
       "<table border=\"1\" class=\"dataframe\">\n",
       "  <thead>\n",
       "    <tr style=\"text-align: right;\">\n",
       "      <th></th>\n",
       "      <th>title</th>\n",
       "      <th>doi</th>\n",
       "      <th>volume</th>\n",
       "      <th>date</th>\n",
       "      <th>year</th>\n",
       "      <th>month</th>\n",
       "      <th>abstract</th>\n",
       "      <th>issn</th>\n",
       "      <th>journal_name</th>\n",
       "      <th>unique_id</th>\n",
       "      <th>...</th>\n",
       "      <th>is_availablity_statement</th>\n",
       "      <th>is_data_mentioned_in_section_title</th>\n",
       "      <th>is_experiment_mentioned_in_section_title</th>\n",
       "      <th>is_link_in_avaiablity_statement</th>\n",
       "      <th>num_of_links_in_avaiablity_statement</th>\n",
       "      <th>source_description</th>\n",
       "      <th>real_world</th>\n",
       "      <th>simulation</th>\n",
       "      <th>dataset_size_description</th>\n",
       "      <th>data_collection_description</th>\n",
       "    </tr>\n",
       "  </thead>\n",
       "  <tbody>\n",
       "    <tr>\n",
       "      <th>0</th>\n",
       "      <td>Decentralized network level adaptive signal co...</td>\n",
       "      <td>10.1016/j.trip.2019.100020</td>\n",
       "      <td>1</td>\n",
       "      <td>2019-06-01</td>\n",
       "      <td>2019</td>\n",
       "      <td>6</td>\n",
       "      <td>Adaptive traffic signal control systems are de...</td>\n",
       "      <td>2590-1982</td>\n",
       "      <td>TRIP</td>\n",
       "      <td>10.1016_j.trip.2019.100020</td>\n",
       "      <td>...</td>\n",
       "      <td>0</td>\n",
       "      <td>0</td>\n",
       "      <td>1</td>\n",
       "      <td>0</td>\n",
       "      <td>0</td>\n",
       "      <td>The data source for this study is primarily si...</td>\n",
       "      <td>False</td>\n",
       "      <td>True</td>\n",
       "      <td>False</td>\n",
       "      <td>False</td>\n",
       "    </tr>\n",
       "    <tr>\n",
       "      <th>1</th>\n",
       "      <td>Physical activity of electric bicycle users co...</td>\n",
       "      <td>10.1016/j.trip.2019.100017</td>\n",
       "      <td>1</td>\n",
       "      <td>2019-06-01</td>\n",
       "      <td>2019</td>\n",
       "      <td>6</td>\n",
       "      <td>Physical activity has been widely associated w...</td>\n",
       "      <td>2590-1982</td>\n",
       "      <td>TRIP</td>\n",
       "      <td>10.1016_j.trip.2019.100017</td>\n",
       "      <td>...</td>\n",
       "      <td>0</td>\n",
       "      <td>0</td>\n",
       "      <td>0</td>\n",
       "      <td>0</td>\n",
       "      <td>0</td>\n",
       "      <td>The data source for this study is a longitudin...</td>\n",
       "      <td>True</td>\n",
       "      <td>False</td>\n",
       "      <td>True</td>\n",
       "      <td>True</td>\n",
       "    </tr>\n",
       "    <tr>\n",
       "      <th>2</th>\n",
       "      <td>Increasing civil aviation capacity in China re...</td>\n",
       "      <td>10.1016/j.trip.2019.100005</td>\n",
       "      <td>1</td>\n",
       "      <td>2019-06-01</td>\n",
       "      <td>2019</td>\n",
       "      <td>6</td>\n",
       "      <td>China is the world's second largest aviation m...</td>\n",
       "      <td>2590-1982</td>\n",
       "      <td>TRIP</td>\n",
       "      <td>10.1016_j.trip.2019.100005</td>\n",
       "      <td>...</td>\n",
       "      <td>0</td>\n",
       "      <td>0</td>\n",
       "      <td>0</td>\n",
       "      <td>0</td>\n",
       "      <td>0</td>\n",
       "      <td>The data source for this study includes academ...</td>\n",
       "      <td>True</td>\n",
       "      <td>False</td>\n",
       "      <td>False</td>\n",
       "      <td>True</td>\n",
       "    </tr>\n",
       "    <tr>\n",
       "      <th>3</th>\n",
       "      <td>Progress or regress on gender equality: The ca...</td>\n",
       "      <td>10.1016/j.trip.2019.100009</td>\n",
       "      <td>1</td>\n",
       "      <td>2019-06-01</td>\n",
       "      <td>2019</td>\n",
       "      <td>6</td>\n",
       "      <td>This paper examines the role of vocational edu...</td>\n",
       "      <td>2590-1982</td>\n",
       "      <td>TRIP</td>\n",
       "      <td>10.1016_j.trip.2019.100009</td>\n",
       "      <td>...</td>\n",
       "      <td>0</td>\n",
       "      <td>1</td>\n",
       "      <td>0</td>\n",
       "      <td>0</td>\n",
       "      <td>0</td>\n",
       "      <td>The data for this research paper was collected...</td>\n",
       "      <td>True</td>\n",
       "      <td>False</td>\n",
       "      <td>False</td>\n",
       "      <td>True</td>\n",
       "    </tr>\n",
       "    <tr>\n",
       "      <th>4</th>\n",
       "      <td>Multiobjective integrated signal-control syste...</td>\n",
       "      <td>10.1016/j.trip.2019.100011</td>\n",
       "      <td>1</td>\n",
       "      <td>2019-06-01</td>\n",
       "      <td>2019</td>\n",
       "      <td>6</td>\n",
       "      <td>Parameters concerning real-time, advanced traf...</td>\n",
       "      <td>2590-1982</td>\n",
       "      <td>TRIP</td>\n",
       "      <td>10.1016_j.trip.2019.100011</td>\n",
       "      <td>...</td>\n",
       "      <td>0</td>\n",
       "      <td>1</td>\n",
       "      <td>1</td>\n",
       "      <td>0</td>\n",
       "      <td>0</td>\n",
       "      <td>The data used in this study is generated throu...</td>\n",
       "      <td>False</td>\n",
       "      <td>True</td>\n",
       "      <td>True</td>\n",
       "      <td>True</td>\n",
       "    </tr>\n",
       "    <tr>\n",
       "      <th>...</th>\n",
       "      <td>...</td>\n",
       "      <td>...</td>\n",
       "      <td>...</td>\n",
       "      <td>...</td>\n",
       "      <td>...</td>\n",
       "      <td>...</td>\n",
       "      <td>...</td>\n",
       "      <td>...</td>\n",
       "      <td>...</td>\n",
       "      <td>...</td>\n",
       "      <td>...</td>\n",
       "      <td>...</td>\n",
       "      <td>...</td>\n",
       "      <td>...</td>\n",
       "      <td>...</td>\n",
       "      <td>...</td>\n",
       "      <td>...</td>\n",
       "      <td>...</td>\n",
       "      <td>...</td>\n",
       "      <td>...</td>\n",
       "      <td>...</td>\n",
       "    </tr>\n",
       "    <tr>\n",
       "      <th>10985</th>\n",
       "      <td>Energy savings and emissions reduction of BEVs...</td>\n",
       "      <td>10.1016/j.trd.2024.104403</td>\n",
       "      <td>136</td>\n",
       "      <td>2024-11-01</td>\n",
       "      <td>2024</td>\n",
       "      <td>11</td>\n",
       "      <td>Improving urban dwellers quality of life requi...</td>\n",
       "      <td>1361-9209</td>\n",
       "      <td>TRD</td>\n",
       "      <td>10.1016_j.trd.2024.104403</td>\n",
       "      <td>...</td>\n",
       "      <td>0</td>\n",
       "      <td>0</td>\n",
       "      <td>0</td>\n",
       "      <td>0</td>\n",
       "      <td>0</td>\n",
       "      <td></td>\n",
       "      <td></td>\n",
       "      <td></td>\n",
       "      <td></td>\n",
       "      <td></td>\n",
       "    </tr>\n",
       "    <tr>\n",
       "      <th>10986</th>\n",
       "      <td>Effects of 1.5 °C global warming on pavement c...</td>\n",
       "      <td>10.1016/j.trd.2024.104393</td>\n",
       "      <td>136</td>\n",
       "      <td>2024-11-01</td>\n",
       "      <td>2024</td>\n",
       "      <td>11</td>\n",
       "      <td>This study compared 11 global climate models (...</td>\n",
       "      <td>1361-9209</td>\n",
       "      <td>TRD</td>\n",
       "      <td>10.1016_j.trd.2024.104393</td>\n",
       "      <td>...</td>\n",
       "      <td>1</td>\n",
       "      <td>0</td>\n",
       "      <td>0</td>\n",
       "      <td>0</td>\n",
       "      <td>0</td>\n",
       "      <td></td>\n",
       "      <td></td>\n",
       "      <td></td>\n",
       "      <td></td>\n",
       "      <td></td>\n",
       "    </tr>\n",
       "    <tr>\n",
       "      <th>10987</th>\n",
       "      <td>Decarbonising transport: Can we rely on fuel t...</td>\n",
       "      <td>10.1016/j.trd.2024.104391</td>\n",
       "      <td>136</td>\n",
       "      <td>2024-11-01</td>\n",
       "      <td>2024</td>\n",
       "      <td>11</td>\n",
       "      <td>Although not without criticism, carbon pricing...</td>\n",
       "      <td>1361-9209</td>\n",
       "      <td>TRD</td>\n",
       "      <td>10.1016_j.trd.2024.104391</td>\n",
       "      <td>...</td>\n",
       "      <td>1</td>\n",
       "      <td>1</td>\n",
       "      <td>0</td>\n",
       "      <td>0</td>\n",
       "      <td>0</td>\n",
       "      <td></td>\n",
       "      <td></td>\n",
       "      <td></td>\n",
       "      <td></td>\n",
       "      <td></td>\n",
       "    </tr>\n",
       "    <tr>\n",
       "      <th>10988</th>\n",
       "      <td>Amphibian roadkill patterns in an Asian tropic...</td>\n",
       "      <td>10.1016/j.trd.2024.104396</td>\n",
       "      <td>136</td>\n",
       "      <td>2024-11-01</td>\n",
       "      <td>2024</td>\n",
       "      <td>11</td>\n",
       "      <td>Wildlife roadkills have emerged as one of the ...</td>\n",
       "      <td>1361-9209</td>\n",
       "      <td>TRD</td>\n",
       "      <td>10.1016_j.trd.2024.104396</td>\n",
       "      <td>...</td>\n",
       "      <td>1</td>\n",
       "      <td>1</td>\n",
       "      <td>0</td>\n",
       "      <td>0</td>\n",
       "      <td>0</td>\n",
       "      <td></td>\n",
       "      <td></td>\n",
       "      <td></td>\n",
       "      <td></td>\n",
       "      <td></td>\n",
       "    </tr>\n",
       "    <tr>\n",
       "      <th>10989</th>\n",
       "      <td>Institutional entrepreneurship and carbon redu...</td>\n",
       "      <td>10.1016/j.trd.2024.104394</td>\n",
       "      <td>136</td>\n",
       "      <td>2024-11-01</td>\n",
       "      <td>2024</td>\n",
       "      <td>11</td>\n",
       "      <td>This paper identifies regulatory requirements ...</td>\n",
       "      <td>1361-9209</td>\n",
       "      <td>TRD</td>\n",
       "      <td>10.1016_j.trd.2024.104394</td>\n",
       "      <td>...</td>\n",
       "      <td>1</td>\n",
       "      <td>1</td>\n",
       "      <td>0</td>\n",
       "      <td>0</td>\n",
       "      <td>0</td>\n",
       "      <td></td>\n",
       "      <td></td>\n",
       "      <td></td>\n",
       "      <td></td>\n",
       "      <td></td>\n",
       "    </tr>\n",
       "  </tbody>\n",
       "</table>\n",
       "<p>10990 rows × 22 columns</p>\n",
       "</div>"
      ],
      "text/plain": [
       "                                                   title  \\\n",
       "0      Decentralized network level adaptive signal co...   \n",
       "1      Physical activity of electric bicycle users co...   \n",
       "2      Increasing civil aviation capacity in China re...   \n",
       "3      Progress or regress on gender equality: The ca...   \n",
       "4      Multiobjective integrated signal-control syste...   \n",
       "...                                                  ...   \n",
       "10985  Energy savings and emissions reduction of BEVs...   \n",
       "10986  Effects of 1.5 °C global warming on pavement c...   \n",
       "10987  Decarbonising transport: Can we rely on fuel t...   \n",
       "10988  Amphibian roadkill patterns in an Asian tropic...   \n",
       "10989  Institutional entrepreneurship and carbon redu...   \n",
       "\n",
       "                              doi  volume        date  year  month  \\\n",
       "0      10.1016/j.trip.2019.100020       1  2019-06-01  2019      6   \n",
       "1      10.1016/j.trip.2019.100017       1  2019-06-01  2019      6   \n",
       "2      10.1016/j.trip.2019.100005       1  2019-06-01  2019      6   \n",
       "3      10.1016/j.trip.2019.100009       1  2019-06-01  2019      6   \n",
       "4      10.1016/j.trip.2019.100011       1  2019-06-01  2019      6   \n",
       "...                           ...     ...         ...   ...    ...   \n",
       "10985   10.1016/j.trd.2024.104403     136  2024-11-01  2024     11   \n",
       "10986   10.1016/j.trd.2024.104393     136  2024-11-01  2024     11   \n",
       "10987   10.1016/j.trd.2024.104391     136  2024-11-01  2024     11   \n",
       "10988   10.1016/j.trd.2024.104396     136  2024-11-01  2024     11   \n",
       "10989   10.1016/j.trd.2024.104394     136  2024-11-01  2024     11   \n",
       "\n",
       "                                                abstract       issn  \\\n",
       "0      Adaptive traffic signal control systems are de...  2590-1982   \n",
       "1      Physical activity has been widely associated w...  2590-1982   \n",
       "2      China is the world's second largest aviation m...  2590-1982   \n",
       "3      This paper examines the role of vocational edu...  2590-1982   \n",
       "4      Parameters concerning real-time, advanced traf...  2590-1982   \n",
       "...                                                  ...        ...   \n",
       "10985  Improving urban dwellers quality of life requi...  1361-9209   \n",
       "10986  This study compared 11 global climate models (...  1361-9209   \n",
       "10987  Although not without criticism, carbon pricing...  1361-9209   \n",
       "10988  Wildlife roadkills have emerged as one of the ...  1361-9209   \n",
       "10989  This paper identifies regulatory requirements ...  1361-9209   \n",
       "\n",
       "      journal_name                   unique_id  ...  is_availablity_statement  \\\n",
       "0             TRIP  10.1016_j.trip.2019.100020  ...                         0   \n",
       "1             TRIP  10.1016_j.trip.2019.100017  ...                         0   \n",
       "2             TRIP  10.1016_j.trip.2019.100005  ...                         0   \n",
       "3             TRIP  10.1016_j.trip.2019.100009  ...                         0   \n",
       "4             TRIP  10.1016_j.trip.2019.100011  ...                         0   \n",
       "...            ...                         ...  ...                       ...   \n",
       "10985          TRD   10.1016_j.trd.2024.104403  ...                         0   \n",
       "10986          TRD   10.1016_j.trd.2024.104393  ...                         1   \n",
       "10987          TRD   10.1016_j.trd.2024.104391  ...                         1   \n",
       "10988          TRD   10.1016_j.trd.2024.104396  ...                         1   \n",
       "10989          TRD   10.1016_j.trd.2024.104394  ...                         1   \n",
       "\n",
       "       is_data_mentioned_in_section_title  \\\n",
       "0                                       0   \n",
       "1                                       0   \n",
       "2                                       0   \n",
       "3                                       1   \n",
       "4                                       1   \n",
       "...                                   ...   \n",
       "10985                                   0   \n",
       "10986                                   0   \n",
       "10987                                   1   \n",
       "10988                                   1   \n",
       "10989                                   1   \n",
       "\n",
       "       is_experiment_mentioned_in_section_title  \\\n",
       "0                                             1   \n",
       "1                                             0   \n",
       "2                                             0   \n",
       "3                                             0   \n",
       "4                                             1   \n",
       "...                                         ...   \n",
       "10985                                         0   \n",
       "10986                                         0   \n",
       "10987                                         0   \n",
       "10988                                         0   \n",
       "10989                                         0   \n",
       "\n",
       "       is_link_in_avaiablity_statement  num_of_links_in_avaiablity_statement  \\\n",
       "0                                    0                                     0   \n",
       "1                                    0                                     0   \n",
       "2                                    0                                     0   \n",
       "3                                    0                                     0   \n",
       "4                                    0                                     0   \n",
       "...                                ...                                   ...   \n",
       "10985                                0                                     0   \n",
       "10986                                0                                     0   \n",
       "10987                                0                                     0   \n",
       "10988                                0                                     0   \n",
       "10989                                0                                     0   \n",
       "\n",
       "                                      source_description  real_world  \\\n",
       "0      The data source for this study is primarily si...       False   \n",
       "1      The data source for this study is a longitudin...        True   \n",
       "2      The data source for this study includes academ...        True   \n",
       "3      The data for this research paper was collected...        True   \n",
       "4      The data used in this study is generated throu...       False   \n",
       "...                                                  ...         ...   \n",
       "10985                                                                  \n",
       "10986                                                                  \n",
       "10987                                                                  \n",
       "10988                                                                  \n",
       "10989                                                                  \n",
       "\n",
       "      simulation dataset_size_description data_collection_description  \n",
       "0           True                    False                       False  \n",
       "1          False                     True                        True  \n",
       "2          False                    False                        True  \n",
       "3          False                    False                        True  \n",
       "4           True                     True                        True  \n",
       "...          ...                      ...                         ...  \n",
       "10985                                                                  \n",
       "10986                                                                  \n",
       "10987                                                                  \n",
       "10988                                                                  \n",
       "10989                                                                  \n",
       "\n",
       "[10990 rows x 22 columns]"
      ]
     },
     "execution_count": 9,
     "metadata": {},
     "output_type": "execute_result"
    }
   ],
   "source": [
    "data"
   ]
  },
  {
   "cell_type": "code",
   "execution_count": 34,
   "metadata": {},
   "outputs": [
    {
     "data": {
      "text/plain": [
       "'This study used data from the longitudinal, online survey conducted as part of the European research project Physical Activity through Sustainable Transport Approaches (PASTA) (Dons et al., 2015; Gerike et al., 2016). PASTA aimed to strengthen the understanding of determinants of active mobility (Götschi et al., 2017) as well as its health impacts (Mueller et al., 2018) by integrating approaches from transport and health research. The survey took place from November 2014 to January 2017 in seven European cities: Antwerp (Belgium), Barcelona (Spain), London (United Kingdom), Örebro (Sweden), Rome (Italy), Vienna (Austria) and Zurich (Switzerland). Survey participants were recruited opportunistically on a rolling basis, applying a diverse set of approaches but following a common sampling strategy across cities (Gaupp-Berghausen and Raser, 2017). Active transport modes were intentionally oversampled to have sufficiently large sample sizes for different transport modes in each of the cities. Participants from the age of 18\\u202fyears (16\\u202fyears in Zurich) were allowed to participate (Dons et al., 2015; Raser et al., 2018). Survey participants filled out an extensive baseline questionnaire followed by follow-up questionnaires approximately every two weeks. The baseline questionnaire included questions on socio-economic and psychological background of participants, their travel behaviour including bicycle types used and a one-day travel diary, their physical activity level, as well as geo-location of their home and work or place of education. Short follow-up questionnaires included brief questions on travel behaviour, physical activity and traffic crashes, while every third follow-up questionnaire included longer assessments of physical activity and a one day travel diary (Dons et al., 2015; Gerike et al., 2016; Raser et al., 2018). Survey participants were incentivized to complete the questionnaires through lotteries. The chances of winning a prize increased with the number of completed questionnaires. These lotteries were applied in six out of the seven cities. In Örebro it was not allowed by the Swedish law. More details on the recruitment strategy has been published elsewhere (Gaupp-Berghausen et al., 2019). The presented analysis takes two perspectives: First, participant characteristics, travel behaviour and resulting physical activity are compared between three groups: e-bikers, cyclists and non-cyclists. Secondly, within e-bikers, comparisons are made across subgroups based on main travel mode substituted by e-bike, such as car, public transport, bicycle or multiple modes. The distinction of e-bikers vs. cyclists was based on the following question at the baseline: “What type of bicycle do you use?”. Respondents stating that they used an e-bike were categorized as e-bikers, independent of whether they also used a conventional bicycle. Using this classification around the half of e-bikers only use e-bike while the other half use additionally a different type of bicycle. Users who reported any use of non-electric bicycle (including city bike, mountain bike or bike-sharing) but not e-bike were categorized as cyclists, those who did not report any bicycle use, as non-cyclists. Bike-sharing schemes in the studied cities were non-electric during the survey period. Therefore, it was assumed that the e-bikes of e-bikers were personally owned and not part of a bike-sharing system. The assignment of the substituted mode group was based on the following question at the baseline questionnaire: “Thinking about the journeys that you use your electric bike for now, what method of travel did you use before using an electric bike?”. This question was asked only once in the survey and persistence of the decision to switch to e-bike was not assessed. The total sample of survey participants was characterized among groups regarding background aspects such as city, age, sex, income, education level, car access and body mass index (BMI, weight in kilograms divided by square of height in meters). To facilitate comparison across groups, income categories were converted to a continuous scale by replacing the seven original income ranges with the midpoint of each range. In addition, to avoid comparability issues across cities income data was adjusted dividing by a national price level index for household final consumption expenditure (HFCE) (EUROSTAT, 2016). Furthermore, some e-bike specific background aspects such as transport mode substitution, motivation for e-biking, safety perception and helmet use were analysed. Both general and e-bike specific background aspects of the sample of participants were based on data from the baseline questionnaire. Travel behaviour was assessed using the following indicators: a) travel frequency in terms of days per month and trips per day, b) travel duration and c) travel distance, all stratified by transport mode. Travel frequency in terms of day per month was captured in the baseline questionnaire using a mode frequency table, including separate entries for cycling and e-biking. Categorical travel frequency data was converted into an average number of days per month. Participants further reported trip durations in a one-day travel diary at baseline and as part of every third follow-up. Travel frequency in terms of trips per day was derived using the travel diary. Trip duration was estimated using start and end time of each reported trip and assigning this total trip duration to the main transport mode involved (i.e. transit trip duration includes some walking). Additionally, weekly durations riding e-bike or conventional bicycle were captured using an adapted version of the Global Physical Activity Questionnaire (GPAQ) (Cleland et al., 2014; WHO, 2014) at baseline and during follow-ups and converted to daily travel durations. In contrast to the original version of the GPAQ, walking, cycling and e-biking durations were captured separately. Trip distances were derived based on origin and destination locations reported through a map widget in the travel diary, which were afterwards used to obtain fastest routes using the Google Maps Application Programming Interface (API) (Google). Trip distance was derived by selecting the fastest route returned by the Google Maps API (Raser et al., 2018). Geo-locations of origins and destinations were only available at the trip level. Distances for multimodal trips were assigned to the main mode using the following hierarchy: public transport, car, e-bike, bicycle, walking (Raser et al., 2018). Further, average trip distance and duration as well as average daily travel distance and duration were estimated using data from the travel diaries. Average trip distance and duration were calculated as the mean of all trips from baseline and follow-up questionnaires. Average daily travel distance and duration were calculated as the mean of daily trips across follow-ups within participant, and then averaged across all participants. Physical activity was assessed using the following indicators: a) MET minutes per week based on GPAQ and b) the single-item physical activity measure (\\n                     Hartmann, 2017\\n                     ; \\n                     Milton et al., 2011\\n                     ). The GPAQ was used at baseline and during every third follow-up to capture duration and intensity of physical activities in the domains labour, transport (see above) and leisure. Standard values of intensity for each activity, measured in Metabolic Equivalents of Task (METs) were applied to calculate physical activity (measured in MET minutes per week) (WHO, 2014; Laeremans et al., 2017). Overall physical activity, as well as transport related physical activity were calculated assuming 4 METs for moderate and 8 METs for vigorous intensity physical activity, 6.8 METs for cycling, 4 METs for walking, and 5 METs for e-biking (Peterman et al., 2016; Sperlich et al., 2012). To estimate physical activity before using e-bike, the following intensities for substituted non-active transport modes were assumed: 2.5 METs for car (car-driving) and 1.3 METs for public transport use (excluding access trips, egress trips and transfer) (Ainsworth et al). For “other or multiple mode” substitution no physical activity before using e-bike was estimated since the proportion of each substituted mode was unknown. The single-item physical activity measure asked participants a single question: “In a typical week, on how many days do you do a total of 30 min or more of physical activity, which is enough to raise your breathing rate? This may include sport, exercise, and brisk walking or cycling for recreation or to get to and from places, but should not include housework or physical activity that may be part of your job” (Milton et al., 2011) (only baseline questionnaire was considered). In total 10,722 persons participated in the survey and 87,094 questionnaires (including baseline and follow-ups) were collected. The number of participants in follow-up questionnaires decreased over time from around 6800 in the first one, to <1000 from the 25th one. Travel diaries were provided by 7809 participants recording 76,986 trips. As a result of data cleaning the final data set included 9335 persons, 76,283 questionnaires and 40,553 trips. Additionally GPAQ data were recoded according to WHO guidelines (WHO, 2014) and following the work of Laeremans et al. (Laeremans et al., 2017). Further details of the data cleaning and recoding can be found in the Supplementary materials. Statistical analysis was conducted in open-source software R (R Core Team, 2017). Normal distribution for studied variables was assumed based on inspection of data. Comparisons of means were based on ANOVA for continuous variables and Chi-square test for categorical and binomial variables, and corresponding confidence intervals and p-values were calculated. Confidence intervals were calculated applying the classic method for continuous variables, Wilson method for binomial variables and Sison & Glaz method for categorical variables and using the DescTool R package (Signorell et al., 2018).\\n                     \\n                        \\n                           \\n                              Supplementary material\\n                           \\n                           Image 1\\n                           \\n                        \\n                     \\n                  '"
      ]
     },
     "execution_count": 34,
     "metadata": {},
     "output_type": "execute_result"
    }
   ],
   "source": [
    "data_context"
   ]
  },
  {
   "cell_type": "code",
   "execution_count": 12,
   "metadata": {},
   "outputs": [
    {
     "name": "stdout",
     "output_type": "stream",
     "text": [
      "0.3935395814376706\n"
     ]
    }
   ],
   "source": [
    "data['is_data_mentioned_in_section_title'] = 0\n",
    "url_pattern = r'(https?://\\S+|www\\.\\S+)'  # URL pattern\n",
    "for i in range(len(data)):\n",
    "# # In case for the mini test to debug the code\n",
    "# for i in tqdm(range(1000)):\n",
    "    journal_path = os.path.join(full_data_folder, data['issn'][i])  # Path to the journal folder\n",
    "    paper_path = os.path.join(journal_path, data['unique_id'][i] + '.xml')  # Path to the paper folder\n",
    "    sections = extract_sections_and_text_from_xml(paper_path)\n",
    "    reorganized_sections = postprocess_sections(sections)\n",
    "    label = 0\n",
    "    url = []\n",
    "    for section in reorganized_sections:\n",
    "        section_title = section['title']\n",
    "        if 'data' in section_title.lower():\n",
    "            if section['text']:\n",
    "                if 'avaiable' in section['text'].lower():\n",
    "                    label = 1\n",
    "                    print(section['text'])\n",
    "        for subsection in section['subsections']:\n",
    "            subsection_title = subsection['title']\n",
    "            if 'data' in subsection_title.lower():\n",
    "                section_text = subsection['text']\n",
    "                label = 1\n",
    "                if section['text']:\n",
    "                    url.extend(re.findall(url_pattern, section['text']))\n",
    "            for subsubsection in subsection['subsubsections']:\n",
    "                subsubsection_title = subsubsection['title']\n",
    "                if 'data' in subsubsection_title.lower():\n",
    "                    label = 1\n",
    "                    if section['text']:\n",
    "                        url.extend(re.findall(url_pattern, section['text']))\n",
    "    data.loc[i, 'is_data_mentioned_in_section_title'] = label\n",
    "    # if url:\n",
    "    #     print(url)\n",
    "print(len(data[data['is_data_mentioned_in_section_title'] == 1])/(len(data)))\n",
    "data.to_csv(os.path.join(meta_data_folder, 'full-meta-dataset.csv'), index=False)"
   ]
  },
  {
   "cell_type": "code",
   "execution_count": null,
   "metadata": {},
   "outputs": [],
   "source": [
    "data['is_experiment_mentioned_in_section_title'] = 0\n",
    "for i in range(len(data)):\n",
    "# # In case for the mini test to debug the code\n",
    "# for i in tqdm(range(1000)):\n",
    "    journal_path = os.path.join(full_data_folder, data['issn'][i])  # Path to the journal folder\n",
    "    paper_path = os.path.join(journal_path, data['unique_id'][i] + '.xml')  # Path to the paper folder\n",
    "    sections = extract_sections_and_text_from_xml(paper_path)\n",
    "    reorganized_sections = postprocess_sections(sections)\n",
    "    label = 0\n",
    "    for section in reorganized_sections:\n",
    "        section_title = section['title']\n",
    "        if 'experiment' in section_title.lower():\n",
    "            label = 1\n",
    "        for subsection in section['subsections']:\n",
    "            subsection_title = subsection['title']\n",
    "            if 'experiment' in subsection_title.lower():\n",
    "                label = 1\n",
    "            for subsubsection in subsection['subsubsections']:\n",
    "                subsubsection_title = subsubsection['title']\n",
    "                if 'experiment' in subsubsection_title.lower():\n",
    "                    label = 1\n",
    "    data.loc[i, 'is_experiment_mentioned_in_section_title'] = label\n",
    "data.to_csv(os.path.join(meta_data_folder, 'full-meta-dataset.csv'), index=False)"
   ]
  },
  {
   "cell_type": "code",
   "execution_count": null,
   "metadata": {},
   "outputs": [],
   "source": [
    "data['is_link_in_avaiablity_statement'] = 0\n",
    "data['num_of_links_in_avaiablity_statement'] = 0\n",
    "url_pattern = r'(https?://\\S+|www\\.\\S+)'  # URL pattern\n",
    "# # In case for the mini test to debug the code\n",
    "url_data = []\n",
    "for i in range(len(data)):\n",
    "# for i in range(1000):\n",
    "    journal_path = os.path.join(full_data_folder, data['issn'][i])  # Path to the journal folder\n",
    "    paper_path = os.path.join(journal_path, data['unique_id'][i] + '.xml')  # Path to the paper folder\n",
    "    sections = extract_sections_and_text_from_xml(paper_path)\n",
    "    reorganized_sections = postprocess_sections(sections)\n",
    "    for section in reorganized_sections:\n",
    "        section_title = section['title']\n",
    "        if 'data availability' in section_title.lower():\n",
    "            if 'http' in section['text']:\n",
    "                data.loc[i, 'is_link_in_avaiablity_statement'] = 1\n",
    "                url = re.findall(url_pattern, section['text'])\n",
    "                unique_url = list(set(url))\n",
    "                if url:\n",
    "                    print(url)\n",
    "                url_data.append({\n",
    "                'issn': data['issn'][i],\n",
    "                'unique_id': data['unique_idf'][i],\n",
    "                'title': data['title'][i],\n",
    "                'url': unique_url\n",
    "                })\n",
    "                data.loc[i, 'num_of_links_in_avaiablity_statement'] = len(unique_url)\n",
    "data.to_csv(os.path.join(meta_data_folder, 'full-meta-dataset.csv'), index=False)\n",
    "save_json(url_data, os.path.join(meta_data_folder, 'url_data.json'))"
   ]
  },
  {
   "cell_type": "code",
   "execution_count": 15,
   "metadata": {},
   "outputs": [],
   "source": []
  },
  {
   "cell_type": "code",
   "execution_count": 40,
   "metadata": {},
   "outputs": [],
   "source": [
    "content = response.choices[0].message.content"
   ]
  },
  {
   "cell_type": "code",
   "execution_count": 44,
   "metadata": {},
   "outputs": [
    {
     "data": {
      "text/plain": [
       "'{\"real_world\":true,\"simulation\":false,\"details\":{\"dataset_size_description\":true,\"data_collection_description\":true}}'"
      ]
     },
     "execution_count": 44,
     "metadata": {},
     "output_type": "execute_result"
    }
   ],
   "source": [
    "# transform a str to json\n",
    "content"
   ]
  },
  {
   "cell_type": "code",
   "execution_count": 47,
   "metadata": {},
   "outputs": [],
   "source": [
    "import json\n",
    "json_content = json.loads(content)"
   ]
  },
  {
   "cell_type": "code",
   "execution_count": 50,
   "metadata": {},
   "outputs": [
    {
     "data": {
      "text/plain": [
       "True"
      ]
     },
     "execution_count": 50,
     "metadata": {},
     "output_type": "execute_result"
    }
   ],
   "source": [
    "json_content['real_world']"
   ]
  },
  {
   "cell_type": "code",
   "execution_count": null,
   "metadata": {},
   "outputs": [],
   "source": []
  }
 ],
 "metadata": {
  "kernelspec": {
   "display_name": "RR-measure",
   "language": "python",
   "name": "python3"
  },
  "language_info": {
   "codemirror_mode": {
    "name": "ipython",
    "version": 3
   },
   "file_extension": ".py",
   "mimetype": "text/x-python",
   "name": "python",
   "nbconvert_exporter": "python",
   "pygments_lexer": "ipython3",
   "version": "3.10.15"
  }
 },
 "nbformat": 4,
 "nbformat_minor": 2
}

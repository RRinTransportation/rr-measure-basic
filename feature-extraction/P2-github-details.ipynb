{
 "cells": [
  {
   "cell_type": "code",
   "execution_count": 2,
   "metadata": {},
   "outputs": [
    {
     "name": "stdout",
     "output_type": "stream",
     "text": [
      "Repository Details:\n",
      "Name: Lyapunov\n",
      "License Type: Other\n",
      "Description: PyTorch original implementation of \"Global Lyapunov functions: a long-standing open problem in mathematics, with symbolic transformers\" (NeurIPS 2024).\n",
      "License Type: Other\n",
      "Primary Language: Python\n",
      "License Type: Other\n",
      "License: Other\n",
      "License Type: Other\n",
      "Has README: True\n",
      "License Type: Other\n"
     ]
    }
   ],
   "source": [
    "import requests\n",
    "\n",
    "def get_repo_details(repo_url):\n",
    "    # Extract owner and repo name from the URL\n",
    "    try:\n",
    "        parts = repo_url.rstrip(\"/\").split(\"/\")\n",
    "        owner, repo = parts[-2], parts[-1]\n",
    "    except IndexError:\n",
    "        raise ValueError(\"Invalid GitHub repository URL.\")\n",
    "\n",
    "    # GitHub API URL for repository details\n",
    "    api_url = f\"https://api.github.com/repos/{owner}/{repo}\"\n",
    "\n",
    "    # Fetch repository details\n",
    "    response = requests.get(api_url)\n",
    "    if response.status_code != 200:\n",
    "        raise Exception(f\"Failed to fetch repository details: {response.json().get('message', 'Unknown error')}\")\n",
    "\n",
    "    repo_data = response.json()\n",
    "\n",
    "    # Extract desired details\n",
    "    details = {\n",
    "        \"Name\": repo_data.get(\"name\"),\n",
    "        \"Description\": repo_data.get(\"description\"),\n",
    "        \"Primary Language\": repo_data.get(\"language\"),\n",
    "        \"License\": repo_data.get(\"license\", {}).get(\"name\", \"No license specified\"),\n",
    "        \"Has README\": False,\n",
    "    }\n",
    "\n",
    "    # Check if README exists\n",
    "    contents_url = f\"https://api.github.com/repos/{owner}/{repo}/contents\"\n",
    "    contents_response = requests.get(contents_url)\n",
    "    if contents_response.status_code == 200:\n",
    "        contents = contents_response.json()\n",
    "        for item in contents:\n",
    "            if item[\"name\"].lower() == \"readme.md\":\n",
    "                details[\"Has README\"] = True\n",
    "                break\n",
    "\n",
    "    return details\n",
    "\n",
    "\n",
    "repo_url = \"https://github.com/facebookresearch/Lyapunov\"  # Replace with any GitHub repository URL\n",
    "details = get_repo_details(repo_url)\n",
    "print(\"Repository Details:\")\n",
    "for key, value in details.items():\n",
    "    print(f\"{key}: {value}\")\n",
    "    print(f\"License Type: {details['License']}\")"
   ]
  },
  {
   "cell_type": "code",
   "execution_count": null,
   "metadata": {},
   "outputs": [],
   "source": []
  }
 ],
 "metadata": {
  "kernelspec": {
   "display_name": "RR-measure",
   "language": "python",
   "name": "python3"
  },
  "language_info": {
   "codemirror_mode": {
    "name": "ipython",
    "version": 3
   },
   "file_extension": ".py",
   "mimetype": "text/x-python",
   "name": "python",
   "nbconvert_exporter": "python",
   "pygments_lexer": "ipython3",
   "version": "3.10.15"
  }
 },
 "nbformat": 4,
 "nbformat_minor": 2
}

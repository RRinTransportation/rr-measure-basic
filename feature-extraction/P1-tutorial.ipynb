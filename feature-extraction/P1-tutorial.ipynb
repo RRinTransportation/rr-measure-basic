{
 "cells": [
  {
   "cell_type": "markdown",
   "metadata": {},
   "source": [
    "# File structure of the dataset folder\n",
    "--RR-measure-basic\n",
    "----journal-meta\n",
    "------*.csv\n",
    "----journal-full-text\n",
    "------DOI in the format of XXXX-XXXX\n",
    "--------*.xml"
   ]
  }
 ],
 "metadata": {
  "language_info": {
   "name": "python"
  }
 },
 "nbformat": 4,
 "nbformat_minor": 2
}

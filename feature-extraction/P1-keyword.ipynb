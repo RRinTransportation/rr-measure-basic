{
 "cells": [
  {
   "cell_type": "code",
   "execution_count": 1,
   "metadata": {},
   "outputs": [],
   "source": [
    "import xml.etree.ElementTree as ET\n",
    "from collections import Counter\n",
    "import re\n",
    "\n",
    "def extract_keywords_from_xml(file_path):\n",
    "    # Parse the XML file\n",
    "    tree = ET.parse(file_path)\n",
    "    root = tree.getroot()\n",
    "\n",
    "    # Define the namespace\n",
    "    ns = {'ns': 'http://www.elsevier.com/xml/svapi/article/dtd'}\n",
    "\n",
    "    # Extract text from relevant fields\n",
    "    keywords = []\n",
    "    # Extract <dc:title>\n",
    "    title = root.find('.//ns:coredata/ns:dc:title', ns)\n",
    "    if title is not None:\n",
    "        keywords.extend(re.findall(r'\\w+', title.text.lower()))\n",
    "\n",
    "    # Extract <dcterms:subject>\n",
    "    subjects = root.findall('.//ns:coredata/ns:dcterms:subject', ns)\n",
    "    for subject in subjects:\n",
    "        if subject.text:\n",
    "            keywords.extend(re.findall(r'\\w+', subject.text.lower()))\n",
    "\n",
    "    # Extract <dc:description>\n",
    "    description = root.find('.//ns:coredata/ns:dc:description', ns)\n",
    "    if description is not None:\n",
    "        keywords.extend(re.findall(r'\\w+', description.text.lower()))\n",
    "\n",
    "    # Count occurrences and find the most common keywords\n",
    "    keyword_counts = Counter(keywords)\n",
    "\n",
    "    return keyword_counts.most_common()"
   ]
  },
  {
   "cell_type": "code",
   "execution_count": null,
   "metadata": {},
   "outputs": [],
   "source": []
  }
 ],
 "metadata": {
  "kernelspec": {
   "display_name": "RR-measure",
   "language": "python",
   "name": "python3"
  },
  "language_info": {
   "codemirror_mode": {
    "name": "ipython",
    "version": 3
   },
   "file_extension": ".py",
   "mimetype": "text/x-python",
   "name": "python",
   "nbconvert_exporter": "python",
   "pygments_lexer": "ipython3",
   "version": "3.10.15"
  }
 },
 "nbformat": 4,
 "nbformat_minor": 2
}

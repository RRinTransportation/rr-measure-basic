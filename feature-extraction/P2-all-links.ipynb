{
 "cells": [
  {
   "cell_type": "code",
   "execution_count": 19,
   "metadata": {},
   "outputs": [],
   "source": [
    "import pandas as pd\n",
    "import os\n",
    "from tqdm import tqdm\n",
    "import json\n",
    "from utils import *\n",
    "# replace it with your downloaded folder path\n",
    "full_data_folder = '/Users/junyi/Work/RR/rr-measure-dataset/journal-full-text'\n",
    "meta_data_folder = '/Users/junyi/Work/RR/rr-measure-dataset/journal-meta'\n",
    "result_data_folder = '/Users/junyi/Work/RR/rr-measure-dataset/journal-results'"
   ]
  },
  {
   "cell_type": "code",
   "execution_count": 53,
   "metadata": {},
   "outputs": [],
   "source": [
    "import openai\n",
    "from openai import OpenAI\n",
    "import yaml\n",
    "with open(\"/Users/junyi/Work/RR/config.yaml\", \"r\") as config_file:\n",
    "    config = yaml.safe_load(config_file)\n",
    "openai.api_key = config[\"openai_api_key\"]\n",
    "client = OpenAI(api_key=config[\"openai_api_key\"])\n",
    "\n",
    "from selenium import webdriver\n",
    "from selenium.webdriver.chrome.service import Service\n",
    "from selenium.webdriver.common.by import By\n",
    "from selenium.webdriver.chrome.options import Options\n",
    "import time\n",
    "\n",
    "import string\n",
    "\n",
    "def correct_url(url):\n",
    "    return url.rstrip(string.punctuation)\n",
    "corrected_url = correct_url(url)\n",
    "corrected_url\n",
    "\n",
    "def fetch_redirected_url_with_selenium(doi_url):\n",
    "    try:\n",
    "        # Set up Selenium WebDriver with headless mode\n",
    "        options = Options()\n",
    "        options.add_argument('--headless')\n",
    "        options.add_argument('--disable-gpu')\n",
    "        options.add_argument('--no-sandbox')\n",
    "\n",
    "        service = Service()  # Ensure ChromeDriver is correctly installed or provide the path\n",
    "        driver = webdriver.Chrome(service=service, options=options)\n",
    "\n",
    "        driver.get(doi_url)\n",
    "        time.sleep(5)  # Allow time for redirection if needed\n",
    "\n",
    "        redirected_url = driver.current_url\n",
    "        driver.quit()\n",
    "        return redirected_url\n",
    "    except Exception as e:\n",
    "        return f\"Error: {str(e)}\"\n",
    "    \n",
    "def is_dataset_link(url, client=client):\n",
    "    \"\"\"\n",
    "    Determines if a given URL is a dataset link.\n",
    "\n",
    "    Args:\n",
    "        client (OpenAI): The OpenAI client instance.\n",
    "        url (str): The URL to evaluate.\n",
    "\n",
    "    Returns:\n",
    "        bool: True if the URL is a dataset link, False otherwise.\n",
    "    \"\"\"\n",
    "    response = client.chat.completions.create(\n",
    "        model=\"gpt-4o-mini\",\n",
    "        messages=[\n",
    "            {\n",
    "                \"role\": \"user\",\n",
    "                \"content\": [\n",
    "                    {\n",
    "                        \"type\": \"text\",\n",
    "                        \"text\": \"Is this a link to host the dataset by university?\" + url\n",
    "                    }\n",
    "                ]\n",
    "            }\n",
    "        ],\n",
    "        response_format={\n",
    "            \"type\": \"json_schema\",\n",
    "            \"json_schema\": {\n",
    "                \"name\": \"my_schema\",\n",
    "                \"strict\": True,\n",
    "                \"schema\": {\n",
    "                    \"type\": \"object\",\n",
    "                    \"properties\": {\n",
    "                        \"is_dataset_link\": {\n",
    "                            \"type\": \"boolean\"\n",
    "                        }\n",
    "                    },\n",
    "                    \"required\": [\n",
    "                        \"is_dataset_link\"\n",
    "                    ],\n",
    "                    \"additionalProperties\": False\n",
    "                }\n",
    "            }\n",
    "        },\n",
    "        temperature=0,\n",
    "        max_completion_tokens=2048,\n",
    "        top_p=1,\n",
    "        frequency_penalty=0,\n",
    "        presence_penalty=0\n",
    "    )\n",
    "    # Extract and return the result\n",
    "    return response.choices[0].message.content\n"
   ]
  },
  {
   "cell_type": "code",
   "execution_count": 21,
   "metadata": {},
   "outputs": [
    {
     "data": {
      "text/plain": [
       "Index(['title', 'doi', 'volume', 'date', 'year', 'month', 'abstract', 'issn',\n",
       "       'journal_name', 'unique_id', 'is_github', 'num_of_github_urls',\n",
       "       'is_availablity_statement', 'is_data_mentioned_in_section_title',\n",
       "       'is_experiment_mentioned_in_section_title',\n",
       "       'is_link_in_avaiablity_statement',\n",
       "       'num_of_links_in_avaiablity_statement'],\n",
       "      dtype='object')"
      ]
     },
     "execution_count": 21,
     "metadata": {},
     "output_type": "execute_result"
    }
   ],
   "source": [
    "data = pd.read_csv(os.path.join(meta_data_folder, 'full-meta-dataset.csv'))\n",
    "data.columns"
   ]
  },
  {
   "cell_type": "code",
   "execution_count": 22,
   "metadata": {},
   "outputs": [
    {
     "name": "stderr",
     "output_type": "stream",
     "text": [
      "  0%|          | 0/10990 [00:00<?, ?it/s]"
     ]
    },
    {
     "name": "stderr",
     "output_type": "stream",
     "text": [
      "  0%|          | 41/10990 [00:00<01:58, 92.20it/s]"
     ]
    },
    {
     "name": "stdout",
     "output_type": "stream",
     "text": [
      "Found 1 URLs in the text\n",
      "Found 1 URLs in the text\n"
     ]
    },
    {
     "name": "stderr",
     "output_type": "stream",
     "text": [
      "  1%|          | 126/10990 [00:01<01:48, 100.03it/s]"
     ]
    },
    {
     "name": "stdout",
     "output_type": "stream",
     "text": [
      "Found 1 URLs in the text\n",
      "Found 2 URLs in the text\n",
      "Found DOI URL: https://github.com/numenta/NAB/tree/master/data\n"
     ]
    },
    {
     "name": "stderr",
     "output_type": "stream",
     "text": [
      "  1%|▏         | 150/10990 [00:01<01:48, 99.63it/s] "
     ]
    },
    {
     "name": "stdout",
     "output_type": "stream",
     "text": [
      "Found 1 URLs in the text\n"
     ]
    },
    {
     "name": "stderr",
     "output_type": "stream",
     "text": [
      "  2%|▏         | 175/10990 [00:01<01:38, 109.56it/s]"
     ]
    },
    {
     "name": "stdout",
     "output_type": "stream",
     "text": [
      "Found 4 URLs in the text\n"
     ]
    },
    {
     "name": "stderr",
     "output_type": "stream",
     "text": [
      "  2%|▏         | 222/10990 [00:02<01:45, 102.20it/s]"
     ]
    },
    {
     "name": "stdout",
     "output_type": "stream",
     "text": [
      "Found 1 URLs in the text\n",
      "Found DOI URL: http://doi.org/10.17605/OSF.IO/DE8KM.\n",
      "Found 1 URLs in the text\n",
      "Found DOI URL: https://doi.org/10.7910/DVN/VGMDPC\n"
     ]
    },
    {
     "name": "stderr",
     "output_type": "stream",
     "text": [
      "  2%|▏         | 246/10990 [00:02<01:46, 101.00it/s]"
     ]
    },
    {
     "name": "stdout",
     "output_type": "stream",
     "text": [
      "Found 7 URLs in the text\n",
      "Found 2 URLs in the text\n"
     ]
    },
    {
     "name": "stderr",
     "output_type": "stream",
     "text": [
      "  3%|▎         | 279/10990 [00:02<01:51, 95.92it/s] "
     ]
    },
    {
     "name": "stdout",
     "output_type": "stream",
     "text": [
      "Found 4 URLs in the text\n",
      "Found DOI URL: https://datasketch.github.io/mobility-actions/.\n",
      "Found 4 URLs in the text\n"
     ]
    },
    {
     "name": "stderr",
     "output_type": "stream",
     "text": [
      "  3%|▎         | 341/10990 [00:03<01:48, 98.36it/s] "
     ]
    },
    {
     "name": "stdout",
     "output_type": "stream",
     "text": [
      "Found 2 URLs in the text\n"
     ]
    },
    {
     "name": "stderr",
     "output_type": "stream",
     "text": [
      "  3%|▎         | 363/10990 [00:03<01:49, 96.86it/s]"
     ]
    },
    {
     "name": "stdout",
     "output_type": "stream",
     "text": [
      "Found 4 URLs in the text\n",
      "Found 3 URLs in the text\n"
     ]
    },
    {
     "name": "stderr",
     "output_type": "stream",
     "text": [
      "  4%|▎         | 395/10990 [00:04<01:52, 94.28it/s] "
     ]
    },
    {
     "name": "stdout",
     "output_type": "stream",
     "text": [
      "Found 1 URLs in the text\n"
     ]
    },
    {
     "name": "stderr",
     "output_type": "stream",
     "text": [
      "  4%|▍         | 435/10990 [00:04<02:09, 81.47it/s]"
     ]
    },
    {
     "name": "stdout",
     "output_type": "stream",
     "text": [
      "Found 2 URLs in the text\n"
     ]
    },
    {
     "name": "stderr",
     "output_type": "stream",
     "text": [
      "  4%|▍         | 465/10990 [00:04<02:11, 80.11it/s]"
     ]
    },
    {
     "name": "stdout",
     "output_type": "stream",
     "text": [
      "Found 1 URLs in the text\n",
      "Found 1 URLs in the text\n"
     ]
    },
    {
     "name": "stderr",
     "output_type": "stream",
     "text": [
      "  5%|▍         | 522/10990 [00:05<02:12, 79.12it/s]"
     ]
    },
    {
     "name": "stdout",
     "output_type": "stream",
     "text": [
      "Found 1 URLs in the text\n",
      "Found 1 URLs in the text\n"
     ]
    },
    {
     "name": "stderr",
     "output_type": "stream",
     "text": [
      "  5%|▌         | 580/10990 [00:06<02:09, 80.58it/s]"
     ]
    },
    {
     "name": "stdout",
     "output_type": "stream",
     "text": [
      "Found 1 URLs in the text\n"
     ]
    },
    {
     "name": "stderr",
     "output_type": "stream",
     "text": [
      "  6%|▌         | 627/10990 [00:06<02:10, 79.62it/s]"
     ]
    },
    {
     "name": "stdout",
     "output_type": "stream",
     "text": [
      "Found 3 URLs in the text\n"
     ]
    },
    {
     "name": "stderr",
     "output_type": "stream",
     "text": [
      "  6%|▌         | 652/10990 [00:07<02:31, 68.35it/s]"
     ]
    },
    {
     "name": "stdout",
     "output_type": "stream",
     "text": [
      "Found 1 URLs in the text\n",
      "Found 1 URLs in the text\n",
      "Found 1 URLs in the text\n",
      "Found DOI URL: https://doi.org/10.17632/tfkgpmgf9t.1.\n"
     ]
    },
    {
     "name": "stderr",
     "output_type": "stream",
     "text": [
      "  6%|▌         | 686/10990 [00:08<02:55, 58.56it/s]"
     ]
    },
    {
     "name": "stdout",
     "output_type": "stream",
     "text": [
      "Found 1 URLs in the text\n",
      "Found DOI URL: https://doi.org/10.6084/m9.figshare.13171862.\n"
     ]
    },
    {
     "name": "stderr",
     "output_type": "stream",
     "text": [
      "  6%|▋         | 712/10990 [00:08<02:43, 62.94it/s]"
     ]
    },
    {
     "name": "stdout",
     "output_type": "stream",
     "text": [
      "Found 1 URLs in the text\n",
      "Found DOI URL: https://dx.doi.org/10.17632/5gy6s8trbm.2\n"
     ]
    },
    {
     "name": "stderr",
     "output_type": "stream",
     "text": [
      "  7%|▋         | 728/10990 [00:08<02:27, 69.62it/s]"
     ]
    },
    {
     "name": "stdout",
     "output_type": "stream",
     "text": [
      "Found 1 URLs in the text\n",
      "Found 1 URLs in the text\n",
      "Found DOI URL: https://github.com/Lilyhanig/transit_covid_precautions.\n"
     ]
    },
    {
     "name": "stderr",
     "output_type": "stream",
     "text": [
      "  7%|▋         | 751/10990 [00:09<03:02, 56.23it/s]"
     ]
    },
    {
     "name": "stdout",
     "output_type": "stream",
     "text": [
      "Found 1 URLs in the text\n",
      "Found 2 URLs in the text\n",
      "Found 1 URLs in the text\n"
     ]
    },
    {
     "name": "stderr",
     "output_type": "stream",
     "text": [
      "  7%|▋         | 793/10990 [00:09<02:24, 70.50it/s]"
     ]
    },
    {
     "name": "stdout",
     "output_type": "stream",
     "text": [
      "Found 1 URLs in the text\n"
     ]
    },
    {
     "name": "stderr",
     "output_type": "stream",
     "text": [
      "  8%|▊         | 825/10990 [00:10<02:41, 63.06it/s]"
     ]
    },
    {
     "name": "stdout",
     "output_type": "stream",
     "text": [
      "Found 1 URLs in the text\n"
     ]
    },
    {
     "name": "stderr",
     "output_type": "stream",
     "text": [
      "  8%|▊         | 867/10990 [00:10<02:14, 75.08it/s]"
     ]
    },
    {
     "name": "stdout",
     "output_type": "stream",
     "text": [
      "Found 1 URLs in the text\n"
     ]
    },
    {
     "name": "stderr",
     "output_type": "stream",
     "text": [
      "  8%|▊         | 886/10990 [00:10<02:05, 80.82it/s]"
     ]
    },
    {
     "name": "stdout",
     "output_type": "stream",
     "text": [
      "Found 1 URLs in the text\n",
      "Found DOI URL: https://doi.org/10.6084/m9.figshare.20311812.v2\n",
      "Found 1 URLs in the text\n",
      "Found DOI URL: https://doi.org/10.6084/m9.figshare.24231706.\n"
     ]
    },
    {
     "name": "stderr",
     "output_type": "stream",
     "text": [
      "  8%|▊         | 914/10990 [00:11<02:03, 81.40it/s]"
     ]
    },
    {
     "name": "stdout",
     "output_type": "stream",
     "text": [
      "Found 4 URLs in the text\n",
      "Found 2 URLs in the text\n",
      "Found 1 URLs in the text\n",
      "Found DOI URL: https://doi.org/10.25338/B8035D\n",
      "Found 3 URLs in the text\n",
      "Found 1 URLs in the text\n"
     ]
    },
    {
     "name": "stderr",
     "output_type": "stream",
     "text": [
      "  8%|▊         | 932/10990 [00:11<02:05, 79.89it/s]"
     ]
    },
    {
     "name": "stdout",
     "output_type": "stream",
     "text": [
      "Found DOI URL: https://doi.org/10.4121/e4324d0c-2a82-4f03-8cbb-64dd207cd522.\n"
     ]
    },
    {
     "name": "stderr",
     "output_type": "stream",
     "text": [
      "  9%|▊         | 961/10990 [00:11<02:08, 78.11it/s]"
     ]
    },
    {
     "name": "stdout",
     "output_type": "stream",
     "text": [
      "Found 1 URLs in the text\n",
      "Found DOI URL: https://osf.io/sw8k2/.\n"
     ]
    },
    {
     "name": "stderr",
     "output_type": "stream",
     "text": [
      "  9%|▉         | 987/10990 [00:12<02:07, 78.39it/s]"
     ]
    },
    {
     "name": "stdout",
     "output_type": "stream",
     "text": [
      "Found 1 URLs in the text\n"
     ]
    },
    {
     "name": "stderr",
     "output_type": "stream",
     "text": [
      "  9%|▉         | 1025/10990 [00:12<02:02, 81.43it/s]"
     ]
    },
    {
     "name": "stdout",
     "output_type": "stream",
     "text": [
      "Found 1 URLs in the text\n"
     ]
    },
    {
     "name": "stderr",
     "output_type": "stream",
     "text": [
      " 10%|▉         | 1050/10990 [00:13<02:33, 64.91it/s]"
     ]
    },
    {
     "name": "stdout",
     "output_type": "stream",
     "text": [
      "Found 2 URLs in the text\n",
      "Found DOI URL: https://zenodo.org/doi/10.5281/zenodo.10778028.\n",
      "Found DOI URL: https://zenodo.org/doi/10.5281/zenodo.10778028\n",
      "Found 1 URLs in the text\n"
     ]
    },
    {
     "name": "stderr",
     "output_type": "stream",
     "text": [
      " 10%|▉         | 1077/10990 [00:13<02:14, 73.55it/s]"
     ]
    },
    {
     "name": "stdout",
     "output_type": "stream",
     "text": [
      "Found 6 URLs in the text\n"
     ]
    },
    {
     "name": "stderr",
     "output_type": "stream",
     "text": [
      " 10%|▉         | 1094/10990 [00:13<02:18, 71.41it/s]"
     ]
    },
    {
     "name": "stdout",
     "output_type": "stream",
     "text": [
      "Found 1 URLs in the text\n",
      "Found DOI URL: https://doi.org/10.17605/OSF.IO/X7AER\n",
      "Found 1 URLs in the text\n"
     ]
    },
    {
     "name": "stderr",
     "output_type": "stream",
     "text": [
      " 10%|█         | 1143/10990 [00:14<02:23, 68.44it/s]"
     ]
    },
    {
     "name": "stdout",
     "output_type": "stream",
     "text": [
      "Found 1 URLs in the text\n",
      "Found DOI URL: https://datadryad.org/stash/dataset/doi:10.5061/dryad.rv15dv4f0\n",
      "Found 2 URLs in the text\n",
      "Found DOI URL: https://doi.org/10.4121/a59fcc0f-4603-490a-b0b8-8b2287141e30.\n"
     ]
    },
    {
     "name": "stderr",
     "output_type": "stream",
     "text": [
      " 11%|█         | 1157/10990 [00:14<02:34, 63.83it/s]"
     ]
    },
    {
     "name": "stdout",
     "output_type": "stream",
     "text": [
      "Found 1 URLs in the text\n"
     ]
    },
    {
     "name": "stderr",
     "output_type": "stream",
     "text": [
      " 11%|█         | 1205/10990 [00:15<02:20, 69.58it/s]"
     ]
    },
    {
     "name": "stdout",
     "output_type": "stream",
     "text": [
      "Found 1 URLs in the text\n"
     ]
    },
    {
     "name": "stderr",
     "output_type": "stream",
     "text": [
      " 11%|█         | 1229/10990 [00:15<02:32, 64.21it/s]"
     ]
    },
    {
     "name": "stdout",
     "output_type": "stream",
     "text": [
      "Found 4 URLs in the text\n",
      "Found 1 URLs in the text\n"
     ]
    },
    {
     "name": "stderr",
     "output_type": "stream",
     "text": [
      " 12%|█▏        | 1269/10990 [00:16<02:04, 77.91it/s]"
     ]
    },
    {
     "name": "stdout",
     "output_type": "stream",
     "text": [
      "Found 2 URLs in the text\n",
      "Found 1 URLs in the text\n"
     ]
    },
    {
     "name": "stderr",
     "output_type": "stream",
     "text": [
      " 12%|█▏        | 1285/10990 [00:16<02:38, 61.26it/s]"
     ]
    },
    {
     "name": "stdout",
     "output_type": "stream",
     "text": [
      "Found 2 URLs in the text\n"
     ]
    },
    {
     "name": "stderr",
     "output_type": "stream",
     "text": [
      " 12%|█▏        | 1302/10990 [00:16<02:20, 68.96it/s]"
     ]
    },
    {
     "name": "stdout",
     "output_type": "stream",
     "text": [
      "Found 1 URLs in the text\n"
     ]
    },
    {
     "name": "stderr",
     "output_type": "stream",
     "text": [
      " 12%|█▏        | 1341/10990 [00:17<02:17, 70.07it/s]"
     ]
    },
    {
     "name": "stdout",
     "output_type": "stream",
     "text": [
      "Found 3 URLs in the text\n"
     ]
    },
    {
     "name": "stderr",
     "output_type": "stream",
     "text": [
      " 12%|█▏        | 1363/10990 [00:17<02:50, 56.44it/s]"
     ]
    },
    {
     "name": "stdout",
     "output_type": "stream",
     "text": [
      "Found 1 URLs in the text\n"
     ]
    },
    {
     "name": "stderr",
     "output_type": "stream",
     "text": [
      " 13%|█▎        | 1388/10990 [00:18<03:12, 49.88it/s]"
     ]
    },
    {
     "name": "stdout",
     "output_type": "stream",
     "text": [
      "Found 3 URLs in the text\n",
      "Found 2 URLs in the text\n"
     ]
    },
    {
     "name": "stderr",
     "output_type": "stream",
     "text": [
      " 13%|█▎        | 1412/10990 [00:18<03:12, 49.80it/s]"
     ]
    },
    {
     "name": "stdout",
     "output_type": "stream",
     "text": [
      "Found 1 URLs in the text\n"
     ]
    },
    {
     "name": "stderr",
     "output_type": "stream",
     "text": [
      " 13%|█▎        | 1457/10990 [00:19<02:16, 69.72it/s]"
     ]
    },
    {
     "name": "stdout",
     "output_type": "stream",
     "text": [
      "Found 1 URLs in the text\n",
      "Found 6 URLs in the text\n",
      "Found 1 URLs in the text\n"
     ]
    },
    {
     "name": "stderr",
     "output_type": "stream",
     "text": [
      " 14%|█▎        | 1498/10990 [00:20<02:59, 52.79it/s]"
     ]
    },
    {
     "name": "stdout",
     "output_type": "stream",
     "text": [
      "Found 1 URLs in the text\n"
     ]
    },
    {
     "name": "stderr",
     "output_type": "stream",
     "text": [
      " 14%|█▍        | 1528/10990 [00:20<02:23, 65.89it/s]"
     ]
    },
    {
     "name": "stdout",
     "output_type": "stream",
     "text": [
      "Found 3 URLs in the text\n",
      "Found 1 URLs in the text\n",
      "Found 1 URLs in the text\n",
      "Found DOI URL: https://github.com/JusteRaimbault/EnergyPriceAt\n"
     ]
    },
    {
     "name": "stderr",
     "output_type": "stream",
     "text": [
      " 14%|█▍        | 1542/10990 [00:21<02:39, 59.12it/s]"
     ]
    },
    {
     "name": "stdout",
     "output_type": "stream",
     "text": [
      "Found 2 URLs in the text\n",
      "Found 2 URLs in the text\n"
     ]
    },
    {
     "name": "stderr",
     "output_type": "stream",
     "text": [
      " 14%|█▍        | 1549/10990 [00:21<02:52, 54.73it/s]"
     ]
    },
    {
     "name": "stdout",
     "output_type": "stream",
     "text": [
      "Found 3 URLs in the text\n",
      "Found 1 URLs in the text\n"
     ]
    },
    {
     "name": "stderr",
     "output_type": "stream",
     "text": [
      " 14%|█▍        | 1569/10990 [00:21<02:32, 61.62it/s]"
     ]
    },
    {
     "name": "stdout",
     "output_type": "stream",
     "text": [
      "Found 1 URLs in the text\n",
      "Found 1 URLs in the text\n",
      "Found 2 URLs in the text\n"
     ]
    },
    {
     "name": "stderr",
     "output_type": "stream",
     "text": [
      " 14%|█▍        | 1576/10990 [00:21<02:28, 63.29it/s]"
     ]
    },
    {
     "name": "stdout",
     "output_type": "stream",
     "text": [
      "Found 2 URLs in the text\n",
      "Found 1 URLs in the text\n"
     ]
    },
    {
     "name": "stderr",
     "output_type": "stream",
     "text": [
      " 15%|█▍        | 1623/10990 [00:22<03:12, 48.62it/s]"
     ]
    },
    {
     "name": "stdout",
     "output_type": "stream",
     "text": [
      "Found 1 URLs in the text\n"
     ]
    },
    {
     "name": "stderr",
     "output_type": "stream",
     "text": [
      " 15%|█▍        | 1648/10990 [00:22<03:05, 50.45it/s]"
     ]
    },
    {
     "name": "stdout",
     "output_type": "stream",
     "text": [
      "Found 8 URLs in the text\n",
      "Found 1 URLs in the text\n"
     ]
    },
    {
     "name": "stderr",
     "output_type": "stream",
     "text": [
      " 15%|█▌        | 1671/10990 [00:23<03:11, 48.63it/s]"
     ]
    },
    {
     "name": "stdout",
     "output_type": "stream",
     "text": [
      "Found 1 URLs in the text\n",
      "Found 3 URLs in the text\n"
     ]
    },
    {
     "name": "stderr",
     "output_type": "stream",
     "text": [
      " 15%|█▌        | 1685/10990 [00:23<02:59, 51.88it/s]"
     ]
    },
    {
     "name": "stdout",
     "output_type": "stream",
     "text": [
      "Found 1 URLs in the text\n",
      "Found 1 URLs in the text\n"
     ]
    },
    {
     "name": "stderr",
     "output_type": "stream",
     "text": [
      " 16%|█▌        | 1723/10990 [00:24<03:45, 41.17it/s]"
     ]
    },
    {
     "name": "stdout",
     "output_type": "stream",
     "text": [
      "Found 2 URLs in the text\n",
      "Found 1 URLs in the text\n"
     ]
    },
    {
     "name": "stderr",
     "output_type": "stream",
     "text": [
      " 16%|█▌        | 1739/10990 [00:24<02:50, 54.39it/s]"
     ]
    },
    {
     "name": "stdout",
     "output_type": "stream",
     "text": [
      "Found 1 URLs in the text\n"
     ]
    },
    {
     "name": "stderr",
     "output_type": "stream",
     "text": [
      " 16%|█▌        | 1753/10990 [00:25<02:44, 56.29it/s]"
     ]
    },
    {
     "name": "stdout",
     "output_type": "stream",
     "text": [
      "Found 1 URLs in the text\n",
      "Found 1 URLs in the text\n"
     ]
    },
    {
     "name": "stderr",
     "output_type": "stream",
     "text": [
      " 16%|█▌        | 1784/10990 [00:25<02:24, 63.53it/s]"
     ]
    },
    {
     "name": "stdout",
     "output_type": "stream",
     "text": [
      "Found 1 URLs in the text\n"
     ]
    },
    {
     "name": "stderr",
     "output_type": "stream",
     "text": [
      " 16%|█▋        | 1799/10990 [00:25<02:28, 62.00it/s]"
     ]
    },
    {
     "name": "stdout",
     "output_type": "stream",
     "text": [
      "Found 1 URLs in the text\n"
     ]
    },
    {
     "name": "stderr",
     "output_type": "stream",
     "text": [
      " 16%|█▋        | 1813/10990 [00:26<02:33, 59.91it/s]"
     ]
    },
    {
     "name": "stdout",
     "output_type": "stream",
     "text": [
      "Found 2 URLs in the text\n",
      "Found 1 URLs in the text\n",
      "Found 1 URLs in the text\n",
      "Found 3 URLs in the text\n"
     ]
    },
    {
     "name": "stderr",
     "output_type": "stream",
     "text": [
      " 17%|█▋        | 1827/10990 [00:26<02:36, 58.71it/s]"
     ]
    },
    {
     "name": "stdout",
     "output_type": "stream",
     "text": [
      "Found 1 URLs in the text\n"
     ]
    },
    {
     "name": "stderr",
     "output_type": "stream",
     "text": [
      " 17%|█▋        | 1862/10990 [00:27<02:37, 58.02it/s]"
     ]
    },
    {
     "name": "stdout",
     "output_type": "stream",
     "text": [
      "Found 1 URLs in the text\n",
      "Found 1 URLs in the text\n",
      "Found DOI URL: https://github.com/uky-transport-data-science/forecastcarddata.\n",
      "Found 1 URLs in the text\n",
      "Found DOI URL: https://github.com/CxAalto/gtfspy\n"
     ]
    },
    {
     "name": "stderr",
     "output_type": "stream",
     "text": [
      " 17%|█▋        | 1908/10990 [00:27<02:45, 54.72it/s]"
     ]
    },
    {
     "name": "stdout",
     "output_type": "stream",
     "text": [
      "Found 2 URLs in the text\n"
     ]
    },
    {
     "name": "stderr",
     "output_type": "stream",
     "text": [
      " 18%|█▊        | 1927/10990 [00:28<02:52, 52.60it/s]"
     ]
    },
    {
     "name": "stdout",
     "output_type": "stream",
     "text": [
      "Found 2 URLs in the text\n",
      "Found 2 URLs in the text\n"
     ]
    },
    {
     "name": "stderr",
     "output_type": "stream",
     "text": [
      " 18%|█▊        | 1942/10990 [00:28<02:43, 55.25it/s]"
     ]
    },
    {
     "name": "stdout",
     "output_type": "stream",
     "text": [
      "Found 1 URLs in the text\n",
      "Found 1 URLs in the text\n",
      "Found 3 URLs in the text\n"
     ]
    },
    {
     "name": "stderr",
     "output_type": "stream",
     "text": [
      " 18%|█▊        | 1989/10990 [00:29<02:38, 56.66it/s]"
     ]
    },
    {
     "name": "stdout",
     "output_type": "stream",
     "text": [
      "Found 1 URLs in the text\n",
      "Found 1 URLs in the text\n",
      "Found 3 URLs in the text\n"
     ]
    },
    {
     "name": "stderr",
     "output_type": "stream",
     "text": [
      " 18%|█▊        | 2005/10990 [00:29<02:17, 65.48it/s]"
     ]
    },
    {
     "name": "stdout",
     "output_type": "stream",
     "text": [
      "Found 1 URLs in the text\n"
     ]
    },
    {
     "name": "stderr",
     "output_type": "stream",
     "text": [
      " 18%|█▊        | 2032/10990 [00:30<03:03, 48.83it/s]"
     ]
    },
    {
     "name": "stdout",
     "output_type": "stream",
     "text": [
      "Found 5 URLs in the text\n",
      "Found 1 URLs in the text\n",
      "Found 1 URLs in the text\n"
     ]
    },
    {
     "name": "stderr",
     "output_type": "stream",
     "text": [
      " 19%|█▊        | 2045/10990 [00:30<02:49, 52.84it/s]"
     ]
    },
    {
     "name": "stdout",
     "output_type": "stream",
     "text": [
      "Found 1 URLs in the text\n",
      "Found 1 URLs in the text\n",
      "Found DOI URL: https://doi.org/10.5281/zenodo.5107737\n",
      "Found 1 URLs in the text\n",
      "Found 2 URLs in the text\n"
     ]
    },
    {
     "name": "stderr",
     "output_type": "stream",
     "text": [
      " 19%|█▉        | 2069/10990 [00:30<02:21, 63.18it/s]"
     ]
    },
    {
     "name": "stdout",
     "output_type": "stream",
     "text": [
      "Found 1 URLs in the text\n",
      "Found DOI URL: https://osf.io/djxs6/?view_only=036e96dae2f94c0b9976372b10a0801b\n"
     ]
    },
    {
     "name": "stderr",
     "output_type": "stream",
     "text": [
      " 19%|█▉        | 2114/10990 [00:31<02:28, 59.69it/s]"
     ]
    },
    {
     "name": "stdout",
     "output_type": "stream",
     "text": [
      "Found 1 URLs in the text\n"
     ]
    },
    {
     "name": "stderr",
     "output_type": "stream",
     "text": [
      " 19%|█▉        | 2135/10990 [00:32<02:39, 55.44it/s]"
     ]
    },
    {
     "name": "stdout",
     "output_type": "stream",
     "text": [
      "Found 5 URLs in the text\n",
      "Found 1 URLs in the text\n"
     ]
    },
    {
     "name": "stderr",
     "output_type": "stream",
     "text": [
      " 20%|█▉        | 2149/10990 [00:32<02:41, 54.65it/s]"
     ]
    },
    {
     "name": "stdout",
     "output_type": "stream",
     "text": [
      "Found 1 URLs in the text\n",
      "Found 1 URLs in the text\n"
     ]
    },
    {
     "name": "stderr",
     "output_type": "stream",
     "text": [
      " 20%|█▉        | 2166/10990 [00:32<03:10, 46.35it/s]"
     ]
    },
    {
     "name": "stdout",
     "output_type": "stream",
     "text": [
      "Found 1 URLs in the text\n"
     ]
    },
    {
     "name": "stderr",
     "output_type": "stream",
     "text": [
      " 20%|█▉        | 2187/10990 [00:33<02:42, 54.06it/s]"
     ]
    },
    {
     "name": "stdout",
     "output_type": "stream",
     "text": [
      "Found 3 URLs in the text\n",
      "Found 3 URLs in the text\n"
     ]
    },
    {
     "name": "stderr",
     "output_type": "stream",
     "text": [
      " 20%|██        | 2215/10990 [00:33<02:21, 62.04it/s]"
     ]
    },
    {
     "name": "stdout",
     "output_type": "stream",
     "text": [
      "Found 1 URLs in the text\n",
      "Found 1 URLs in the text\n",
      "Found 1 URLs in the text\n",
      "Found 1 URLs in the text\n"
     ]
    },
    {
     "name": "stderr",
     "output_type": "stream",
     "text": [
      " 20%|██        | 2230/10990 [00:33<02:16, 64.13it/s]"
     ]
    },
    {
     "name": "stdout",
     "output_type": "stream",
     "text": [
      "Found 1 URLs in the text\n",
      "Found DOI URL: https://github.com/CSSEGISandData/COVID-19\n",
      "Found 1 URLs in the text\n",
      "Found 3 URLs in the text\n"
     ]
    },
    {
     "name": "stderr",
     "output_type": "stream",
     "text": [
      " 20%|██        | 2250/10990 [00:34<02:39, 54.79it/s]"
     ]
    },
    {
     "name": "stdout",
     "output_type": "stream",
     "text": [
      "Found 1 URLs in the text\n",
      "Found DOI URL: https://github.com/websense/CIAMpassengers\n",
      "Found 4 URLs in the text\n",
      "Found 1 URLs in the text\n",
      "Found 1 URLs in the text\n"
     ]
    },
    {
     "name": "stderr",
     "output_type": "stream",
     "text": [
      " 21%|██        | 2262/10990 [00:34<02:46, 52.54it/s]"
     ]
    },
    {
     "name": "stdout",
     "output_type": "stream",
     "text": [
      "Found 2 URLs in the text\n",
      "Found 3 URLs in the text\n",
      "Found DOI URL: https://data.mendeley.com/datasets/m2ccbv7rcr/1.\n"
     ]
    },
    {
     "name": "stderr",
     "output_type": "stream",
     "text": [
      " 21%|██        | 2322/10990 [00:35<03:36, 39.99it/s]"
     ]
    },
    {
     "name": "stdout",
     "output_type": "stream",
     "text": [
      "Found 1 URLs in the text\n"
     ]
    },
    {
     "name": "stderr",
     "output_type": "stream",
     "text": [
      " 21%|██        | 2332/10990 [00:36<03:44, 38.48it/s]"
     ]
    },
    {
     "name": "stdout",
     "output_type": "stream",
     "text": [
      "Found 1 URLs in the text\n"
     ]
    },
    {
     "name": "stderr",
     "output_type": "stream",
     "text": [
      " 21%|██▏       | 2338/10990 [00:36<03:57, 36.39it/s]"
     ]
    },
    {
     "name": "stdout",
     "output_type": "stream",
     "text": [
      "Found 1 URLs in the text\n",
      "Found DOI URL: https://osf.io/2t48x/?view_only=9f580f8ba16e4cc69ecf3a43e8bd96eb\n",
      "Found 1 URLs in the text\n"
     ]
    },
    {
     "name": "stderr",
     "output_type": "stream",
     "text": [
      " 21%|██▏       | 2344/10990 [00:36<03:29, 41.30it/s]"
     ]
    },
    {
     "name": "stdout",
     "output_type": "stream",
     "text": [
      "Found 3 URLs in the text\n",
      "Found 13 URLs in the text\n"
     ]
    },
    {
     "name": "stderr",
     "output_type": "stream",
     "text": [
      " 22%|██▏       | 2369/10990 [00:37<05:54, 24.30it/s]"
     ]
    },
    {
     "name": "stdout",
     "output_type": "stream",
     "text": [
      "Found 1 URLs in the text\n",
      "Found 1 URLs in the text\n",
      "Found DOI URL: https://github.com/giovanni-cal/future-transit.\n",
      "Found 3 URLs in the text\n"
     ]
    },
    {
     "name": "stderr",
     "output_type": "stream",
     "text": [
      " 22%|██▏       | 2389/10990 [00:38<03:54, 36.61it/s]"
     ]
    },
    {
     "name": "stdout",
     "output_type": "stream",
     "text": [
      "Found 2 URLs in the text\n",
      "Found DOI URL: https://www.doi.org/10.17632/f38zrhc2k7.1.\n",
      "Found DOI URL: https://doi.org/10.17632/f38zrhc2k7.1.\n",
      "Found 2 URLs in the text\n"
     ]
    },
    {
     "name": "stderr",
     "output_type": "stream",
     "text": [
      " 22%|██▏       | 2401/10990 [00:38<03:21, 42.57it/s]"
     ]
    },
    {
     "name": "stdout",
     "output_type": "stream",
     "text": [
      "Found 1 URLs in the text\n",
      "Found 2 URLs in the text\n",
      "Found 4 URLs in the text\n"
     ]
    },
    {
     "name": "stderr",
     "output_type": "stream",
     "text": [
      " 22%|██▏       | 2421/10990 [00:38<02:56, 48.50it/s]"
     ]
    },
    {
     "name": "stdout",
     "output_type": "stream",
     "text": [
      "Found 3 URLs in the text\n",
      "Found DOI URL: https://github.com/UTEL-UIUC/Ridesharing-Scale-Effects.\n",
      "Found 1 URLs in the text\n"
     ]
    },
    {
     "name": "stderr",
     "output_type": "stream",
     "text": [
      " 22%|██▏       | 2433/10990 [00:38<02:53, 49.41it/s]"
     ]
    },
    {
     "name": "stdout",
     "output_type": "stream",
     "text": [
      "Found 1 URLs in the text\n",
      "Found DOI URL: https://github.com/chechezhe/IEUATMP\n",
      "Found 2 URLs in the text\n",
      "Found DOI URL: https://dataverse.harvard.edu/dataset.xhtml?persistentId=doi:10.7910/DVN/FSGDQM.\n"
     ]
    },
    {
     "name": "stderr",
     "output_type": "stream",
     "text": [
      " 22%|██▏       | 2466/10990 [00:39<02:37, 54.02it/s]"
     ]
    },
    {
     "name": "stdout",
     "output_type": "stream",
     "text": [
      "Found 1 URLs in the text\n",
      "Found 1 URLs in the text\n",
      "Found DOI URL: https://doi.org/10.7910/DVN/UOAKTM.\n"
     ]
    },
    {
     "name": "stderr",
     "output_type": "stream",
     "text": [
      " 23%|██▎       | 2478/10990 [00:39<03:16, 43.21it/s]"
     ]
    },
    {
     "name": "stdout",
     "output_type": "stream",
     "text": [
      "Found 2 URLs in the text\n"
     ]
    },
    {
     "name": "stderr",
     "output_type": "stream",
     "text": [
      " 23%|██▎       | 2493/10990 [00:40<03:21, 42.20it/s]"
     ]
    },
    {
     "name": "stdout",
     "output_type": "stream",
     "text": [
      "Found 2 URLs in the text\n",
      "Found 2 URLs in the text\n",
      "Found DOI URL: https://github.com/ghirte/WorkingFromSelfDrivingCar.\n",
      "Found DOI URL: https://github.com/ghirte/WorkingFromCar.\n"
     ]
    },
    {
     "name": "stderr",
     "output_type": "stream",
     "text": [
      " 23%|██▎       | 2503/10990 [00:40<03:32, 39.90it/s]"
     ]
    },
    {
     "name": "stdout",
     "output_type": "stream",
     "text": [
      "Found 3 URLs in the text\n"
     ]
    },
    {
     "name": "stderr",
     "output_type": "stream",
     "text": [
      " 23%|██▎       | 2510/10990 [00:40<03:21, 42.12it/s]"
     ]
    },
    {
     "name": "stdout",
     "output_type": "stream",
     "text": [
      "Found 2 URLs in the text\n",
      "Found 1 URLs in the text\n",
      "Found 1 URLs in the text\n"
     ]
    },
    {
     "name": "stderr",
     "output_type": "stream",
     "text": [
      " 23%|██▎       | 2522/10990 [00:40<03:18, 42.70it/s]"
     ]
    },
    {
     "name": "stdout",
     "output_type": "stream",
     "text": [
      "Found 2 URLs in the text\n",
      "Found 1 URLs in the text\n"
     ]
    },
    {
     "name": "stderr",
     "output_type": "stream",
     "text": [
      " 23%|██▎       | 2540/10990 [00:41<03:15, 43.21it/s]"
     ]
    },
    {
     "name": "stdout",
     "output_type": "stream",
     "text": [
      "Found 4 URLs in the text\n",
      "Found 1 URLs in the text\n",
      "Found DOI URL: https://github.com/matsim-scenarios/matsim-vulkaneifel.\n",
      "Found 3 URLs in the text\n",
      "Found 1 URLs in the text\n",
      "Found DOI URL: https://zenodo.org/record/6803956#.Y-HdfXZKiUk\n",
      "Found 1 URLs in the text\n",
      "Found DOI URL: http://doi.org/10.17035/d.2023.0298704521.\n"
     ]
    },
    {
     "name": "stderr",
     "output_type": "stream",
     "text": [
      " 23%|██▎       | 2554/10990 [00:41<02:57, 47.60it/s]"
     ]
    },
    {
     "name": "stdout",
     "output_type": "stream",
     "text": [
      "Found 1 URLs in the text\n"
     ]
    },
    {
     "name": "stderr",
     "output_type": "stream",
     "text": [
      " 23%|██▎       | 2568/10990 [00:41<02:48, 50.12it/s]"
     ]
    },
    {
     "name": "stdout",
     "output_type": "stream",
     "text": [
      "Found 1 URLs in the text\n",
      "Found 2 URLs in the text\n"
     ]
    },
    {
     "name": "stderr",
     "output_type": "stream",
     "text": [
      " 23%|██▎       | 2580/10990 [00:42<03:18, 42.47it/s]"
     ]
    },
    {
     "name": "stdout",
     "output_type": "stream",
     "text": [
      "Found 6 URLs in the text\n"
     ]
    },
    {
     "name": "stderr",
     "output_type": "stream",
     "text": [
      " 24%|██▎       | 2587/10990 [00:42<03:10, 44.08it/s]"
     ]
    },
    {
     "name": "stdout",
     "output_type": "stream",
     "text": [
      "Found 2 URLs in the text\n",
      "Found 1 URLs in the text\n"
     ]
    },
    {
     "name": "stderr",
     "output_type": "stream",
     "text": [
      " 24%|██▎       | 2605/10990 [00:42<03:02, 46.05it/s]"
     ]
    },
    {
     "name": "stdout",
     "output_type": "stream",
     "text": [
      "Found 1 URLs in the text\n",
      "Found 1 URLs in the text\n"
     ]
    },
    {
     "name": "stderr",
     "output_type": "stream",
     "text": [
      " 24%|██▍       | 2615/10990 [00:42<03:23, 41.09it/s]"
     ]
    },
    {
     "name": "stdout",
     "output_type": "stream",
     "text": [
      "Found 1 URLs in the text\n"
     ]
    },
    {
     "name": "stderr",
     "output_type": "stream",
     "text": [
      " 24%|██▍       | 2625/10990 [00:43<03:27, 40.38it/s]"
     ]
    },
    {
     "name": "stdout",
     "output_type": "stream",
     "text": [
      "Found 3 URLs in the text\n"
     ]
    },
    {
     "name": "stderr",
     "output_type": "stream",
     "text": [
      " 24%|██▍       | 2648/10990 [00:43<03:12, 43.39it/s]"
     ]
    },
    {
     "name": "stdout",
     "output_type": "stream",
     "text": [
      "Found 1 URLs in the text\n",
      "Found DOI URL: https://data.mendeley.com/datasets/xt69cnwh56/1\n"
     ]
    },
    {
     "name": "stderr",
     "output_type": "stream",
     "text": [
      " 24%|██▍       | 2666/10990 [00:44<03:27, 40.07it/s]"
     ]
    },
    {
     "name": "stdout",
     "output_type": "stream",
     "text": [
      "Found 1 URLs in the text\n"
     ]
    },
    {
     "name": "stderr",
     "output_type": "stream",
     "text": [
      " 25%|██▍       | 2693/10990 [00:44<03:00, 45.97it/s]"
     ]
    },
    {
     "name": "stdout",
     "output_type": "stream",
     "text": [
      "Found 1 URLs in the text\n"
     ]
    },
    {
     "name": "stderr",
     "output_type": "stream",
     "text": [
      " 25%|██▍       | 2715/10990 [00:45<02:58, 46.39it/s]"
     ]
    },
    {
     "name": "stdout",
     "output_type": "stream",
     "text": [
      "Found 1 URLs in the text\n",
      "Found DOI URL: https://github.com/yuki-oyama/pedzone-design.\n"
     ]
    },
    {
     "name": "stderr",
     "output_type": "stream",
     "text": [
      " 25%|██▍       | 2720/10990 [00:45<03:52, 35.57it/s]"
     ]
    },
    {
     "name": "stdout",
     "output_type": "stream",
     "text": [
      "Found 7 URLs in the text\n",
      "Found 3 URLs in the text\n",
      "Found 2 URLs in the text\n",
      "Found 4 URLs in the text\n"
     ]
    },
    {
     "name": "stderr",
     "output_type": "stream",
     "text": [
      " 25%|██▍       | 2735/10990 [00:45<03:22, 40.70it/s]"
     ]
    },
    {
     "name": "stdout",
     "output_type": "stream",
     "text": [
      "Found 2 URLs in the text\n"
     ]
    },
    {
     "name": "stderr",
     "output_type": "stream",
     "text": [
      " 25%|██▍       | 2740/10990 [00:46<03:33, 38.70it/s]"
     ]
    },
    {
     "name": "stdout",
     "output_type": "stream",
     "text": [
      "Found 1 URLs in the text\n",
      "Found 1 URLs in the text\n",
      "Found 3 URLs in the text\n",
      "Found 1 URLs in the text\n"
     ]
    },
    {
     "name": "stderr",
     "output_type": "stream",
     "text": [
      " 25%|██▌       | 2763/10990 [00:46<04:04, 33.70it/s]"
     ]
    },
    {
     "name": "stdout",
     "output_type": "stream",
     "text": [
      "Found 2 URLs in the text\n"
     ]
    },
    {
     "name": "stderr",
     "output_type": "stream",
     "text": [
      " 25%|██▌       | 2771/10990 [00:46<03:46, 36.24it/s]"
     ]
    },
    {
     "name": "stdout",
     "output_type": "stream",
     "text": [
      "Found 1 URLs in the text\n",
      "Found 11 URLs in the text\n"
     ]
    },
    {
     "name": "stderr",
     "output_type": "stream",
     "text": [
      " 25%|██▌       | 2781/10990 [00:47<03:35, 38.13it/s]"
     ]
    },
    {
     "name": "stdout",
     "output_type": "stream",
     "text": [
      "Found 1 URLs in the text\n"
     ]
    },
    {
     "name": "stderr",
     "output_type": "stream",
     "text": [
      " 25%|██▌       | 2793/10990 [00:47<04:22, 31.28it/s]"
     ]
    },
    {
     "name": "stdout",
     "output_type": "stream",
     "text": [
      "Found 2 URLs in the text\n",
      "Found 3 URLs in the text\n"
     ]
    },
    {
     "name": "stderr",
     "output_type": "stream",
     "text": [
      " 25%|██▌       | 2801/10990 [00:47<04:28, 30.52it/s]"
     ]
    },
    {
     "name": "stdout",
     "output_type": "stream",
     "text": [
      "Found 1 URLs in the text\n",
      "Found DOI URL: https://github.com/goat-community/goat.\n"
     ]
    },
    {
     "name": "stderr",
     "output_type": "stream",
     "text": [
      " 26%|██▌       | 2840/10990 [00:48<03:20, 40.66it/s]"
     ]
    },
    {
     "name": "stdout",
     "output_type": "stream",
     "text": [
      "Found 2 URLs in the text\n",
      "Found DOI URL: https://github.com/GretaGalliani/dynamic-OD-estimation-railway-network.\n",
      "Found DOI URL: https://github.com/GretaGalliani/dynamic-OD-estimation-railway-network\n",
      "Found 1 URLs in the text\n",
      "Found 1 URLs in the text\n",
      "Found 1 URLs in the text\n",
      "Found DOI URL: https://doi.org/10.4121/f1272944-9b3d-480f-a37a-b41d972aec7d\n",
      "Found 4 URLs in the text\n",
      "Found 1 URLs in the text\n"
     ]
    },
    {
     "name": "stderr",
     "output_type": "stream",
     "text": [
      " 27%|██▋       | 2915/10990 [00:51<06:02, 22.28it/s]"
     ]
    },
    {
     "name": "stdout",
     "output_type": "stream",
     "text": [
      "Found 1 URLs in the text\n"
     ]
    },
    {
     "name": "stderr",
     "output_type": "stream",
     "text": [
      " 27%|██▋       | 2924/10990 [00:51<04:47, 28.02it/s]"
     ]
    },
    {
     "name": "stdout",
     "output_type": "stream",
     "text": [
      "Found 1 URLs in the text\n"
     ]
    },
    {
     "name": "stderr",
     "output_type": "stream",
     "text": [
      " 27%|██▋       | 2990/10990 [00:54<05:58, 22.30it/s]"
     ]
    },
    {
     "name": "stdout",
     "output_type": "stream",
     "text": [
      "Found 1 URLs in the text\n"
     ]
    },
    {
     "name": "stderr",
     "output_type": "stream",
     "text": [
      " 27%|██▋       | 2996/10990 [00:54<06:11, 21.50it/s]"
     ]
    },
    {
     "name": "stdout",
     "output_type": "stream",
     "text": [
      "Found 1 URLs in the text\n"
     ]
    },
    {
     "name": "stderr",
     "output_type": "stream",
     "text": [
      " 28%|██▊       | 3087/10990 [00:58<05:34, 23.63it/s]"
     ]
    },
    {
     "name": "stdout",
     "output_type": "stream",
     "text": [
      "Found 2 URLs in the text\n"
     ]
    },
    {
     "name": "stderr",
     "output_type": "stream",
     "text": [
      " 28%|██▊       | 3106/10990 [00:59<05:31, 23.79it/s]"
     ]
    },
    {
     "name": "stdout",
     "output_type": "stream",
     "text": [
      "Found 1 URLs in the text\n",
      "Found 1 URLs in the text\n",
      "Found 1 URLs in the text\n"
     ]
    },
    {
     "name": "stderr",
     "output_type": "stream",
     "text": [
      " 29%|██▉       | 3163/10990 [01:02<05:54, 22.10it/s]"
     ]
    },
    {
     "name": "stdout",
     "output_type": "stream",
     "text": [
      "Found 4 URLs in the text\n"
     ]
    },
    {
     "name": "stderr",
     "output_type": "stream",
     "text": [
      " 29%|██▉       | 3173/10990 [01:02<06:08, 21.19it/s]"
     ]
    },
    {
     "name": "stdout",
     "output_type": "stream",
     "text": [
      "Found 1 URLs in the text\n"
     ]
    },
    {
     "name": "stderr",
     "output_type": "stream",
     "text": [
      " 30%|██▉       | 3249/10990 [01:06<06:46, 19.04it/s]"
     ]
    },
    {
     "name": "stdout",
     "output_type": "stream",
     "text": [
      "Found 1 URLs in the text\n"
     ]
    },
    {
     "name": "stderr",
     "output_type": "stream",
     "text": [
      " 30%|██▉       | 3262/10990 [01:06<05:49, 22.12it/s]"
     ]
    },
    {
     "name": "stdout",
     "output_type": "stream",
     "text": [
      "Found 2 URLs in the text\n",
      "Found DOI URL: https://github.com/CATS-Lab-USF.\n",
      "Found DOI URL: https://github.com/CATS-Lab-USF\n"
     ]
    },
    {
     "name": "stderr",
     "output_type": "stream",
     "text": [
      " 30%|██▉       | 3274/10990 [01:07<05:47, 22.20it/s]"
     ]
    },
    {
     "name": "stdout",
     "output_type": "stream",
     "text": [
      "Found 3 URLs in the text\n"
     ]
    },
    {
     "name": "stderr",
     "output_type": "stream",
     "text": [
      " 30%|██▉       | 3277/10990 [01:07<06:43, 19.11it/s]"
     ]
    },
    {
     "name": "stdout",
     "output_type": "stream",
     "text": [
      "Found 1 URLs in the text\n"
     ]
    },
    {
     "name": "stderr",
     "output_type": "stream",
     "text": [
      " 30%|██▉       | 3287/10990 [01:08<07:06, 18.08it/s]"
     ]
    },
    {
     "name": "stdout",
     "output_type": "stream",
     "text": [
      "Found 3 URLs in the text\n"
     ]
    },
    {
     "name": "stderr",
     "output_type": "stream",
     "text": [
      " 30%|███       | 3315/10990 [01:09<06:28, 19.77it/s]"
     ]
    },
    {
     "name": "stdout",
     "output_type": "stream",
     "text": [
      "Found 1 URLs in the text\n"
     ]
    },
    {
     "name": "stderr",
     "output_type": "stream",
     "text": [
      " 30%|███       | 3349/10990 [01:11<06:57, 18.31it/s]"
     ]
    },
    {
     "name": "stdout",
     "output_type": "stream",
     "text": [
      "Found 2 URLs in the text\n"
     ]
    },
    {
     "name": "stderr",
     "output_type": "stream",
     "text": [
      " 31%|███       | 3364/10990 [01:11<06:09, 20.63it/s]"
     ]
    },
    {
     "name": "stdout",
     "output_type": "stream",
     "text": [
      "Found 1 URLs in the text\n",
      "Found 2 URLs in the text\n",
      "Found DOI URL: https://github.com/Lyurlik/multidirectional-traffic-model,\n"
     ]
    },
    {
     "name": "stderr",
     "output_type": "stream",
     "text": [
      " 31%|███       | 3415/10990 [01:14<07:27, 16.93it/s]"
     ]
    },
    {
     "name": "stdout",
     "output_type": "stream",
     "text": [
      "Found 3 URLs in the text\n",
      "Found DOI URL: https://data.mendeley.com/datasets/72z2mb843k/1..\n",
      "Found 1 URLs in the text\n"
     ]
    },
    {
     "name": "stderr",
     "output_type": "stream",
     "text": [
      " 31%|███       | 3421/10990 [01:15<08:36, 14.66it/s]"
     ]
    },
    {
     "name": "stdout",
     "output_type": "stream",
     "text": [
      "Found 2 URLs in the text\n",
      "Found DOI URL: https://github.com/deborahmit/TasteNet-MNL.\n",
      "Found 2 URLs in the text\n",
      "Found DOI URL: https://doi.org/10.13140/RG.2.2.22522.11209.\n"
     ]
    },
    {
     "name": "stderr",
     "output_type": "stream",
     "text": [
      " 31%|███       | 3426/10990 [01:15<07:46, 16.22it/s]"
     ]
    },
    {
     "name": "stdout",
     "output_type": "stream",
     "text": [
      "Found 1 URLs in the text\n",
      "Found DOI URL: https://github.com/BUILTNYU/transit-data-game.\n",
      "Found 1 URLs in the text\n"
     ]
    },
    {
     "name": "stderr",
     "output_type": "stream",
     "text": [
      " 31%|███▏      | 3442/10990 [01:16<05:27, 23.03it/s]"
     ]
    },
    {
     "name": "stdout",
     "output_type": "stream",
     "text": [
      "Found 1 URLs in the text\n"
     ]
    },
    {
     "name": "stderr",
     "output_type": "stream",
     "text": [
      " 31%|███▏      | 3453/10990 [01:16<04:48, 26.14it/s]"
     ]
    },
    {
     "name": "stdout",
     "output_type": "stream",
     "text": [
      "Found 1 URLs in the text\n",
      "Found DOI URL: http://dx.doi.org/10.17632/jybm8hkp9y.1.\n",
      "Found 1 URLs in the text\n",
      "Found DOI URL: https://github.com/xr2006/AMXL.git\n"
     ]
    },
    {
     "name": "stderr",
     "output_type": "stream",
     "text": [
      " 32%|███▏      | 3472/10990 [01:17<05:43, 21.87it/s]"
     ]
    },
    {
     "name": "stdout",
     "output_type": "stream",
     "text": [
      "Found 1 URLs in the text\n"
     ]
    },
    {
     "name": "stderr",
     "output_type": "stream",
     "text": [
      " 32%|███▏      | 3518/10990 [01:20<05:57, 20.90it/s]"
     ]
    },
    {
     "name": "stdout",
     "output_type": "stream",
     "text": [
      "Found 2 URLs in the text\n"
     ]
    },
    {
     "name": "stderr",
     "output_type": "stream",
     "text": [
      " 32%|███▏      | 3559/10990 [01:22<06:55, 17.88it/s]"
     ]
    },
    {
     "name": "stdout",
     "output_type": "stream",
     "text": [
      "Found 1 URLs in the text\n"
     ]
    },
    {
     "name": "stderr",
     "output_type": "stream",
     "text": [
      " 33%|███▎      | 3589/10990 [01:24<07:04, 17.45it/s]"
     ]
    },
    {
     "name": "stdout",
     "output_type": "stream",
     "text": [
      "Found 1 URLs in the text\n"
     ]
    },
    {
     "name": "stderr",
     "output_type": "stream",
     "text": [
      " 33%|███▎      | 3595/10990 [01:24<09:11, 13.40it/s]"
     ]
    },
    {
     "name": "stdout",
     "output_type": "stream",
     "text": [
      "Found 1 URLs in the text\n",
      "Found DOI URL: https://github.com/pabloguarda/isuelogit.\n"
     ]
    },
    {
     "name": "stderr",
     "output_type": "stream",
     "text": [
      " 33%|███▎      | 3639/10990 [01:27<06:58, 17.58it/s]"
     ]
    },
    {
     "name": "stdout",
     "output_type": "stream",
     "text": [
      "Found 3 URLs in the text\n"
     ]
    },
    {
     "name": "stderr",
     "output_type": "stream",
     "text": [
      " 33%|███▎      | 3670/10990 [01:29<07:43, 15.80it/s]"
     ]
    },
    {
     "name": "stdout",
     "output_type": "stream",
     "text": [
      "Found 2 URLs in the text\n",
      "Found DOI URL: https://github.com/valhalla/valhalla\n"
     ]
    },
    {
     "name": "stderr",
     "output_type": "stream",
     "text": [
      " 34%|███▍      | 3723/10990 [01:32<05:29, 22.03it/s]"
     ]
    },
    {
     "name": "stdout",
     "output_type": "stream",
     "text": [
      "Found 1 URLs in the text\n"
     ]
    },
    {
     "name": "stderr",
     "output_type": "stream",
     "text": [
      " 34%|███▍      | 3732/10990 [01:32<05:27, 22.19it/s]"
     ]
    },
    {
     "name": "stdout",
     "output_type": "stream",
     "text": [
      "Found 2 URLs in the text\n"
     ]
    },
    {
     "name": "stderr",
     "output_type": "stream",
     "text": [
      " 34%|███▍      | 3742/10990 [01:33<05:38, 21.39it/s]"
     ]
    },
    {
     "name": "stdout",
     "output_type": "stream",
     "text": [
      "Found 1 URLs in the text\n",
      "Found 2 URLs in the text\n"
     ]
    },
    {
     "name": "stderr",
     "output_type": "stream",
     "text": [
      " 34%|███▍      | 3764/10990 [01:34<05:44, 20.99it/s]"
     ]
    },
    {
     "name": "stdout",
     "output_type": "stream",
     "text": [
      "Found 1 URLs in the text\n"
     ]
    },
    {
     "name": "stderr",
     "output_type": "stream",
     "text": [
      " 34%|███▍      | 3779/10990 [01:35<05:07, 23.44it/s]"
     ]
    },
    {
     "name": "stdout",
     "output_type": "stream",
     "text": [
      "Found 1 URLs in the text\n"
     ]
    },
    {
     "name": "stderr",
     "output_type": "stream",
     "text": [
      " 35%|███▍      | 3805/10990 [01:36<04:30, 26.54it/s]"
     ]
    },
    {
     "name": "stdout",
     "output_type": "stream",
     "text": [
      "Found 1 URLs in the text\n",
      "Found DOI URL: https://doi.org//10-2014/15\n"
     ]
    },
    {
     "name": "stderr",
     "output_type": "stream",
     "text": [
      " 35%|███▌      | 3886/10990 [01:39<06:14, 18.97it/s]"
     ]
    },
    {
     "name": "stdout",
     "output_type": "stream",
     "text": [
      "Found 1 URLs in the text\n"
     ]
    },
    {
     "name": "stderr",
     "output_type": "stream",
     "text": [
      " 36%|███▌      | 3935/10990 [01:42<05:05, 23.10it/s]"
     ]
    },
    {
     "name": "stdout",
     "output_type": "stream",
     "text": [
      "Found 1 URLs in the text\n"
     ]
    },
    {
     "name": "stderr",
     "output_type": "stream",
     "text": [
      " 36%|███▋      | 3984/10990 [01:44<04:45, 24.50it/s]"
     ]
    },
    {
     "name": "stdout",
     "output_type": "stream",
     "text": [
      "Found 2 URLs in the text\n"
     ]
    },
    {
     "name": "stderr",
     "output_type": "stream",
     "text": [
      " 36%|███▋      | 3993/10990 [01:44<05:19, 21.92it/s]"
     ]
    },
    {
     "name": "stdout",
     "output_type": "stream",
     "text": [
      "Found 3 URLs in the text\n",
      "Found DOI URL: https://doi.org/10.4121/uuid:5725add4-7fe8-41d1-a452-b1fc011e0bae\n",
      "Found DOI URL: https://doi.org/10.4121/uuid:5725add4-7fe8-41d1-a452-b1fc011e0bae\n",
      "Found 1 URLs in the text\n"
     ]
    },
    {
     "name": "stderr",
     "output_type": "stream",
     "text": [
      " 36%|███▋      | 4007/10990 [01:45<04:19, 26.88it/s]"
     ]
    },
    {
     "name": "stdout",
     "output_type": "stream",
     "text": [
      "Found 1 URLs in the text\n"
     ]
    },
    {
     "name": "stderr",
     "output_type": "stream",
     "text": [
      " 37%|███▋      | 4027/10990 [01:46<05:30, 21.06it/s]"
     ]
    },
    {
     "name": "stdout",
     "output_type": "stream",
     "text": [
      "Found 1 URLs in the text\n"
     ]
    },
    {
     "name": "stderr",
     "output_type": "stream",
     "text": [
      " 37%|███▋      | 4071/10990 [01:48<05:00, 22.99it/s]"
     ]
    },
    {
     "name": "stdout",
     "output_type": "stream",
     "text": [
      "Found 1 URLs in the text\n"
     ]
    },
    {
     "name": "stderr",
     "output_type": "stream",
     "text": [
      " 37%|███▋      | 4090/10990 [01:49<04:46, 24.07it/s]"
     ]
    },
    {
     "name": "stdout",
     "output_type": "stream",
     "text": [
      "Found 1 URLs in the text\n"
     ]
    },
    {
     "name": "stderr",
     "output_type": "stream",
     "text": [
      " 38%|███▊      | 4139/10990 [01:51<05:41, 20.06it/s]"
     ]
    },
    {
     "name": "stdout",
     "output_type": "stream",
     "text": [
      "Found 1 URLs in the text\n"
     ]
    },
    {
     "name": "stderr",
     "output_type": "stream",
     "text": [
      " 39%|███▊      | 4240/10990 [01:56<04:05, 27.48it/s]"
     ]
    },
    {
     "name": "stdout",
     "output_type": "stream",
     "text": [
      "Found 5 URLs in the text\n",
      "Found DOI URL: http://dx.doi.org/10.17632/zsmk3dxh7s.1\n"
     ]
    },
    {
     "name": "stderr",
     "output_type": "stream",
     "text": [
      " 39%|███▊      | 4246/10990 [01:56<04:55, 22.80it/s]"
     ]
    },
    {
     "name": "stdout",
     "output_type": "stream",
     "text": [
      "Found 1 URLs in the text\n"
     ]
    },
    {
     "name": "stderr",
     "output_type": "stream",
     "text": [
      " 39%|███▊      | 4256/10990 [01:57<05:17, 21.23it/s]"
     ]
    },
    {
     "name": "stdout",
     "output_type": "stream",
     "text": [
      "Found 4 URLs in the text\n",
      "Found 1 URLs in the text\n"
     ]
    },
    {
     "name": "stderr",
     "output_type": "stream",
     "text": [
      " 39%|███▉      | 4268/10990 [01:57<04:40, 23.95it/s]"
     ]
    },
    {
     "name": "stdout",
     "output_type": "stream",
     "text": [
      "Found 1 URLs in the text\n"
     ]
    },
    {
     "name": "stderr",
     "output_type": "stream",
     "text": [
      " 39%|███▉      | 4283/10990 [01:58<04:54, 22.79it/s]"
     ]
    },
    {
     "name": "stdout",
     "output_type": "stream",
     "text": [
      "Found 1 URLs in the text\n"
     ]
    },
    {
     "name": "stderr",
     "output_type": "stream",
     "text": [
      " 39%|███▉      | 4318/10990 [02:00<05:30, 20.20it/s]"
     ]
    },
    {
     "name": "stdout",
     "output_type": "stream",
     "text": [
      "Found 2 URLs in the text\n"
     ]
    },
    {
     "name": "stderr",
     "output_type": "stream",
     "text": [
      " 39%|███▉      | 4324/10990 [02:00<04:47, 23.19it/s]"
     ]
    },
    {
     "name": "stdout",
     "output_type": "stream",
     "text": [
      "Found 1 URLs in the text\n"
     ]
    },
    {
     "name": "stderr",
     "output_type": "stream",
     "text": [
      " 40%|███▉      | 4361/10990 [02:02<05:14, 21.07it/s]"
     ]
    },
    {
     "name": "stdout",
     "output_type": "stream",
     "text": [
      "Found 1 URLs in the text\n",
      "Found 1 URLs in the text\n"
     ]
    },
    {
     "name": "stderr",
     "output_type": "stream",
     "text": [
      " 40%|████      | 4415/10990 [02:05<05:05, 21.50it/s]"
     ]
    },
    {
     "name": "stdout",
     "output_type": "stream",
     "text": [
      "Found 1 URLs in the text\n"
     ]
    },
    {
     "name": "stderr",
     "output_type": "stream",
     "text": [
      " 40%|████      | 4439/10990 [02:06<05:30, 19.85it/s]"
     ]
    },
    {
     "name": "stdout",
     "output_type": "stream",
     "text": [
      "Found 1 URLs in the text\n"
     ]
    },
    {
     "name": "stderr",
     "output_type": "stream",
     "text": [
      " 41%|████      | 4451/10990 [02:07<05:28, 19.88it/s]"
     ]
    },
    {
     "name": "stdout",
     "output_type": "stream",
     "text": [
      "Found 2 URLs in the text\n"
     ]
    },
    {
     "name": "stderr",
     "output_type": "stream",
     "text": [
      " 41%|████      | 4469/10990 [02:08<06:00, 18.08it/s]"
     ]
    },
    {
     "name": "stdout",
     "output_type": "stream",
     "text": [
      "Found 2 URLs in the text\n"
     ]
    },
    {
     "name": "stderr",
     "output_type": "stream",
     "text": [
      " 41%|████      | 4519/10990 [02:10<04:08, 26.02it/s]"
     ]
    },
    {
     "name": "stdout",
     "output_type": "stream",
     "text": [
      "Found 1 URLs in the text\n"
     ]
    },
    {
     "name": "stderr",
     "output_type": "stream",
     "text": [
      " 42%|████▏     | 4563/10990 [02:12<04:42, 22.73it/s]"
     ]
    },
    {
     "name": "stdout",
     "output_type": "stream",
     "text": [
      "Found 1 URLs in the text\n"
     ]
    },
    {
     "name": "stderr",
     "output_type": "stream",
     "text": [
      " 42%|████▏     | 4583/10990 [02:13<04:38, 22.99it/s]"
     ]
    },
    {
     "name": "stdout",
     "output_type": "stream",
     "text": [
      "Found 2 URLs in the text\n"
     ]
    },
    {
     "name": "stderr",
     "output_type": "stream",
     "text": [
      " 42%|████▏     | 4589/10990 [02:14<05:45, 18.54it/s]"
     ]
    },
    {
     "name": "stdout",
     "output_type": "stream",
     "text": [
      "Found 1 URLs in the text\n",
      "Found DOI URL: https://doi.org/10.17863/CAM.85777.\n"
     ]
    },
    {
     "name": "stderr",
     "output_type": "stream",
     "text": [
      " 42%|████▏     | 4598/10990 [02:14<04:29, 23.68it/s]"
     ]
    },
    {
     "name": "stdout",
     "output_type": "stream",
     "text": [
      "Found 1 URLs in the text\n",
      "Found DOI URL: https://doi.org/10.48328/tudatalib-800.\n"
     ]
    },
    {
     "name": "stderr",
     "output_type": "stream",
     "text": [
      " 42%|████▏     | 4635/10990 [02:16<05:52, 18.05it/s]"
     ]
    },
    {
     "name": "stdout",
     "output_type": "stream",
     "text": [
      "Found 1 URLs in the text\n"
     ]
    },
    {
     "name": "stderr",
     "output_type": "stream",
     "text": [
      " 42%|████▏     | 4657/10990 [02:17<04:50, 21.77it/s]"
     ]
    },
    {
     "name": "stdout",
     "output_type": "stream",
     "text": [
      "Found 1 URLs in the text\n"
     ]
    },
    {
     "name": "stderr",
     "output_type": "stream",
     "text": [
      " 42%|████▏     | 4664/10990 [02:18<07:09, 14.72it/s]"
     ]
    },
    {
     "name": "stdout",
     "output_type": "stream",
     "text": [
      "Found 1 URLs in the text\n"
     ]
    },
    {
     "name": "stderr",
     "output_type": "stream",
     "text": [
      " 43%|████▎     | 4707/10990 [02:20<04:43, 22.18it/s]"
     ]
    },
    {
     "name": "stdout",
     "output_type": "stream",
     "text": [
      "Found 1 URLs in the text\n"
     ]
    },
    {
     "name": "stderr",
     "output_type": "stream",
     "text": [
      " 43%|████▎     | 4733/10990 [02:21<04:59, 20.87it/s]"
     ]
    },
    {
     "name": "stdout",
     "output_type": "stream",
     "text": [
      "Found 2 URLs in the text\n"
     ]
    },
    {
     "name": "stderr",
     "output_type": "stream",
     "text": [
      " 43%|████▎     | 4763/10990 [02:23<04:17, 24.19it/s]"
     ]
    },
    {
     "name": "stdout",
     "output_type": "stream",
     "text": [
      "Found 3 URLs in the text\n",
      "Found DOI URL: https://github.com/418399/COVID-19-related-data.git.\n"
     ]
    },
    {
     "name": "stderr",
     "output_type": "stream",
     "text": [
      " 43%|████▎     | 4767/10990 [02:23<03:56, 26.27it/s]"
     ]
    },
    {
     "name": "stdout",
     "output_type": "stream",
     "text": [
      "Found 1 URLs in the text\n"
     ]
    },
    {
     "name": "stderr",
     "output_type": "stream",
     "text": [
      " 44%|████▍     | 4810/10990 [02:26<05:29, 18.75it/s]"
     ]
    },
    {
     "name": "stdout",
     "output_type": "stream",
     "text": [
      "Found 2 URLs in the text\n"
     ]
    },
    {
     "name": "stderr",
     "output_type": "stream",
     "text": [
      " 44%|████▍     | 4828/10990 [02:26<04:41, 21.86it/s]"
     ]
    },
    {
     "name": "stdout",
     "output_type": "stream",
     "text": [
      "Found 1 URLs in the text\n",
      "Found 1 URLs in the text\n",
      "Found 1 URLs in the text\n"
     ]
    },
    {
     "name": "stderr",
     "output_type": "stream",
     "text": [
      " 44%|████▍     | 4877/10990 [02:29<04:27, 22.86it/s]"
     ]
    },
    {
     "name": "stdout",
     "output_type": "stream",
     "text": [
      "Found 1 URLs in the text\n"
     ]
    },
    {
     "name": "stderr",
     "output_type": "stream",
     "text": [
      " 44%|████▍     | 4886/10990 [02:29<04:51, 20.94it/s]"
     ]
    },
    {
     "name": "stdout",
     "output_type": "stream",
     "text": [
      "Found 4 URLs in the text\n"
     ]
    },
    {
     "name": "stderr",
     "output_type": "stream",
     "text": [
      " 45%|████▍     | 4909/10990 [02:30<05:40, 17.88it/s]"
     ]
    },
    {
     "name": "stdout",
     "output_type": "stream",
     "text": [
      "Found 1 URLs in the text\n"
     ]
    },
    {
     "name": "stderr",
     "output_type": "stream",
     "text": [
      " 45%|████▍     | 4912/10990 [02:31<06:09, 16.45it/s]"
     ]
    },
    {
     "name": "stdout",
     "output_type": "stream",
     "text": [
      "Found 1 URLs in the text\n"
     ]
    },
    {
     "name": "stderr",
     "output_type": "stream",
     "text": [
      " 45%|████▍     | 4919/10990 [02:31<05:05, 19.89it/s]"
     ]
    },
    {
     "name": "stdout",
     "output_type": "stream",
     "text": [
      "Found 3 URLs in the text\n"
     ]
    },
    {
     "name": "stderr",
     "output_type": "stream",
     "text": [
      " 45%|████▍     | 4941/10990 [02:32<04:36, 21.86it/s]"
     ]
    },
    {
     "name": "stdout",
     "output_type": "stream",
     "text": [
      "Found 2 URLs in the text\n",
      "Found 3 URLs in the text\n",
      "Found 1 URLs in the text\n",
      "Found 3 URLs in the text\n"
     ]
    },
    {
     "name": "stderr",
     "output_type": "stream",
     "text": [
      " 45%|████▌     | 4951/10990 [02:32<05:16, 19.11it/s]"
     ]
    },
    {
     "name": "stdout",
     "output_type": "stream",
     "text": [
      "Found 1 URLs in the text\n"
     ]
    },
    {
     "name": "stderr",
     "output_type": "stream",
     "text": [
      " 45%|████▌     | 4958/10990 [02:33<04:55, 20.44it/s]"
     ]
    },
    {
     "name": "stdout",
     "output_type": "stream",
     "text": [
      "Found 5 URLs in the text\n"
     ]
    },
    {
     "name": "stderr",
     "output_type": "stream",
     "text": [
      " 45%|████▌     | 4965/10990 [02:33<04:35, 21.85it/s]"
     ]
    },
    {
     "name": "stdout",
     "output_type": "stream",
     "text": [
      "Found 1 URLs in the text\n",
      "Found DOI URL: https://github.com/DanieleGioia/PerishableMEC.\n"
     ]
    },
    {
     "name": "stderr",
     "output_type": "stream",
     "text": [
      " 45%|████▌     | 4978/10990 [02:34<06:22, 15.71it/s]"
     ]
    },
    {
     "name": "stdout",
     "output_type": "stream",
     "text": [
      "Found 2 URLs in the text\n",
      "Found DOI URL: https://doi.org/10.25592/uhhfdm.10389\n",
      "Found DOI URL: https://doi.org/10.25592/uhhfdm.11182\n"
     ]
    },
    {
     "name": "stderr",
     "output_type": "stream",
     "text": [
      " 45%|████▌     | 4984/10990 [02:34<05:49, 17.18it/s]"
     ]
    },
    {
     "name": "stdout",
     "output_type": "stream",
     "text": [
      "Found 2 URLs in the text\n",
      "Found 3 URLs in the text\n",
      "Found DOI URL: https://github.com/amatc2/Graph-Multi-Attention-Network.\n",
      "Found 2 URLs in the text\n"
     ]
    },
    {
     "name": "stderr",
     "output_type": "stream",
     "text": [
      " 46%|████▌     | 5018/10990 [02:36<06:08, 16.20it/s]"
     ]
    },
    {
     "name": "stdout",
     "output_type": "stream",
     "text": [
      "Found 1 URLs in the text\n"
     ]
    },
    {
     "name": "stderr",
     "output_type": "stream",
     "text": [
      " 46%|████▌     | 5032/10990 [02:37<05:20, 18.59it/s]"
     ]
    },
    {
     "name": "stdout",
     "output_type": "stream",
     "text": [
      "Found 1 URLs in the text\n"
     ]
    },
    {
     "name": "stderr",
     "output_type": "stream",
     "text": [
      " 46%|████▌     | 5058/10990 [02:38<05:03, 19.56it/s]"
     ]
    },
    {
     "name": "stdout",
     "output_type": "stream",
     "text": [
      "Found 1 URLs in the text\n"
     ]
    },
    {
     "name": "stderr",
     "output_type": "stream",
     "text": [
      " 46%|████▌     | 5078/10990 [02:39<04:52, 20.20it/s]"
     ]
    },
    {
     "name": "stdout",
     "output_type": "stream",
     "text": [
      "Found 1 URLs in the text\n",
      "Found 3 URLs in the text\n",
      "Found 1 URLs in the text\n"
     ]
    },
    {
     "name": "stderr",
     "output_type": "stream",
     "text": [
      " 46%|████▋     | 5104/10990 [02:40<04:55, 19.91it/s]"
     ]
    },
    {
     "name": "stdout",
     "output_type": "stream",
     "text": [
      "Found 1 URLs in the text\n"
     ]
    },
    {
     "name": "stderr",
     "output_type": "stream",
     "text": [
      " 47%|████▋     | 5133/10990 [02:42<04:11, 23.26it/s]"
     ]
    },
    {
     "name": "stdout",
     "output_type": "stream",
     "text": [
      "Found 1 URLs in the text\n",
      "Found DOI URL: https://data.mendeley.com/preview/kcjftcdxyz?a=602bac27-ef73-4f25-8a3d-b7a346f48251.\n",
      "Found 1 URLs in the text\n",
      "Found DOI URL: https://github.com/burnsaar/Parking_Slot_Assignment_Problem-Public.\n"
     ]
    },
    {
     "name": "stderr",
     "output_type": "stream",
     "text": [
      " 47%|████▋     | 5146/10990 [02:43<06:29, 14.99it/s]"
     ]
    },
    {
     "name": "stdout",
     "output_type": "stream",
     "text": [
      "Found 1 URLs in the text\n"
     ]
    },
    {
     "name": "stderr",
     "output_type": "stream",
     "text": [
      " 47%|████▋     | 5150/10990 [02:43<06:48, 14.28it/s]"
     ]
    },
    {
     "name": "stdout",
     "output_type": "stream",
     "text": [
      "Found 1 URLs in the text\n"
     ]
    },
    {
     "name": "stderr",
     "output_type": "stream",
     "text": [
      " 47%|████▋     | 5166/10990 [02:44<05:11, 18.72it/s]"
     ]
    },
    {
     "name": "stdout",
     "output_type": "stream",
     "text": [
      "Found 1 URLs in the text\n",
      "Found DOI URL: https://github.com/FengYinLeo/PGI-SDMI.\n"
     ]
    },
    {
     "name": "stderr",
     "output_type": "stream",
     "text": [
      " 47%|████▋     | 5207/10990 [02:46<04:19, 22.32it/s]"
     ]
    },
    {
     "name": "stdout",
     "output_type": "stream",
     "text": [
      "Found 1 URLs in the text\n"
     ]
    },
    {
     "name": "stderr",
     "output_type": "stream",
     "text": [
      " 48%|████▊     | 5241/10990 [02:48<04:14, 22.56it/s]"
     ]
    },
    {
     "name": "stdout",
     "output_type": "stream",
     "text": [
      "Found 1 URLs in the text\n",
      "Found 15 URLs in the text\n"
     ]
    },
    {
     "name": "stderr",
     "output_type": "stream",
     "text": [
      " 48%|████▊     | 5265/10990 [02:49<04:26, 21.47it/s]"
     ]
    },
    {
     "name": "stdout",
     "output_type": "stream",
     "text": [
      "Found 2 URLs in the text\n"
     ]
    },
    {
     "name": "stderr",
     "output_type": "stream",
     "text": [
      " 48%|████▊     | 5289/10990 [02:50<06:38, 14.31it/s]"
     ]
    },
    {
     "name": "stdout",
     "output_type": "stream",
     "text": [
      "Found 1 URLs in the text\n"
     ]
    },
    {
     "name": "stderr",
     "output_type": "stream",
     "text": [
      " 48%|████▊     | 5296/10990 [02:50<05:01, 18.91it/s]"
     ]
    },
    {
     "name": "stdout",
     "output_type": "stream",
     "text": [
      "Found 1 URLs in the text\n",
      "Found DOI URL: https://github.com/lgraff/nomad\n"
     ]
    },
    {
     "name": "stderr",
     "output_type": "stream",
     "text": [
      " 48%|████▊     | 5303/10990 [02:51<04:33, 20.77it/s]"
     ]
    },
    {
     "name": "stdout",
     "output_type": "stream",
     "text": [
      "Found 1 URLs in the text\n"
     ]
    },
    {
     "name": "stderr",
     "output_type": "stream",
     "text": [
      " 48%|████▊     | 5316/10990 [02:51<04:24, 21.49it/s]"
     ]
    },
    {
     "name": "stdout",
     "output_type": "stream",
     "text": [
      "Found 1 URLs in the text\n",
      "Found DOI URL: https://github.com/Shenglin807/SARP_RL_Dataset/tree/master.\n"
     ]
    },
    {
     "name": "stderr",
     "output_type": "stream",
     "text": [
      " 50%|████▉     | 5483/10990 [02:53<01:15, 73.38it/s] "
     ]
    },
    {
     "name": "stdout",
     "output_type": "stream",
     "text": [
      "Found 1 URLs in the text\n"
     ]
    },
    {
     "name": "stderr",
     "output_type": "stream",
     "text": [
      " 50%|█████     | 5534/10990 [02:54<01:04, 84.74it/s]"
     ]
    },
    {
     "name": "stdout",
     "output_type": "stream",
     "text": [
      "Found 1 URLs in the text\n",
      "Found DOI URL: https://doi.org/10.17605/OSF.IO/8JE5C.\n",
      "Found 3 URLs in the text\n"
     ]
    },
    {
     "name": "stderr",
     "output_type": "stream",
     "text": [
      " 51%|█████     | 5620/10990 [02:55<01:14, 72.37it/s]"
     ]
    },
    {
     "name": "stdout",
     "output_type": "stream",
     "text": [
      "Found 1 URLs in the text\n",
      "Found 2 URLs in the text\n",
      "Found DOI URL: https://github.com/jramshur/ECG_Viewer.\n"
     ]
    },
    {
     "name": "stderr",
     "output_type": "stream",
     "text": [
      " 52%|█████▏    | 5736/10990 [02:57<00:57, 91.96it/s]"
     ]
    },
    {
     "name": "stdout",
     "output_type": "stream",
     "text": [
      "Found 1 URLs in the text\n"
     ]
    },
    {
     "name": "stderr",
     "output_type": "stream",
     "text": [
      " 53%|█████▎    | 5771/10990 [02:57<01:23, 62.74it/s]"
     ]
    },
    {
     "name": "stdout",
     "output_type": "stream",
     "text": [
      "Found 1 URLs in the text\n",
      "Found DOI URL: https://doi.org/doi:10.7282/t3-9d68-0k53.\n",
      "Found 2 URLs in the text\n"
     ]
    },
    {
     "name": "stderr",
     "output_type": "stream",
     "text": [
      " 54%|█████▎    | 5884/10990 [02:59<01:05, 77.62it/s]"
     ]
    },
    {
     "name": "stdout",
     "output_type": "stream",
     "text": [
      "Found 1 URLs in the text\n"
     ]
    },
    {
     "name": "stderr",
     "output_type": "stream",
     "text": [
      " 54%|█████▎    | 5901/10990 [02:59<01:10, 72.36it/s]"
     ]
    },
    {
     "name": "stdout",
     "output_type": "stream",
     "text": [
      "Found 1 URLs in the text\n",
      "Found 1 URLs in the text\n",
      "Found 1 URLs in the text\n"
     ]
    },
    {
     "name": "stderr",
     "output_type": "stream",
     "text": [
      " 54%|█████▍    | 5944/10990 [03:00<01:06, 76.44it/s]"
     ]
    },
    {
     "name": "stdout",
     "output_type": "stream",
     "text": [
      "Found 1 URLs in the text\n"
     ]
    },
    {
     "name": "stderr",
     "output_type": "stream",
     "text": [
      " 55%|█████▍    | 5992/10990 [03:00<01:01, 81.14it/s]"
     ]
    },
    {
     "name": "stdout",
     "output_type": "stream",
     "text": [
      "Found 2 URLs in the text\n",
      "Found 1 URLs in the text\n",
      "Found DOI URL: https://doi.org/10.4121/14483220.\n"
     ]
    },
    {
     "name": "stderr",
     "output_type": "stream",
     "text": [
      " 55%|█████▍    | 6001/10990 [03:00<01:00, 82.27it/s]"
     ]
    },
    {
     "name": "stdout",
     "output_type": "stream",
     "text": [
      "Found 2 URLs in the text\n",
      "Found DOI URL: https://github.com/bazilinskyy/coupled-sim.\n",
      "Found DOI URL: https://doi.org/10.4121/14096067.\n",
      "Found 1 URLs in the text\n",
      "Found 3 URLs in the text\n",
      "Found DOI URL: https://github.com/sccn/labstreaminglayer/blob/master/README.rst\n"
     ]
    },
    {
     "name": "stderr",
     "output_type": "stream",
     "text": [
      " 55%|█████▌    | 6058/10990 [03:01<00:57, 85.72it/s]"
     ]
    },
    {
     "name": "stdout",
     "output_type": "stream",
     "text": [
      "Found 1 URLs in the text\n",
      "Found 1 URLs in the text\n"
     ]
    },
    {
     "name": "stderr",
     "output_type": "stream",
     "text": [
      " 55%|█████▌    | 6095/10990 [03:02<01:07, 72.00it/s]"
     ]
    },
    {
     "name": "stdout",
     "output_type": "stream",
     "text": [
      "Found 1 URLs in the text\n",
      "Found DOI URL: https://osf.io/sxf4u/\n"
     ]
    },
    {
     "name": "stderr",
     "output_type": "stream",
     "text": [
      " 56%|█████▌    | 6147/10990 [03:02<01:02, 77.64it/s]"
     ]
    },
    {
     "name": "stdout",
     "output_type": "stream",
     "text": [
      "Found 1 URLs in the text\n",
      "Found DOI URL: https://doi.org/10.4121/16866709.\n"
     ]
    },
    {
     "name": "stderr",
     "output_type": "stream",
     "text": [
      " 56%|█████▌    | 6164/10990 [03:03<01:04, 74.72it/s]"
     ]
    },
    {
     "name": "stdout",
     "output_type": "stream",
     "text": [
      "Found 1 URLs in the text\n"
     ]
    },
    {
     "name": "stderr",
     "output_type": "stream",
     "text": [
      " 57%|█████▋    | 6213/10990 [03:03<01:04, 74.29it/s]"
     ]
    },
    {
     "name": "stdout",
     "output_type": "stream",
     "text": [
      "Found 1 URLs in the text\n"
     ]
    },
    {
     "name": "stderr",
     "output_type": "stream",
     "text": [
      " 57%|█████▋    | 6299/10990 [03:04<00:58, 80.77it/s]"
     ]
    },
    {
     "name": "stdout",
     "output_type": "stream",
     "text": [
      "Found 1 URLs in the text\n",
      "Found 1 URLs in the text\n"
     ]
    },
    {
     "name": "stderr",
     "output_type": "stream",
     "text": [
      " 58%|█████▊    | 6336/10990 [03:05<01:03, 73.67it/s]"
     ]
    },
    {
     "name": "stdout",
     "output_type": "stream",
     "text": [
      "Found 1 URLs in the text\n",
      "Found DOI URL: https://osf.io/3g5jm/\n"
     ]
    },
    {
     "name": "stderr",
     "output_type": "stream",
     "text": [
      " 58%|█████▊    | 6344/10990 [03:05<01:27, 52.96it/s]"
     ]
    },
    {
     "name": "stdout",
     "output_type": "stream",
     "text": [
      "Found 1 URLs in the text\n",
      "Found DOI URL: https://www.doi.org/10.17605/OSF.IO/6G8VS\n"
     ]
    },
    {
     "name": "stderr",
     "output_type": "stream",
     "text": [
      " 58%|█████▊    | 6383/10990 [03:06<01:14, 61.75it/s]"
     ]
    },
    {
     "name": "stdout",
     "output_type": "stream",
     "text": [
      "Found 2 URLs in the text\n",
      "Found DOI URL: https://osf.io/k9w8q/\n",
      "Found DOI URL: https://osf.io/k9w8q/\n",
      "Found 2 URLs in the text\n",
      "Found DOI URL: https://doi.org/10.4121/21952685.\n",
      "Found DOI URL: https://github.com/bazilinskyy/risk-dash-crowdsourcing.\n",
      "Found 2 URLs in the text\n"
     ]
    },
    {
     "name": "stderr",
     "output_type": "stream",
     "text": [
      " 58%|█████▊    | 6421/10990 [03:06<00:56, 80.28it/s]"
     ]
    },
    {
     "name": "stdout",
     "output_type": "stream",
     "text": [
      "Found 1 URLs in the text\n",
      "Found DOI URL: https://osf.io/rndxz/\n",
      "Found 1 URLs in the text\n",
      "Found DOI URL: https://osf.io/kq7f5/?view_only=421edb20fa4f499abd6385f1b1389d0b.\n",
      "Found 1 URLs in the text\n",
      "Found DOI URL: https://osf.io/k3cmn.\n"
     ]
    },
    {
     "name": "stderr",
     "output_type": "stream",
     "text": [
      " 59%|█████▊    | 6430/10990 [03:06<01:04, 70.97it/s]"
     ]
    },
    {
     "name": "stdout",
     "output_type": "stream",
     "text": [
      "Found 1 URLs in the text\n",
      "Found DOI URL: https://doi.org/10.5281/zenodo.5107737.\n",
      "Found 1 URLs in the text\n",
      "Found DOI URL: https://doi.org/10.4121/21069820.\n"
     ]
    },
    {
     "name": "stderr",
     "output_type": "stream",
     "text": [
      " 59%|█████▉    | 6461/10990 [03:07<00:53, 84.52it/s]"
     ]
    },
    {
     "name": "stdout",
     "output_type": "stream",
     "text": [
      "Found 2 URLs in the text\n",
      "Found 1 URLs in the text\n",
      "Found DOI URL: https://doi.org/10.48328/tudatalib-1030.\n"
     ]
    },
    {
     "name": "stderr",
     "output_type": "stream",
     "text": [
      " 59%|█████▉    | 6537/10990 [03:08<00:58, 75.92it/s]"
     ]
    },
    {
     "name": "stdout",
     "output_type": "stream",
     "text": [
      "Found 1 URLs in the text\n"
     ]
    },
    {
     "name": "stderr",
     "output_type": "stream",
     "text": [
      " 60%|█████▉    | 6580/10990 [03:08<01:02, 70.56it/s]"
     ]
    },
    {
     "name": "stdout",
     "output_type": "stream",
     "text": [
      "Found 1 URLs in the text\n",
      "Found DOI URL: https://doi.org/10.17605/OSF.IO/FN4VW.\n"
     ]
    },
    {
     "name": "stderr",
     "output_type": "stream",
     "text": [
      " 60%|██████    | 6632/10990 [03:09<01:04, 68.09it/s]"
     ]
    },
    {
     "name": "stdout",
     "output_type": "stream",
     "text": [
      "Found 2 URLs in the text\n",
      "Found DOI URL: https://doi.org/10.17605/OSF.IO/4KNVP.\n",
      "Found DOI URL: https://osf.io/fd4a7/.\n",
      "Found 1 URLs in the text\n"
     ]
    },
    {
     "name": "stderr",
     "output_type": "stream",
     "text": [
      " 60%|██████    | 6648/10990 [03:09<01:03, 68.32it/s]"
     ]
    },
    {
     "name": "stdout",
     "output_type": "stream",
     "text": [
      "Found 1 URLs in the text\n",
      "Found DOI URL: https://osf.io/j6t45/.\n"
     ]
    },
    {
     "name": "stderr",
     "output_type": "stream",
     "text": [
      " 61%|██████    | 6686/10990 [03:10<01:06, 64.44it/s]"
     ]
    },
    {
     "name": "stdout",
     "output_type": "stream",
     "text": [
      "Found 1 URLs in the text\n",
      "Found DOI URL: https://osf.io/qbtgh/.\n",
      "Found 1 URLs in the text\n"
     ]
    },
    {
     "name": "stderr",
     "output_type": "stream",
     "text": [
      " 61%|██████    | 6710/10990 [03:10<01:02, 68.15it/s]"
     ]
    },
    {
     "name": "stdout",
     "output_type": "stream",
     "text": [
      "Found 1 URLs in the text\n",
      "Found DOI URL: https://osf.io/r7whj/?view_only=0f465dc9edf54377be06edf34e4c0bde.\n",
      "Found 1 URLs in the text\n",
      "Found 1 URLs in the text\n",
      "Found DOI URL: https://osf.io/h27nz\n"
     ]
    },
    {
     "name": "stderr",
     "output_type": "stream",
     "text": [
      " 62%|██████▏   | 6775/10990 [03:11<00:53, 78.22it/s]"
     ]
    },
    {
     "name": "stdout",
     "output_type": "stream",
     "text": [
      "Found 1 URLs in the text\n",
      "Found DOI URL: https://doi.org/10.17605/OSF.IO/J7FYS.\n"
     ]
    },
    {
     "name": "stderr",
     "output_type": "stream",
     "text": [
      " 62%|██████▏   | 6800/10990 [03:11<00:58, 71.14it/s]"
     ]
    },
    {
     "name": "stdout",
     "output_type": "stream",
     "text": [
      "Found 1 URLs in the text\n",
      "Found DOI URL: https://osf.io/p6emd/?view_only=97afb5a9d61c40a6b2b1410eea043045.\n",
      "Found 1 URLs in the text\n",
      "Found DOI URL: https://github.com/NUS-DBE/Pretrain-Finetune-safety-climate.\n",
      "Found 1 URLs in the text\n"
     ]
    },
    {
     "name": "stderr",
     "output_type": "stream",
     "text": [
      " 62%|██████▏   | 6816/10990 [03:12<00:57, 72.28it/s]"
     ]
    },
    {
     "name": "stdout",
     "output_type": "stream",
     "text": [
      "Found 1 URLs in the text\n",
      "Found 1 URLs in the text\n",
      "Found DOI URL: https://osf.io/5d23m/\n"
     ]
    },
    {
     "name": "stderr",
     "output_type": "stream",
     "text": [
      " 62%|██████▏   | 6824/10990 [03:12<01:01, 67.71it/s]"
     ]
    },
    {
     "name": "stdout",
     "output_type": "stream",
     "text": [
      "Found 1 URLs in the text\n",
      "Found DOI URL: https://osf.io/p2wme.\n",
      "Found 8 URLs in the text\n"
     ]
    },
    {
     "name": "stderr",
     "output_type": "stream",
     "text": [
      " 62%|██████▏   | 6854/10990 [03:12<01:04, 64.36it/s]"
     ]
    },
    {
     "name": "stdout",
     "output_type": "stream",
     "text": [
      "Found 1 URLs in the text\n"
     ]
    },
    {
     "name": "stderr",
     "output_type": "stream",
     "text": [
      " 62%|██████▏   | 6867/10990 [03:13<01:16, 54.09it/s]"
     ]
    },
    {
     "name": "stdout",
     "output_type": "stream",
     "text": [
      "Found 16 URLs in the text\n",
      "Found 1 URLs in the text\n",
      "Found DOI URL: http://doi.org/10.4121/uuid:1ccca375-68ca-4cb6-8fc0-926712f50404\n"
     ]
    },
    {
     "name": "stderr",
     "output_type": "stream",
     "text": [
      " 63%|██████▎   | 6879/10990 [03:13<01:29, 46.08it/s]"
     ]
    },
    {
     "name": "stdout",
     "output_type": "stream",
     "text": [
      "Found 1 URLs in the text\n",
      "Found DOI URL: https://doi.org/10.5281/zenodo.1205229.\n"
     ]
    },
    {
     "name": "stderr",
     "output_type": "stream",
     "text": [
      " 63%|██████▎   | 6923/10990 [03:14<01:46, 38.34it/s]"
     ]
    },
    {
     "name": "stdout",
     "output_type": "stream",
     "text": [
      "Found 1 URLs in the text\n"
     ]
    },
    {
     "name": "stderr",
     "output_type": "stream",
     "text": [
      " 63%|██████▎   | 6960/10990 [03:15<01:52, 35.70it/s]"
     ]
    },
    {
     "name": "stdout",
     "output_type": "stream",
     "text": [
      "Found 2 URLs in the text\n"
     ]
    },
    {
     "name": "stderr",
     "output_type": "stream",
     "text": [
      " 63%|██████▎   | 6978/10990 [03:16<01:45, 38.18it/s]"
     ]
    },
    {
     "name": "stdout",
     "output_type": "stream",
     "text": [
      "Found 2 URLs in the text\n"
     ]
    },
    {
     "name": "stderr",
     "output_type": "stream",
     "text": [
      " 64%|██████▎   | 7006/10990 [03:16<02:03, 32.35it/s]"
     ]
    },
    {
     "name": "stdout",
     "output_type": "stream",
     "text": [
      "Found 3 URLs in the text\n"
     ]
    },
    {
     "name": "stderr",
     "output_type": "stream",
     "text": [
      " 64%|██████▍   | 7057/10990 [03:18<01:53, 34.51it/s]"
     ]
    },
    {
     "name": "stdout",
     "output_type": "stream",
     "text": [
      "Found 2 URLs in the text\n"
     ]
    },
    {
     "name": "stderr",
     "output_type": "stream",
     "text": [
      " 64%|██████▍   | 7068/10990 [03:18<01:47, 36.51it/s]"
     ]
    },
    {
     "name": "stdout",
     "output_type": "stream",
     "text": [
      "Found 7 URLs in the text\n"
     ]
    },
    {
     "name": "stderr",
     "output_type": "stream",
     "text": [
      " 65%|██████▍   | 7104/10990 [03:19<02:02, 31.78it/s]"
     ]
    },
    {
     "name": "stdout",
     "output_type": "stream",
     "text": [
      "Found 1 URLs in the text\n"
     ]
    },
    {
     "name": "stderr",
     "output_type": "stream",
     "text": [
      " 65%|██████▍   | 7116/10990 [03:20<02:39, 24.30it/s]"
     ]
    },
    {
     "name": "stdout",
     "output_type": "stream",
     "text": [
      "Found 1 URLs in the text\n"
     ]
    },
    {
     "name": "stderr",
     "output_type": "stream",
     "text": [
      " 65%|██████▍   | 7136/10990 [03:21<02:54, 22.14it/s]"
     ]
    },
    {
     "name": "stdout",
     "output_type": "stream",
     "text": [
      "Found 1 URLs in the text\n"
     ]
    },
    {
     "name": "stderr",
     "output_type": "stream",
     "text": [
      " 66%|██████▌   | 7201/10990 [03:23<01:51, 34.05it/s]"
     ]
    },
    {
     "name": "stdout",
     "output_type": "stream",
     "text": [
      "Found 1 URLs in the text\n"
     ]
    },
    {
     "name": "stderr",
     "output_type": "stream",
     "text": [
      " 66%|██████▌   | 7229/10990 [03:24<02:04, 30.20it/s]"
     ]
    },
    {
     "name": "stdout",
     "output_type": "stream",
     "text": [
      "Found 1 URLs in the text\n"
     ]
    },
    {
     "name": "stderr",
     "output_type": "stream",
     "text": [
      " 66%|██████▌   | 7256/10990 [03:25<01:46, 34.91it/s]"
     ]
    },
    {
     "name": "stdout",
     "output_type": "stream",
     "text": [
      "Found 2 URLs in the text\n",
      "Found 1 URLs in the text\n",
      "Found DOI URL: https://github.com/DrKeHan/DTD.\n"
     ]
    },
    {
     "name": "stderr",
     "output_type": "stream",
     "text": [
      " 66%|██████▌   | 7267/10990 [03:25<01:30, 41.31it/s]"
     ]
    },
    {
     "name": "stdout",
     "output_type": "stream",
     "text": [
      "Found 1 URLs in the text\n",
      "Found 1 URLs in the text\n",
      "Found DOI URL: https://github.com/zhiyongc/Seattle-Loop-Data\n"
     ]
    },
    {
     "name": "stderr",
     "output_type": "stream",
     "text": [
      " 66%|██████▋   | 7286/10990 [03:25<01:47, 34.49it/s]"
     ]
    },
    {
     "name": "stdout",
     "output_type": "stream",
     "text": [
      "Found 2 URLs in the text\n"
     ]
    },
    {
     "name": "stderr",
     "output_type": "stream",
     "text": [
      " 67%|██████▋   | 7328/10990 [03:27<01:30, 40.63it/s]"
     ]
    },
    {
     "name": "stdout",
     "output_type": "stream",
     "text": [
      "Found 2 URLs in the text\n",
      "Found 1 URLs in the text\n",
      "Found DOI URL: https://github.com/MeixinZhu/Velocity_control.\n"
     ]
    },
    {
     "name": "stderr",
     "output_type": "stream",
     "text": [
      " 67%|██████▋   | 7350/10990 [03:27<01:48, 33.49it/s]"
     ]
    },
    {
     "name": "stdout",
     "output_type": "stream",
     "text": [
      "Found 1 URLs in the text\n",
      "Found 2 URLs in the text\n",
      "Found DOI URL: https://github.com/zhiyongc/Seattle-Loop-Data\n",
      "Found DOI URL: https://github.com/liyaguang/DCRNN\n"
     ]
    },
    {
     "name": "stderr",
     "output_type": "stream",
     "text": [
      " 67%|██████▋   | 7365/10990 [03:28<02:06, 28.71it/s]"
     ]
    },
    {
     "name": "stdout",
     "output_type": "stream",
     "text": [
      "Found 2 URLs in the text\n",
      "Found 1 URLs in the text\n"
     ]
    },
    {
     "name": "stderr",
     "output_type": "stream",
     "text": [
      " 67%|██████▋   | 7382/10990 [03:28<01:48, 33.34it/s]"
     ]
    },
    {
     "name": "stdout",
     "output_type": "stream",
     "text": [
      "Found 1 URLs in the text\n",
      "Found DOI URL: https://github.com/venktesh22/ExpressLanes_Deep-RL.\n"
     ]
    },
    {
     "name": "stderr",
     "output_type": "stream",
     "text": [
      " 67%|██████▋   | 7391/10990 [03:29<01:52, 32.05it/s]"
     ]
    },
    {
     "name": "stdout",
     "output_type": "stream",
     "text": [
      "Found 1 URLs in the text\n"
     ]
    },
    {
     "name": "stderr",
     "output_type": "stream",
     "text": [
      " 67%|██████▋   | 7413/10990 [03:29<01:47, 33.37it/s]"
     ]
    },
    {
     "name": "stdout",
     "output_type": "stream",
     "text": [
      "Found 1 URLs in the text\n"
     ]
    },
    {
     "name": "stderr",
     "output_type": "stream",
     "text": [
      " 68%|██████▊   | 7470/10990 [03:31<01:49, 32.18it/s]"
     ]
    },
    {
     "name": "stdout",
     "output_type": "stream",
     "text": [
      "Found 1 URLs in the text\n"
     ]
    },
    {
     "name": "stderr",
     "output_type": "stream",
     "text": [
      " 68%|██████▊   | 7480/10990 [03:32<01:36, 36.19it/s]"
     ]
    },
    {
     "name": "stdout",
     "output_type": "stream",
     "text": [
      "Found 2 URLs in the text\n"
     ]
    },
    {
     "name": "stderr",
     "output_type": "stream",
     "text": [
      " 68%|██████▊   | 7508/10990 [03:33<02:27, 23.61it/s]"
     ]
    },
    {
     "name": "stdout",
     "output_type": "stream",
     "text": [
      "Found 1 URLs in the text\n"
     ]
    },
    {
     "name": "stderr",
     "output_type": "stream",
     "text": [
      " 68%|██████▊   | 7525/10990 [03:34<02:15, 25.66it/s]"
     ]
    },
    {
     "name": "stdout",
     "output_type": "stream",
     "text": [
      "Found 5 URLs in the text\n",
      "Found DOI URL: https://github.com/twintproject/twint.\n",
      "Found 2 URLs in the text\n"
     ]
    },
    {
     "name": "stderr",
     "output_type": "stream",
     "text": [
      " 69%|██████▊   | 7538/10990 [03:34<02:06, 27.32it/s]"
     ]
    },
    {
     "name": "stdout",
     "output_type": "stream",
     "text": [
      "Found 3 URLs in the text\n",
      "Found 2 URLs in the text\n",
      "Found 2 URLs in the text\n",
      "Found DOI URL: https://github.com/gm-tools/gm-tools\n"
     ]
    },
    {
     "name": "stderr",
     "output_type": "stream",
     "text": [
      " 69%|██████▊   | 7546/10990 [03:35<02:17, 25.12it/s]"
     ]
    },
    {
     "name": "stdout",
     "output_type": "stream",
     "text": [
      "Found 1 URLs in the text\n",
      "Found 4 URLs in the text\n"
     ]
    },
    {
     "name": "stderr",
     "output_type": "stream",
     "text": [
      " 69%|██████▉   | 7578/10990 [03:36<01:49, 31.19it/s]"
     ]
    },
    {
     "name": "stdout",
     "output_type": "stream",
     "text": [
      "Found 1 URLs in the text\n",
      "Found DOI URL: https://github.com/wangleicuail/EVsharingBasicData\n"
     ]
    },
    {
     "name": "stderr",
     "output_type": "stream",
     "text": [
      " 69%|██████▉   | 7607/10990 [03:37<01:58, 28.59it/s]"
     ]
    },
    {
     "name": "stdout",
     "output_type": "stream",
     "text": [
      "Found 1 URLs in the text\n",
      "Found DOI URL: https://github.com/LiTrans/reslogit-example.\n",
      "Found 1 URLs in the text\n",
      "Found DOI URL: https://osf.io/n46k5/?view_only=3f6f91f014f942c982d71a72c90c508a.\n"
     ]
    },
    {
     "name": "stderr",
     "output_type": "stream",
     "text": [
      " 69%|██████▉   | 7620/10990 [03:37<01:51, 30.35it/s]"
     ]
    },
    {
     "name": "stdout",
     "output_type": "stream",
     "text": [
      "Found 1 URLs in the text\n"
     ]
    },
    {
     "name": "stderr",
     "output_type": "stream",
     "text": [
      " 70%|██████▉   | 7648/10990 [03:38<01:41, 32.77it/s]"
     ]
    },
    {
     "name": "stdout",
     "output_type": "stream",
     "text": [
      "Found 1 URLs in the text\n"
     ]
    },
    {
     "name": "stderr",
     "output_type": "stream",
     "text": [
      " 70%|██████▉   | 7661/10990 [03:38<01:42, 32.37it/s]"
     ]
    },
    {
     "name": "stdout",
     "output_type": "stream",
     "text": [
      "Found 1 URLs in the text\n",
      "Found DOI URL: https://github.com/RomainLITUD/DGCN_traffic_forecasting.\n",
      "Found 1 URLs in the text\n"
     ]
    },
    {
     "name": "stderr",
     "output_type": "stream",
     "text": [
      " 70%|██████▉   | 7683/10990 [03:39<02:09, 25.59it/s]"
     ]
    },
    {
     "name": "stdout",
     "output_type": "stream",
     "text": [
      "Found 1 URLs in the text\n",
      "Found DOI URL: https://github.com/vita-epfl/RRB.\n"
     ]
    },
    {
     "name": "stderr",
     "output_type": "stream",
     "text": [
      " 70%|███████   | 7701/10990 [03:40<01:38, 33.45it/s]"
     ]
    },
    {
     "name": "stdout",
     "output_type": "stream",
     "text": [
      "Found 1 URLs in the text\n",
      "Found 1 URLs in the text\n"
     ]
    },
    {
     "name": "stderr",
     "output_type": "stream",
     "text": [
      " 70%|███████   | 7717/10990 [03:40<01:56, 28.08it/s]"
     ]
    },
    {
     "name": "stdout",
     "output_type": "stream",
     "text": [
      "Found 3 URLs in the text\n",
      "Found DOI URL: https://doi.org/10.5281/zenodo.3939792.\n",
      "Found DOI URL: https://doi.org/10.5281/zenodo.1205229.\n"
     ]
    },
    {
     "name": "stderr",
     "output_type": "stream",
     "text": [
      " 70%|███████   | 7728/10990 [03:41<01:38, 33.00it/s]"
     ]
    },
    {
     "name": "stdout",
     "output_type": "stream",
     "text": [
      "Found 1 URLs in the text\n"
     ]
    },
    {
     "name": "stderr",
     "output_type": "stream",
     "text": [
      " 70%|███████   | 7742/10990 [03:41<01:53, 28.60it/s]"
     ]
    },
    {
     "name": "stdout",
     "output_type": "stream",
     "text": [
      "Found 3 URLs in the text\n"
     ]
    },
    {
     "name": "stderr",
     "output_type": "stream",
     "text": [
      " 70%|███████   | 7745/10990 [03:41<01:54, 28.42it/s]"
     ]
    },
    {
     "name": "stdout",
     "output_type": "stream",
     "text": [
      "Found 1 URLs in the text\n",
      "Found 1 URLs in the text\n"
     ]
    },
    {
     "name": "stderr",
     "output_type": "stream",
     "text": [
      " 71%|███████   | 7761/10990 [03:42<01:48, 29.88it/s]"
     ]
    },
    {
     "name": "stdout",
     "output_type": "stream",
     "text": [
      "Found 1 URLs in the text\n",
      "Found 1 URLs in the text\n",
      "Found DOI URL: https://github.com/Turbo87/utm.\n"
     ]
    },
    {
     "name": "stderr",
     "output_type": "stream",
     "text": [
      " 71%|███████   | 7811/10990 [03:44<01:38, 32.13it/s]"
     ]
    },
    {
     "name": "stdout",
     "output_type": "stream",
     "text": [
      "Found 1 URLs in the text\n"
     ]
    },
    {
     "name": "stderr",
     "output_type": "stream",
     "text": [
      " 71%|███████   | 7818/10990 [03:44<01:54, 27.64it/s]"
     ]
    },
    {
     "name": "stdout",
     "output_type": "stream",
     "text": [
      "Found 1 URLs in the text\n"
     ]
    },
    {
     "name": "stderr",
     "output_type": "stream",
     "text": [
      " 71%|███████▏  | 7831/10990 [03:44<02:00, 26.13it/s]"
     ]
    },
    {
     "name": "stdout",
     "output_type": "stream",
     "text": [
      "Found 1 URLs in the text\n",
      "Found 3 URLs in the text\n"
     ]
    },
    {
     "name": "stderr",
     "output_type": "stream",
     "text": [
      " 71%|███████▏  | 7849/10990 [03:45<02:06, 24.88it/s]"
     ]
    },
    {
     "name": "stdout",
     "output_type": "stream",
     "text": [
      "Found 1 URLs in the text\n"
     ]
    },
    {
     "name": "stderr",
     "output_type": "stream",
     "text": [
      " 72%|███████▏  | 7867/10990 [03:46<01:29, 34.76it/s]"
     ]
    },
    {
     "name": "stdout",
     "output_type": "stream",
     "text": [
      "Found 1 URLs in the text\n",
      "Found DOI URL: https://github.com/rgrahn/FMLM.\n",
      "Found 1 URLs in the text\n"
     ]
    },
    {
     "name": "stderr",
     "output_type": "stream",
     "text": [
      " 72%|███████▏  | 7896/10990 [03:46<01:23, 37.13it/s]"
     ]
    },
    {
     "name": "stdout",
     "output_type": "stream",
     "text": [
      "Found 1 URLs in the text\n",
      "Found 2 URLs in the text\n",
      "Found DOI URL: https://github.com/snu-adsl/ddpgcn-dataset\n",
      "Found 2 URLs in the text\n"
     ]
    },
    {
     "name": "stderr",
     "output_type": "stream",
     "text": [
      " 72%|███████▏  | 7918/10990 [03:47<01:38, 31.18it/s]"
     ]
    },
    {
     "name": "stdout",
     "output_type": "stream",
     "text": [
      "Found 1 URLs in the text\n",
      "Found DOI URL: https://doi.org/10–2019/11\n"
     ]
    },
    {
     "name": "stderr",
     "output_type": "stream",
     "text": [
      " 72%|███████▏  | 7926/10990 [03:48<01:38, 31.18it/s]"
     ]
    },
    {
     "name": "stdout",
     "output_type": "stream",
     "text": [
      "Found 2 URLs in the text\n",
      "Found DOI URL: https://github.com/FinestStone/AV-Interactions-City-Traffic.\n",
      "Found 2 URLs in the text\n"
     ]
    },
    {
     "name": "stderr",
     "output_type": "stream",
     "text": [
      " 72%|███████▏  | 7930/10990 [03:48<01:32, 32.98it/s]"
     ]
    },
    {
     "name": "stdout",
     "output_type": "stream",
     "text": [
      "Found 1 URLs in the text\n"
     ]
    },
    {
     "name": "stderr",
     "output_type": "stream",
     "text": [
      " 72%|███████▏  | 7941/10990 [03:48<01:51, 27.26it/s]"
     ]
    },
    {
     "name": "stdout",
     "output_type": "stream",
     "text": [
      "Found 1 URLs in the text\n",
      "Found 1 URLs in the text\n"
     ]
    },
    {
     "name": "stderr",
     "output_type": "stream",
     "text": [
      " 72%|███████▏  | 7951/10990 [03:49<02:00, 25.31it/s]"
     ]
    },
    {
     "name": "stdout",
     "output_type": "stream",
     "text": [
      "Found 3 URLs in the text\n",
      "Found 1 URLs in the text\n"
     ]
    },
    {
     "name": "stderr",
     "output_type": "stream",
     "text": [
      " 72%|███████▏  | 7965/10990 [03:49<01:58, 25.55it/s]"
     ]
    },
    {
     "name": "stdout",
     "output_type": "stream",
     "text": [
      "Found 3 URLs in the text\n",
      "Found DOI URL: https://github.com/ChengTraffic/Polynomial-Arrival-Queue-PAQ.\n",
      "Found 3 URLs in the text\n"
     ]
    },
    {
     "name": "stderr",
     "output_type": "stream",
     "text": [
      " 73%|███████▎  | 7972/10990 [03:49<01:53, 26.69it/s]"
     ]
    },
    {
     "name": "stdout",
     "output_type": "stream",
     "text": [
      "Found 2 URLs in the text\n"
     ]
    },
    {
     "name": "stderr",
     "output_type": "stream",
     "text": [
      " 73%|███████▎  | 7987/10990 [03:50<02:22, 21.11it/s]"
     ]
    },
    {
     "name": "stdout",
     "output_type": "stream",
     "text": [
      "Found 1 URLs in the text\n"
     ]
    },
    {
     "name": "stderr",
     "output_type": "stream",
     "text": [
      " 73%|███████▎  | 7999/10990 [03:51<02:23, 20.89it/s]"
     ]
    },
    {
     "name": "stdout",
     "output_type": "stream",
     "text": [
      "Found 2 URLs in the text\n"
     ]
    },
    {
     "name": "stderr",
     "output_type": "stream",
     "text": [
      " 73%|███████▎  | 8013/10990 [03:51<02:03, 24.07it/s]"
     ]
    },
    {
     "name": "stdout",
     "output_type": "stream",
     "text": [
      "Found 1 URLs in the text\n",
      "Found DOI URL: https://doi.org/10.5281/zenodo.6011886\n"
     ]
    },
    {
     "name": "stderr",
     "output_type": "stream",
     "text": [
      " 73%|███████▎  | 8022/10990 [03:52<02:14, 22.05it/s]"
     ]
    },
    {
     "name": "stdout",
     "output_type": "stream",
     "text": [
      "Found 1 URLs in the text\n",
      "Found DOI URL: https://github.com/goaheand/AdapGL-pytorch.\n"
     ]
    },
    {
     "name": "stderr",
     "output_type": "stream",
     "text": [
      " 73%|███████▎  | 8040/10990 [03:52<01:57, 25.14it/s]"
     ]
    },
    {
     "name": "stdout",
     "output_type": "stream",
     "text": [
      "Found 1 URLs in the text\n",
      "Found DOI URL: https://github.com/HaoZhouGT/openpilot\n",
      "Found 2 URLs in the text\n"
     ]
    },
    {
     "name": "stderr",
     "output_type": "stream",
     "text": [
      " 73%|███████▎  | 8047/10990 [03:53<02:05, 23.39it/s]"
     ]
    },
    {
     "name": "stdout",
     "output_type": "stream",
     "text": [
      "Found 1 URLs in the text\n"
     ]
    },
    {
     "name": "stderr",
     "output_type": "stream",
     "text": [
      " 73%|███████▎  | 8066/10990 [03:54<01:43, 28.22it/s]"
     ]
    },
    {
     "name": "stdout",
     "output_type": "stream",
     "text": [
      "Found 1 URLs in the text\n",
      "Found 1 URLs in the text\n",
      "Found DOI URL: https://s-attack.github.io/.\n"
     ]
    },
    {
     "name": "stderr",
     "output_type": "stream",
     "text": [
      " 73%|███████▎  | 8077/10990 [03:54<02:03, 23.67it/s]"
     ]
    },
    {
     "name": "stdout",
     "output_type": "stream",
     "text": [
      "Found 1 URLs in the text\n",
      "Found DOI URL: https://doi.org/10.5281/zenodo.1205229.\n"
     ]
    },
    {
     "name": "stderr",
     "output_type": "stream",
     "text": [
      " 74%|███████▎  | 8090/10990 [03:55<01:57, 24.64it/s]"
     ]
    },
    {
     "name": "stdout",
     "output_type": "stream",
     "text": [
      "Found 1 URLs in the text\n",
      "Found DOI URL: https://github.com/HaoZhouGT/openpilot.\n"
     ]
    },
    {
     "name": "stderr",
     "output_type": "stream",
     "text": [
      " 74%|███████▎  | 8093/10990 [03:55<02:18, 20.87it/s]"
     ]
    },
    {
     "name": "stdout",
     "output_type": "stream",
     "text": [
      "Found 1 URLs in the text\n"
     ]
    },
    {
     "name": "stderr",
     "output_type": "stream",
     "text": [
      " 74%|███████▍  | 8116/10990 [03:56<02:43, 17.58it/s]"
     ]
    },
    {
     "name": "stdout",
     "output_type": "stream",
     "text": [
      "Found 1 URLs in the text\n"
     ]
    },
    {
     "name": "stderr",
     "output_type": "stream",
     "text": [
      " 74%|███████▍  | 8136/10990 [03:57<02:17, 20.80it/s]"
     ]
    },
    {
     "name": "stdout",
     "output_type": "stream",
     "text": [
      "Found 2 URLs in the text\n",
      "Found DOI URL: https://github.com/liyaguang/DCRNN.\n",
      "Found DOI URL: https://github.com/zhiyongc/Graph-Markov-Network.\n"
     ]
    },
    {
     "name": "stderr",
     "output_type": "stream",
     "text": [
      " 74%|███████▍  | 8167/10990 [03:58<01:36, 29.40it/s]"
     ]
    },
    {
     "name": "stdout",
     "output_type": "stream",
     "text": [
      "Found 2 URLs in the text\n"
     ]
    },
    {
     "name": "stderr",
     "output_type": "stream",
     "text": [
      " 75%|███████▍  | 8192/10990 [03:59<01:33, 30.04it/s]"
     ]
    },
    {
     "name": "stdout",
     "output_type": "stream",
     "text": [
      "Found 22 URLs in the text\n",
      "Found DOI URL: https://github.com/liyaguang/DCRNN.\n",
      "Found DOI URL: https://github.com/liyaguang/DCRNN.\n",
      "Found DOI URL: https://github.com/zhiyongc/Seattle-Loop-Data.\n",
      "Found DOI URL: https://github.com/lehaifeng/T-GCN/tree/master/data.\n",
      "Found DOI URL: https://github.com/lucktroy/DeepST/tree/master/data/TaxiBJ.\n",
      "Found DOI URL: https://github.com/lehaifeng/T-GCN.\n",
      "Found DOI URL: https://github.com/fivethirtyeight/uber-tlc-foil-response.\n",
      "Found DOI URL: https://github.com/ivechan/PVCGNZ.\n",
      "Found DOI URL: https://github.com/ivechan/PVCGN.\n",
      "Found 1 URLs in the text\n",
      "Found DOI URL: https://github.com/Yifanny/Generative_CF_Model_Conditioned_On_DS.git.\n"
     ]
    },
    {
     "name": "stderr",
     "output_type": "stream",
     "text": [
      " 75%|███████▍  | 8202/10990 [03:59<01:26, 32.24it/s]"
     ]
    },
    {
     "name": "stdout",
     "output_type": "stream",
     "text": [
      "Found 1 URLs in the text\n",
      "Found 1 URLs in the text\n"
     ]
    },
    {
     "name": "stderr",
     "output_type": "stream",
     "text": [
      " 75%|███████▍  | 8239/10990 [04:01<01:43, 26.71it/s]"
     ]
    },
    {
     "name": "stdout",
     "output_type": "stream",
     "text": [
      "Found 2 URLs in the text\n",
      "Found DOI URL: https://github.com/liyaguang/DCRNN.\n"
     ]
    },
    {
     "name": "stderr",
     "output_type": "stream",
     "text": [
      " 75%|███████▌  | 8264/10990 [04:02<01:52, 24.14it/s]"
     ]
    },
    {
     "name": "stdout",
     "output_type": "stream",
     "text": [
      "Found 2 URLs in the text\n",
      "Found DOI URL: https://doi.org/10.5281/zenodo.7426506\n"
     ]
    },
    {
     "name": "stderr",
     "output_type": "stream",
     "text": [
      " 76%|███████▌  | 8299/10990 [04:03<01:46, 25.21it/s]"
     ]
    },
    {
     "name": "stdout",
     "output_type": "stream",
     "text": [
      "Found 1 URLs in the text\n",
      "Found DOI URL: https://github.com/liangchunyaobing/RCM-AIRL.\n"
     ]
    },
    {
     "name": "stderr",
     "output_type": "stream",
     "text": [
      " 76%|███████▌  | 8325/10990 [04:04<01:48, 24.47it/s]"
     ]
    },
    {
     "name": "stdout",
     "output_type": "stream",
     "text": [
      "Found 1 URLs in the text\n",
      "Found DOI URL: https://github.com/MYL23/MASO-MSF\n"
     ]
    },
    {
     "name": "stderr",
     "output_type": "stream",
     "text": [
      " 76%|███████▌  | 8351/10990 [04:05<01:47, 24.66it/s]"
     ]
    },
    {
     "name": "stdout",
     "output_type": "stream",
     "text": [
      "Found 1 URLs in the text\n",
      "Found DOI URL: https://github.com/danlegend5/FitFun.\n"
     ]
    },
    {
     "name": "stderr",
     "output_type": "stream",
     "text": [
      " 76%|███████▌  | 8354/10990 [04:05<01:53, 23.26it/s]"
     ]
    },
    {
     "name": "stdout",
     "output_type": "stream",
     "text": [
      "Found 2 URLs in the text\n",
      "Found DOI URL: https://github.com/nytimes/covid-19-data.\n",
      "Found 2 URLs in the text\n",
      "Found DOI URL: https://doi.org/10.5281/zenodo.3939793.\n",
      "Found 1 URLs in the text\n"
     ]
    },
    {
     "name": "stderr",
     "output_type": "stream",
     "text": [
      " 76%|███████▌  | 8369/10990 [04:06<02:23, 18.28it/s]"
     ]
    },
    {
     "name": "stdout",
     "output_type": "stream",
     "text": [
      "Found 1 URLs in the text\n"
     ]
    },
    {
     "name": "stderr",
     "output_type": "stream",
     "text": [
      " 76%|███████▋  | 8383/10990 [04:07<02:01, 21.47it/s]"
     ]
    },
    {
     "name": "stdout",
     "output_type": "stream",
     "text": [
      "Found 1 URLs in the text\n",
      "Found 1 URLs in the text\n",
      "Found 1 URLs in the text\n",
      "Found DOI URL: https://github.com/RadetzkyLi/3P-MSPointNet\n"
     ]
    },
    {
     "name": "stderr",
     "output_type": "stream",
     "text": [
      " 77%|███████▋  | 8408/10990 [04:08<01:34, 27.21it/s]"
     ]
    },
    {
     "name": "stdout",
     "output_type": "stream",
     "text": [
      "Found 4 URLs in the text\n",
      "Found DOI URL: https://github.com/zephyr-data-specs/GMNS;\n",
      "Found DOI URL: https://asu-trans-ai-lab.github.io/web/index.html.\n",
      "Found DOI URL: https://github.com/asu-trans-ai-lab/Integrated_modeling_GMNS/tree/main/examples/United_States_network\n"
     ]
    },
    {
     "name": "stderr",
     "output_type": "stream",
     "text": [
      " 77%|███████▋  | 8425/10990 [04:09<01:35, 26.97it/s]"
     ]
    },
    {
     "name": "stdout",
     "output_type": "stream",
     "text": [
      "Found 1 URLs in the text\n",
      "Found DOI URL: https://github.com/mcgill-smart-transport/circDMDsp.\n"
     ]
    },
    {
     "name": "stderr",
     "output_type": "stream",
     "text": [
      " 77%|███████▋  | 8429/10990 [04:09<02:12, 19.38it/s]"
     ]
    },
    {
     "name": "stdout",
     "output_type": "stream",
     "text": [
      "Found 1 URLs in the text\n",
      "Found DOI URL: https://github.com/zouguojian/STGIN/tree/main/data.\n"
     ]
    },
    {
     "name": "stderr",
     "output_type": "stream",
     "text": [
      " 77%|███████▋  | 8437/10990 [04:10<02:35, 16.39it/s]"
     ]
    },
    {
     "name": "stdout",
     "output_type": "stream",
     "text": [
      "Found 1 URLs in the text\n",
      "Found 1 URLs in the text\n"
     ]
    },
    {
     "name": "stderr",
     "output_type": "stream",
     "text": [
      " 77%|███████▋  | 8466/10990 [04:11<02:42, 15.56it/s]"
     ]
    },
    {
     "name": "stdout",
     "output_type": "stream",
     "text": [
      "Found 4 URLs in the text\n",
      "Found 1 URLs in the text\n",
      "Found DOI URL: https://github.com/Jimmy-Ke404/ORHP.\n"
     ]
    },
    {
     "name": "stderr",
     "output_type": "stream",
     "text": [
      " 77%|███████▋  | 8505/10990 [04:14<01:44, 23.75it/s]"
     ]
    },
    {
     "name": "stdout",
     "output_type": "stream",
     "text": [
      "Found 1 URLs in the text\n",
      "Found DOI URL: https://github.com/JoseAngelMartinB/prediction-behavioural-analysis-ml-travel-mode-choice.\n",
      "Found 1 URLs in the text\n"
     ]
    },
    {
     "name": "stderr",
     "output_type": "stream",
     "text": [
      " 78%|███████▊  | 8521/10990 [04:14<01:41, 24.21it/s]"
     ]
    },
    {
     "name": "stdout",
     "output_type": "stream",
     "text": [
      "Found 2 URLs in the text\n"
     ]
    },
    {
     "name": "stderr",
     "output_type": "stream",
     "text": [
      " 78%|███████▊  | 8530/10990 [04:15<02:07, 19.24it/s]"
     ]
    },
    {
     "name": "stdout",
     "output_type": "stream",
     "text": [
      "Found 1 URLs in the text\n",
      "Found DOI URL: https://data.mendeley.com/datasets/j36zgxnc5p/2.\n",
      "Found 1 URLs in the text\n",
      "Found DOI URL: https://github.com/sancarlim/Explainable-MP/tree/v1.1.\n"
     ]
    },
    {
     "name": "stderr",
     "output_type": "stream",
     "text": [
      " 78%|███████▊  | 8536/10990 [04:15<02:02, 20.09it/s]"
     ]
    },
    {
     "name": "stdout",
     "output_type": "stream",
     "text": [
      "Found 2 URLs in the text\n",
      "Found DOI URL: https://github.com/tongnie/GNN4Flow.\n"
     ]
    },
    {
     "name": "stderr",
     "output_type": "stream",
     "text": [
      " 78%|███████▊  | 8539/10990 [04:15<02:04, 19.64it/s]"
     ]
    },
    {
     "name": "stdout",
     "output_type": "stream",
     "text": [
      "Found 3 URLs in the text\n"
     ]
    },
    {
     "name": "stderr",
     "output_type": "stream",
     "text": [
      " 78%|███████▊  | 8548/10990 [04:16<02:04, 19.63it/s]"
     ]
    },
    {
     "name": "stdout",
     "output_type": "stream",
     "text": [
      "Found 1 URLs in the text\n",
      "Found 2 URLs in the text\n",
      "Found DOI URL: https://github.com/aberke/drones-consumer-privacy.\n",
      "Found 1 URLs in the text\n"
     ]
    },
    {
     "name": "stderr",
     "output_type": "stream",
     "text": [
      " 78%|███████▊  | 8552/10990 [04:16<01:58, 20.56it/s]"
     ]
    },
    {
     "name": "stdout",
     "output_type": "stream",
     "text": [
      "Found 1 URLs in the text\n",
      "Found DOI URL: https://figshare.com/articles/dataset/EPOS-based_Plans_for_Drones/21432804.\n"
     ]
    },
    {
     "name": "stderr",
     "output_type": "stream",
     "text": [
      " 78%|███████▊  | 8558/10990 [04:16<02:12, 18.40it/s]"
     ]
    },
    {
     "name": "stdout",
     "output_type": "stream",
     "text": [
      "Found 3 URLs in the text\n"
     ]
    },
    {
     "name": "stderr",
     "output_type": "stream",
     "text": [
      " 78%|███████▊  | 8565/10990 [04:17<02:16, 17.83it/s]"
     ]
    },
    {
     "name": "stdout",
     "output_type": "stream",
     "text": [
      "Found 4 URLs in the text\n",
      "Found 1 URLs in the text\n"
     ]
    },
    {
     "name": "stderr",
     "output_type": "stream",
     "text": [
      " 78%|███████▊  | 8590/10990 [04:18<01:46, 22.45it/s]"
     ]
    },
    {
     "name": "stdout",
     "output_type": "stream",
     "text": [
      "Found 2 URLs in the text\n",
      "Found DOI URL: https://github.com/pabloguarda/isuelogit.\n",
      "Found DOI URL: https://github.com/pabloguarda/pesuelogit.\n"
     ]
    },
    {
     "name": "stderr",
     "output_type": "stream",
     "text": [
      " 78%|███████▊  | 8599/10990 [04:18<01:30, 26.53it/s]"
     ]
    },
    {
     "name": "stdout",
     "output_type": "stream",
     "text": [
      "Found 1 URLs in the text\n"
     ]
    },
    {
     "name": "stderr",
     "output_type": "stream",
     "text": [
      " 78%|███████▊  | 8617/10990 [04:20<02:11, 18.06it/s]"
     ]
    },
    {
     "name": "stdout",
     "output_type": "stream",
     "text": [
      "Found 1 URLs in the text\n",
      "Found 1 URLs in the text\n",
      "Found DOI URL: https://github.com/ethz-coss/voting_traffic.\n"
     ]
    },
    {
     "name": "stderr",
     "output_type": "stream",
     "text": [
      " 78%|███████▊  | 8624/10990 [04:20<01:55, 20.57it/s]"
     ]
    },
    {
     "name": "stdout",
     "output_type": "stream",
     "text": [
      "Found 1 URLs in the text\n"
     ]
    },
    {
     "name": "stderr",
     "output_type": "stream",
     "text": [
      " 79%|███████▊  | 8630/10990 [04:20<01:45, 22.31it/s]"
     ]
    },
    {
     "name": "stdout",
     "output_type": "stream",
     "text": [
      "Found 1 URLs in the text\n",
      "Found DOI URL: https://github.com/LehmannJonas/2E-MT-VRP-PTW-Instances.\n"
     ]
    },
    {
     "name": "stderr",
     "output_type": "stream",
     "text": [
      " 79%|███████▊  | 8645/10990 [04:21<01:49, 21.46it/s]"
     ]
    },
    {
     "name": "stdout",
     "output_type": "stream",
     "text": [
      "Found 2 URLs in the text\n",
      "Found DOI URL: https://zenodo.org/record/1205229.\n"
     ]
    },
    {
     "name": "stderr",
     "output_type": "stream",
     "text": [
      " 79%|███████▉  | 8668/10990 [04:22<01:28, 26.12it/s]"
     ]
    },
    {
     "name": "stdout",
     "output_type": "stream",
     "text": [
      "Found 2 URLs in the text\n",
      "Found 1 URLs in the text\n"
     ]
    },
    {
     "name": "stderr",
     "output_type": "stream",
     "text": [
      " 79%|███████▉  | 8675/10990 [04:22<01:22, 28.07it/s]"
     ]
    },
    {
     "name": "stdout",
     "output_type": "stream",
     "text": [
      "Found 1 URLs in the text\n",
      "Found DOI URL: https://github.com/cliu01/Dataset_LSSAVDARP_ClermontFd.\n",
      "Found 1 URLs in the text\n",
      "Found DOI URL: https://github.com/ekinugurel/GPSImpute.\n"
     ]
    },
    {
     "name": "stderr",
     "output_type": "stream",
     "text": [
      " 79%|███████▉  | 8684/10990 [04:23<01:28, 25.92it/s]"
     ]
    },
    {
     "name": "stdout",
     "output_type": "stream",
     "text": [
      "Found 1 URLs in the text\n",
      "Found DOI URL: https://github.com/xiaoluban/Modeling-Interpretable-Social-Interactions-for-Pedestrian-Trajectory.\n"
     ]
    },
    {
     "name": "stderr",
     "output_type": "stream",
     "text": [
      " 79%|███████▉  | 8690/10990 [04:23<01:30, 25.35it/s]"
     ]
    },
    {
     "name": "stdout",
     "output_type": "stream",
     "text": [
      "Found 1 URLs in the text\n",
      "Found DOI URL: https://github.com/jcpinap/DTSP-DR.\n"
     ]
    },
    {
     "name": "stderr",
     "output_type": "stream",
     "text": [
      " 79%|███████▉  | 8696/10990 [04:23<01:35, 24.10it/s]"
     ]
    },
    {
     "name": "stdout",
     "output_type": "stream",
     "text": [
      "Found 1 URLs in the text\n",
      "Found DOI URL: https://github.com/zeonchen/SFMGTL.\n",
      "Found 1 URLs in the text\n",
      "Found DOI URL: https://github.com/DimVlachogiannis/HumanLight.git.\n"
     ]
    },
    {
     "name": "stderr",
     "output_type": "stream",
     "text": [
      " 79%|███████▉  | 8712/10990 [04:24<01:18, 29.17it/s]"
     ]
    },
    {
     "name": "stdout",
     "output_type": "stream",
     "text": [
      "Found 1 URLs in the text\n"
     ]
    },
    {
     "name": "stderr",
     "output_type": "stream",
     "text": [
      " 80%|███████▉  | 8741/10990 [04:25<01:50, 20.31it/s]"
     ]
    },
    {
     "name": "stdout",
     "output_type": "stream",
     "text": [
      "Found 1 URLs in the text\n"
     ]
    },
    {
     "name": "stderr",
     "output_type": "stream",
     "text": [
      " 80%|███████▉  | 8747/10990 [04:25<01:50, 20.24it/s]"
     ]
    },
    {
     "name": "stdout",
     "output_type": "stream",
     "text": [
      "Found 1 URLs in the text\n",
      "Found DOI URL: https://github.com/Yiru-Jiao/Explaining-headway-reduction-of-HVs-following-AVs.\n"
     ]
    },
    {
     "name": "stderr",
     "output_type": "stream",
     "text": [
      " 80%|███████▉  | 8758/10990 [04:26<01:51, 20.03it/s]"
     ]
    },
    {
     "name": "stdout",
     "output_type": "stream",
     "text": [
      "Found 4 URLs in the text\n",
      "Found DOI URL: https://github.com/zhiyongc/Seattle-Loop-Data.\n"
     ]
    },
    {
     "name": "stderr",
     "output_type": "stream",
     "text": [
      " 80%|███████▉  | 8765/10990 [04:26<01:45, 21.15it/s]"
     ]
    },
    {
     "name": "stdout",
     "output_type": "stream",
     "text": [
      "Found 2 URLs in the text\n"
     ]
    },
    {
     "name": "stderr",
     "output_type": "stream",
     "text": [
      " 80%|███████▉  | 8782/10990 [04:27<02:30, 14.63it/s]"
     ]
    },
    {
     "name": "stdout",
     "output_type": "stream",
     "text": [
      "Found 8 URLs in the text\n",
      "Found DOI URL: https://github.com/CSSEGISandData/COVID-19.\n"
     ]
    },
    {
     "name": "stderr",
     "output_type": "stream",
     "text": [
      " 80%|████████  | 8792/10990 [04:27<01:44, 20.94it/s]"
     ]
    },
    {
     "name": "stdout",
     "output_type": "stream",
     "text": [
      "Found 1 URLs in the text\n"
     ]
    },
    {
     "name": "stderr",
     "output_type": "stream",
     "text": [
      " 80%|████████  | 8798/10990 [04:28<01:38, 22.23it/s]"
     ]
    },
    {
     "name": "stdout",
     "output_type": "stream",
     "text": [
      "Found 1 URLs in the text\n"
     ]
    },
    {
     "name": "stderr",
     "output_type": "stream",
     "text": [
      " 80%|████████  | 8820/10990 [04:29<01:33, 23.16it/s]"
     ]
    },
    {
     "name": "stdout",
     "output_type": "stream",
     "text": [
      "Found 1 URLs in the text\n",
      "Found 1 URLs in the text\n",
      "Found DOI URL: https://doi.org/10.4121/3ad2db22-ea82-4436-8df5-ebbbdb4aeec6\n",
      "Found 1 URLs in the text\n",
      "Found DOI URL: https://github.com/Milad-Haghani/Physical-movement-of-individuals.\n",
      "Found 1 URLs in the text\n",
      "Found DOI URL: https://github.com/Milad-Haghani/Decision-making-of-individuals.\n"
     ]
    },
    {
     "name": "stderr",
     "output_type": "stream",
     "text": [
      " 80%|████████  | 8826/10990 [04:29<01:35, 22.72it/s]"
     ]
    },
    {
     "name": "stdout",
     "output_type": "stream",
     "text": [
      "Found 1 URLs in the text\n"
     ]
    },
    {
     "name": "stderr",
     "output_type": "stream",
     "text": [
      " 80%|████████  | 8839/10990 [04:30<01:50, 19.42it/s]"
     ]
    },
    {
     "name": "stdout",
     "output_type": "stream",
     "text": [
      "Found 1 URLs in the text\n",
      "Found DOI URL: https://github.com/yuki-oyama/fluid-particle-csd.\n"
     ]
    },
    {
     "name": "stderr",
     "output_type": "stream",
     "text": [
      " 81%|████████  | 8857/10990 [04:31<01:33, 22.78it/s]"
     ]
    },
    {
     "name": "stdout",
     "output_type": "stream",
     "text": [
      "Found 2 URLs in the text\n",
      "Found DOI URL: https://github.com/RomainLITUD/conflict_resolution_dataset.\n"
     ]
    },
    {
     "name": "stderr",
     "output_type": "stream",
     "text": [
      " 81%|████████  | 8880/10990 [04:31<01:15, 27.82it/s]"
     ]
    },
    {
     "name": "stdout",
     "output_type": "stream",
     "text": [
      "Found 1 URLs in the text\n",
      "Found DOI URL: https://github.com/Xuan-1998/LPSim\n"
     ]
    },
    {
     "name": "stderr",
     "output_type": "stream",
     "text": [
      " 81%|████████  | 8894/10990 [04:32<01:24, 24.67it/s]"
     ]
    },
    {
     "name": "stdout",
     "output_type": "stream",
     "text": [
      "Found 3 URLs in the text\n",
      "Found 2 URLs in the text\n"
     ]
    },
    {
     "name": "stderr",
     "output_type": "stream",
     "text": [
      " 81%|████████  | 8907/10990 [04:32<01:02, 33.07it/s]"
     ]
    },
    {
     "name": "stdout",
     "output_type": "stream",
     "text": [
      "Found 1 URLs in the text\n",
      "Found DOI URL: https://github.com/bugracnr/TRC-INSTANCES.\n"
     ]
    },
    {
     "name": "stderr",
     "output_type": "stream",
     "text": [
      " 81%|████████  | 8925/10990 [04:33<00:55, 36.99it/s]"
     ]
    },
    {
     "name": "stdout",
     "output_type": "stream",
     "text": [
      "Found 2 URLs in the text\n"
     ]
    },
    {
     "name": "stderr",
     "output_type": "stream",
     "text": [
      " 81%|████████▏ | 8948/10990 [04:33<00:43, 46.90it/s]"
     ]
    },
    {
     "name": "stdout",
     "output_type": "stream",
     "text": [
      "Found 3 URLs in the text\n"
     ]
    },
    {
     "name": "stderr",
     "output_type": "stream",
     "text": [
      " 82%|████████▏ | 8974/10990 [04:34<00:31, 63.97it/s]"
     ]
    },
    {
     "name": "stdout",
     "output_type": "stream",
     "text": [
      "Found 3 URLs in the text\n"
     ]
    },
    {
     "name": "stderr",
     "output_type": "stream",
     "text": [
      " 82%|████████▏ | 8988/10990 [04:34<00:36, 54.69it/s]"
     ]
    },
    {
     "name": "stdout",
     "output_type": "stream",
     "text": [
      "Found 1 URLs in the text\n"
     ]
    },
    {
     "name": "stderr",
     "output_type": "stream",
     "text": [
      " 82%|████████▏ | 9025/10990 [04:34<00:25, 76.57it/s]"
     ]
    },
    {
     "name": "stdout",
     "output_type": "stream",
     "text": [
      "Found 2 URLs in the text\n",
      "Found 1 URLs in the text\n",
      "Found 1 URLs in the text\n",
      "Found DOI URL: http://doi.org/10.4121/uuid:994f0ab2-0fa2-493f-88ad-fbf4eaaf470e\n"
     ]
    },
    {
     "name": "stderr",
     "output_type": "stream",
     "text": [
      " 83%|████████▎ | 9077/10990 [04:35<00:27, 69.01it/s]"
     ]
    },
    {
     "name": "stdout",
     "output_type": "stream",
     "text": [
      "Found 1 URLs in the text\n"
     ]
    },
    {
     "name": "stderr",
     "output_type": "stream",
     "text": [
      " 83%|████████▎ | 9131/10990 [04:36<00:24, 77.44it/s]"
     ]
    },
    {
     "name": "stdout",
     "output_type": "stream",
     "text": [
      "Found 2 URLs in the text\n",
      "Found 1 URLs in the text\n"
     ]
    },
    {
     "name": "stderr",
     "output_type": "stream",
     "text": [
      " 83%|████████▎ | 9148/10990 [04:36<00:26, 70.61it/s]"
     ]
    },
    {
     "name": "stdout",
     "output_type": "stream",
     "text": [
      "Found 1 URLs in the text\n",
      "Found 1 URLs in the text\n"
     ]
    },
    {
     "name": "stderr",
     "output_type": "stream",
     "text": [
      " 84%|████████▎ | 9191/10990 [04:37<00:25, 69.24it/s]"
     ]
    },
    {
     "name": "stdout",
     "output_type": "stream",
     "text": [
      "Found 1 URLs in the text\n"
     ]
    },
    {
     "name": "stderr",
     "output_type": "stream",
     "text": [
      " 84%|████████▍ | 9218/10990 [04:37<00:35, 49.94it/s]"
     ]
    },
    {
     "name": "stdout",
     "output_type": "stream",
     "text": [
      "Found 5 URLs in the text\n",
      "Found 1 URLs in the text\n"
     ]
    },
    {
     "name": "stderr",
     "output_type": "stream",
     "text": [
      " 84%|████████▍ | 9250/10990 [04:38<00:33, 51.64it/s]"
     ]
    },
    {
     "name": "stdout",
     "output_type": "stream",
     "text": [
      "Found 2 URLs in the text\n"
     ]
    },
    {
     "name": "stderr",
     "output_type": "stream",
     "text": [
      " 84%|████████▍ | 9282/10990 [04:39<00:28, 60.88it/s]"
     ]
    },
    {
     "name": "stdout",
     "output_type": "stream",
     "text": [
      "Found 1 URLs in the text\n",
      "Found 3 URLs in the text\n"
     ]
    },
    {
     "name": "stderr",
     "output_type": "stream",
     "text": [
      " 85%|████████▍ | 9289/10990 [04:39<00:30, 55.31it/s]"
     ]
    },
    {
     "name": "stdout",
     "output_type": "stream",
     "text": [
      "Found 1 URLs in the text\n",
      "Found 2 URLs in the text\n",
      "Found 1 URLs in the text\n"
     ]
    },
    {
     "name": "stderr",
     "output_type": "stream",
     "text": [
      " 85%|████████▍ | 9337/10990 [04:40<00:34, 47.37it/s]"
     ]
    },
    {
     "name": "stdout",
     "output_type": "stream",
     "text": [
      "Found 2 URLs in the text\n",
      "Found 1 URLs in the text\n"
     ]
    },
    {
     "name": "stderr",
     "output_type": "stream",
     "text": [
      " 85%|████████▌ | 9380/10990 [04:40<00:23, 68.97it/s]"
     ]
    },
    {
     "name": "stdout",
     "output_type": "stream",
     "text": [
      "Found 5 URLs in the text\n",
      "Found 1 URLs in the text\n"
     ]
    },
    {
     "name": "stderr",
     "output_type": "stream",
     "text": [
      " 86%|████████▌ | 9427/10990 [04:41<00:24, 63.05it/s]"
     ]
    },
    {
     "name": "stdout",
     "output_type": "stream",
     "text": [
      "Found 1 URLs in the text\n",
      "Found 1 URLs in the text\n"
     ]
    },
    {
     "name": "stderr",
     "output_type": "stream",
     "text": [
      " 86%|████████▌ | 9441/10990 [04:41<00:23, 65.52it/s]"
     ]
    },
    {
     "name": "stdout",
     "output_type": "stream",
     "text": [
      "Found 1 URLs in the text\n",
      "Found 1 URLs in the text\n"
     ]
    },
    {
     "name": "stderr",
     "output_type": "stream",
     "text": [
      " 86%|████████▌ | 9456/10990 [04:42<00:26, 57.05it/s]"
     ]
    },
    {
     "name": "stdout",
     "output_type": "stream",
     "text": [
      "Found 1 URLs in the text\n"
     ]
    },
    {
     "name": "stderr",
     "output_type": "stream",
     "text": [
      " 86%|████████▋ | 9499/10990 [04:42<00:21, 70.02it/s]"
     ]
    },
    {
     "name": "stdout",
     "output_type": "stream",
     "text": [
      "Found 1 URLs in the text\n"
     ]
    },
    {
     "name": "stderr",
     "output_type": "stream",
     "text": [
      " 87%|████████▋ | 9521/10990 [04:43<00:23, 62.06it/s]"
     ]
    },
    {
     "name": "stdout",
     "output_type": "stream",
     "text": [
      "Found 1 URLs in the text\n"
     ]
    },
    {
     "name": "stderr",
     "output_type": "stream",
     "text": [
      " 87%|████████▋ | 9542/10990 [04:43<00:23, 61.47it/s]"
     ]
    },
    {
     "name": "stdout",
     "output_type": "stream",
     "text": [
      "Found 2 URLs in the text\n",
      "Found 3 URLs in the text\n"
     ]
    },
    {
     "name": "stderr",
     "output_type": "stream",
     "text": [
      " 87%|████████▋ | 9590/10990 [04:44<00:22, 61.61it/s]"
     ]
    },
    {
     "name": "stdout",
     "output_type": "stream",
     "text": [
      "Found 4 URLs in the text\n"
     ]
    },
    {
     "name": "stderr",
     "output_type": "stream",
     "text": [
      " 87%|████████▋ | 9606/10990 [04:44<00:21, 65.15it/s]"
     ]
    },
    {
     "name": "stdout",
     "output_type": "stream",
     "text": [
      "Found 1 URLs in the text\n"
     ]
    },
    {
     "name": "stderr",
     "output_type": "stream",
     "text": [
      " 88%|████████▊ | 9622/10990 [04:44<00:19, 70.72it/s]"
     ]
    },
    {
     "name": "stdout",
     "output_type": "stream",
     "text": [
      "Found 2 URLs in the text\n",
      "Found 1 URLs in the text\n"
     ]
    },
    {
     "name": "stderr",
     "output_type": "stream",
     "text": [
      " 88%|████████▊ | 9649/10990 [04:45<00:18, 71.46it/s]"
     ]
    },
    {
     "name": "stdout",
     "output_type": "stream",
     "text": [
      "Found 2 URLs in the text\n",
      "Found 1 URLs in the text\n",
      "Found 2 URLs in the text\n",
      "Found 1 URLs in the text\n"
     ]
    },
    {
     "name": "stderr",
     "output_type": "stream",
     "text": [
      " 88%|████████▊ | 9675/10990 [04:45<00:18, 72.54it/s]"
     ]
    },
    {
     "name": "stdout",
     "output_type": "stream",
     "text": [
      "Found 2 URLs in the text\n"
     ]
    },
    {
     "name": "stderr",
     "output_type": "stream",
     "text": [
      " 88%|████████▊ | 9704/10990 [04:46<00:20, 62.85it/s]"
     ]
    },
    {
     "name": "stdout",
     "output_type": "stream",
     "text": [
      "Found 2 URLs in the text\n",
      "Found DOI URL: https://github.com/giacfalk/EV_charging_network_accessibility_analysis.\n",
      "Found 1 URLs in the text\n",
      "Found 5 URLs in the text\n",
      "Found 1 URLs in the text\n"
     ]
    },
    {
     "name": "stderr",
     "output_type": "stream",
     "text": [
      " 89%|████████▊ | 9741/10990 [04:46<00:18, 66.58it/s]"
     ]
    },
    {
     "name": "stdout",
     "output_type": "stream",
     "text": [
      "Found 4 URLs in the text\n",
      "Found 1 URLs in the text\n",
      "Found DOI URL: https://doi.org/10.7910/DVN/HNHJHU.\n",
      "Found 2 URLs in the text\n",
      "Found 2 URLs in the text\n",
      "Found DOI URL: https://doi.org/10.7927/H4ZK5DQS.\n"
     ]
    },
    {
     "name": "stderr",
     "output_type": "stream",
     "text": [
      " 89%|████████▉ | 9787/10990 [04:47<00:23, 51.83it/s]"
     ]
    },
    {
     "name": "stdout",
     "output_type": "stream",
     "text": [
      "Found 1 URLs in the text\n",
      "Found 3 URLs in the text\n"
     ]
    },
    {
     "name": "stderr",
     "output_type": "stream",
     "text": [
      " 89%|████████▉ | 9800/10990 [04:47<00:21, 54.81it/s]"
     ]
    },
    {
     "name": "stdout",
     "output_type": "stream",
     "text": [
      "Found 1 URLs in the text\n"
     ]
    },
    {
     "name": "stderr",
     "output_type": "stream",
     "text": [
      " 89%|████████▉ | 9811/10990 [04:48<00:31, 37.57it/s]"
     ]
    },
    {
     "name": "stdout",
     "output_type": "stream",
     "text": [
      "Found 1 URLs in the text\n"
     ]
    },
    {
     "name": "stderr",
     "output_type": "stream",
     "text": [
      " 89%|████████▉ | 9824/10990 [04:48<00:24, 46.87it/s]"
     ]
    },
    {
     "name": "stdout",
     "output_type": "stream",
     "text": [
      "Found 2 URLs in the text\n"
     ]
    },
    {
     "name": "stderr",
     "output_type": "stream",
     "text": [
      " 90%|████████▉ | 9841/10990 [04:49<00:32, 35.49it/s]"
     ]
    },
    {
     "name": "stdout",
     "output_type": "stream",
     "text": [
      "Found 1 URLs in the text\n",
      "Found DOI URL: https://doi.org/10.17605/osf.io/t6gjh.\n",
      "Found 1 URLs in the text\n"
     ]
    },
    {
     "name": "stderr",
     "output_type": "stream",
     "text": [
      " 90%|████████▉ | 9856/10990 [04:49<00:29, 37.87it/s]"
     ]
    },
    {
     "name": "stdout",
     "output_type": "stream",
     "text": [
      "Found 7 URLs in the text\n",
      "Found 1 URLs in the text\n"
     ]
    },
    {
     "name": "stderr",
     "output_type": "stream",
     "text": [
      " 90%|████████▉ | 9874/10990 [04:49<00:24, 45.90it/s]"
     ]
    },
    {
     "name": "stdout",
     "output_type": "stream",
     "text": [
      "Found 3 URLs in the text\n",
      "Found 1 URLs in the text\n",
      "Found DOI URL: https://github.com/openmobilityfoundation/mobility-data-specification\n"
     ]
    },
    {
     "name": "stderr",
     "output_type": "stream",
     "text": [
      " 90%|█████████ | 9899/10990 [04:50<00:18, 60.21it/s]"
     ]
    },
    {
     "name": "stdout",
     "output_type": "stream",
     "text": [
      "Found 1 URLs in the text\n"
     ]
    },
    {
     "name": "stderr",
     "output_type": "stream",
     "text": [
      " 90%|█████████ | 9928/10990 [04:50<00:14, 70.88it/s]"
     ]
    },
    {
     "name": "stdout",
     "output_type": "stream",
     "text": [
      "Found 1 URLs in the text\n",
      "Found 1 URLs in the text\n"
     ]
    },
    {
     "name": "stderr",
     "output_type": "stream",
     "text": [
      " 91%|█████████ | 9951/10990 [04:51<00:17, 58.52it/s]"
     ]
    },
    {
     "name": "stdout",
     "output_type": "stream",
     "text": [
      "Found 1 URLs in the text\n",
      "Found 1 URLs in the text\n",
      "Found 3 URLs in the text\n"
     ]
    },
    {
     "name": "stderr",
     "output_type": "stream",
     "text": [
      " 91%|█████████ | 9981/10990 [04:51<00:15, 63.76it/s]"
     ]
    },
    {
     "name": "stdout",
     "output_type": "stream",
     "text": [
      "Found 1 URLs in the text\n"
     ]
    },
    {
     "name": "stderr",
     "output_type": "stream",
     "text": [
      " 91%|█████████ | 9996/10990 [04:51<00:16, 60.83it/s]"
     ]
    },
    {
     "name": "stdout",
     "output_type": "stream",
     "text": [
      "Found 1 URLs in the text\n",
      "Found DOI URL: https://zenodo.org/record/5102564#.Youu56jMLIU\n",
      "Found 2 URLs in the text\n"
     ]
    },
    {
     "name": "stderr",
     "output_type": "stream",
     "text": [
      " 91%|█████████▏| 10036/10990 [04:52<00:16, 57.83it/s]"
     ]
    },
    {
     "name": "stdout",
     "output_type": "stream",
     "text": [
      "Found 1 URLs in the text\n",
      "Found 1 URLs in the text\n"
     ]
    },
    {
     "name": "stderr",
     "output_type": "stream",
     "text": [
      " 91%|█████████▏| 10043/10990 [04:52<00:16, 56.50it/s]"
     ]
    },
    {
     "name": "stdout",
     "output_type": "stream",
     "text": [
      "Found 2 URLs in the text\n"
     ]
    },
    {
     "name": "stderr",
     "output_type": "stream",
     "text": [
      " 92%|█████████▏| 10081/10990 [04:53<00:14, 61.94it/s]"
     ]
    },
    {
     "name": "stdout",
     "output_type": "stream",
     "text": [
      "Found 1 URLs in the text\n",
      "Found 1 URLs in the text\n",
      "Found 1 URLs in the text\n"
     ]
    },
    {
     "name": "stderr",
     "output_type": "stream",
     "text": [
      " 92%|█████████▏| 10096/10990 [04:53<00:14, 60.37it/s]"
     ]
    },
    {
     "name": "stdout",
     "output_type": "stream",
     "text": [
      "Found 2 URLs in the text\n",
      "Found DOI URL: https://doi.org/10.5281/zenodo.6587266.\n",
      "Found DOI URL: https://github.com/keesvanginkel/europe_flood_road_disruption\n"
     ]
    },
    {
     "name": "stderr",
     "output_type": "stream",
     "text": [
      " 92%|█████████▏| 10111/10990 [04:53<00:15, 56.36it/s]"
     ]
    },
    {
     "name": "stdout",
     "output_type": "stream",
     "text": [
      "Found 3 URLs in the text\n",
      "Found 1 URLs in the text\n"
     ]
    },
    {
     "name": "stderr",
     "output_type": "stream",
     "text": [
      " 92%|█████████▏| 10161/10990 [04:54<00:16, 50.56it/s]"
     ]
    },
    {
     "name": "stdout",
     "output_type": "stream",
     "text": [
      "Found 2 URLs in the text\n",
      "Found DOI URL: https://osf.io/95qj6/.\n",
      "Found DOI URL: https://osf.io/95qj6/\n",
      "Found 1 URLs in the text\n"
     ]
    },
    {
     "name": "stderr",
     "output_type": "stream",
     "text": [
      " 93%|█████████▎| 10177/10990 [04:55<00:18, 43.06it/s]"
     ]
    },
    {
     "name": "stdout",
     "output_type": "stream",
     "text": [
      "Found 1 URLs in the text\n",
      "Found 1 URLs in the text\n",
      "Found 1 URLs in the text\n"
     ]
    },
    {
     "name": "stderr",
     "output_type": "stream",
     "text": [
      " 93%|█████████▎| 10196/10990 [04:55<00:18, 42.86it/s]"
     ]
    },
    {
     "name": "stdout",
     "output_type": "stream",
     "text": [
      "Found 1 URLs in the text\n"
     ]
    },
    {
     "name": "stderr",
     "output_type": "stream",
     "text": [
      " 93%|█████████▎| 10211/10990 [04:55<00:14, 53.16it/s]"
     ]
    },
    {
     "name": "stdout",
     "output_type": "stream",
     "text": [
      "Found 1 URLs in the text\n"
     ]
    },
    {
     "name": "stderr",
     "output_type": "stream",
     "text": [
      " 93%|█████████▎| 10229/10990 [04:56<00:11, 66.34it/s]"
     ]
    },
    {
     "name": "stdout",
     "output_type": "stream",
     "text": [
      "Found 1 URLs in the text\n",
      "Found 2 URLs in the text\n"
     ]
    },
    {
     "name": "stderr",
     "output_type": "stream",
     "text": [
      " 93%|█████████▎| 10257/10990 [04:56<00:12, 58.32it/s]"
     ]
    },
    {
     "name": "stdout",
     "output_type": "stream",
     "text": [
      "Found 1 URLs in the text\n",
      "Found 1 URLs in the text\n"
     ]
    },
    {
     "name": "stderr",
     "output_type": "stream",
     "text": [
      " 93%|█████████▎| 10273/10990 [04:56<00:11, 64.93it/s]"
     ]
    },
    {
     "name": "stdout",
     "output_type": "stream",
     "text": [
      "Found 3 URLs in the text\n",
      "Found 1 URLs in the text\n",
      "Found 2 URLs in the text\n",
      "Found 2 URLs in the text\n"
     ]
    },
    {
     "name": "stderr",
     "output_type": "stream",
     "text": [
      " 94%|█████████▎| 10302/10990 [04:57<00:11, 62.12it/s]"
     ]
    },
    {
     "name": "stdout",
     "output_type": "stream",
     "text": [
      "Found 1 URLs in the text\n",
      "Found 1 URLs in the text\n",
      "Found DOI URL: https://zenodo.org/record/5776533#.YbdNH73MJaQ\n",
      "Found 1 URLs in the text\n"
     ]
    },
    {
     "name": "stderr",
     "output_type": "stream",
     "text": [
      " 94%|█████████▍| 10309/10990 [04:57<00:11, 57.89it/s]"
     ]
    },
    {
     "name": "stdout",
     "output_type": "stream",
     "text": [
      "Found 2 URLs in the text\n"
     ]
    },
    {
     "name": "stderr",
     "output_type": "stream",
     "text": [
      " 94%|█████████▍| 10329/10990 [04:57<00:11, 55.32it/s]"
     ]
    },
    {
     "name": "stdout",
     "output_type": "stream",
     "text": [
      "Found 2 URLs in the text\n",
      "Found DOI URL: https://osf.io/xbhqf/?view_only=9ed604cac4614be8ac318ef71edb5254.\n"
     ]
    },
    {
     "name": "stderr",
     "output_type": "stream",
     "text": [
      " 94%|█████████▍| 10351/10990 [04:58<00:11, 55.02it/s]"
     ]
    },
    {
     "name": "stdout",
     "output_type": "stream",
     "text": [
      "Found 2 URLs in the text\n"
     ]
    },
    {
     "name": "stderr",
     "output_type": "stream",
     "text": [
      " 94%|█████████▍| 10358/10990 [04:58<00:11, 53.77it/s]"
     ]
    },
    {
     "name": "stdout",
     "output_type": "stream",
     "text": [
      "Found 1 URLs in the text\n",
      "Found 1 URLs in the text\n"
     ]
    },
    {
     "name": "stderr",
     "output_type": "stream",
     "text": [
      " 94%|█████████▍| 10377/10990 [04:58<00:13, 44.57it/s]"
     ]
    },
    {
     "name": "stdout",
     "output_type": "stream",
     "text": [
      "Found 2 URLs in the text\n"
     ]
    },
    {
     "name": "stderr",
     "output_type": "stream",
     "text": [
      " 94%|█████████▍| 10382/10990 [04:59<00:16, 36.32it/s]"
     ]
    },
    {
     "name": "stdout",
     "output_type": "stream",
     "text": [
      "Found 1 URLs in the text\n"
     ]
    },
    {
     "name": "stderr",
     "output_type": "stream",
     "text": [
      " 95%|█████████▍| 10393/10990 [04:59<00:15, 39.04it/s]"
     ]
    },
    {
     "name": "stdout",
     "output_type": "stream",
     "text": [
      "Found 1 URLs in the text\n",
      "Found DOI URL: https://github.com/ChullEPG/Bumpy-Ride,\n"
     ]
    },
    {
     "name": "stderr",
     "output_type": "stream",
     "text": [
      " 95%|█████████▍| 10414/10990 [04:59<00:11, 49.15it/s]"
     ]
    },
    {
     "name": "stdout",
     "output_type": "stream",
     "text": [
      "Found 1 URLs in the text\n",
      "Found DOI URL: https://github.com/futuremobilitylabariel/EnvironmentModel\n"
     ]
    },
    {
     "name": "stderr",
     "output_type": "stream",
     "text": [
      " 95%|█████████▍| 10428/10990 [04:59<00:10, 53.15it/s]"
     ]
    },
    {
     "name": "stdout",
     "output_type": "stream",
     "text": [
      "Found 2 URLs in the text\n",
      "Found 1 URLs in the text\n"
     ]
    },
    {
     "name": "stderr",
     "output_type": "stream",
     "text": [
      " 95%|█████████▌| 10441/10990 [05:00<00:10, 51.31it/s]"
     ]
    },
    {
     "name": "stdout",
     "output_type": "stream",
     "text": [
      "Found 1 URLs in the text\n"
     ]
    },
    {
     "name": "stderr",
     "output_type": "stream",
     "text": [
      " 95%|█████████▌| 10469/10990 [05:00<00:09, 54.73it/s]"
     ]
    },
    {
     "name": "stdout",
     "output_type": "stream",
     "text": [
      "Found 4 URLs in the text\n"
     ]
    },
    {
     "name": "stderr",
     "output_type": "stream",
     "text": [
      " 95%|█████████▌| 10482/10990 [05:00<00:09, 52.31it/s]"
     ]
    },
    {
     "name": "stdout",
     "output_type": "stream",
     "text": [
      "Found 1 URLs in the text\n",
      "Found 1 URLs in the text\n",
      "Found 1 URLs in the text\n"
     ]
    },
    {
     "name": "stderr",
     "output_type": "stream",
     "text": [
      " 96%|█████████▌| 10496/10990 [05:01<00:09, 53.18it/s]"
     ]
    },
    {
     "name": "stdout",
     "output_type": "stream",
     "text": [
      "Found 1 URLs in the text\n",
      "Found 1 URLs in the text\n",
      "Found DOI URL: https://zenodo.org/record/7866504#.ZEo6B3ZByUn\n"
     ]
    },
    {
     "name": "stderr",
     "output_type": "stream",
     "text": [
      " 96%|█████████▌| 10523/10990 [05:01<00:09, 51.27it/s]"
     ]
    },
    {
     "name": "stdout",
     "output_type": "stream",
     "text": [
      "Found 1 URLs in the text\n",
      "Found DOI URL: https://github.com/graphhopper/graphhopper\n",
      "Found 1 URLs in the text\n"
     ]
    },
    {
     "name": "stderr",
     "output_type": "stream",
     "text": [
      " 96%|█████████▌| 10535/10990 [05:01<00:09, 48.40it/s]"
     ]
    },
    {
     "name": "stdout",
     "output_type": "stream",
     "text": [
      "Found 1 URLs in the text\n",
      "Found 1 URLs in the text\n",
      "Found 1 URLs in the text\n"
     ]
    },
    {
     "name": "stderr",
     "output_type": "stream",
     "text": [
      " 96%|█████████▌| 10558/10990 [05:02<00:07, 57.63it/s]"
     ]
    },
    {
     "name": "stdout",
     "output_type": "stream",
     "text": [
      "Found 1 URLs in the text\n"
     ]
    },
    {
     "name": "stderr",
     "output_type": "stream",
     "text": [
      " 96%|█████████▋| 10579/10990 [05:02<00:06, 61.19it/s]"
     ]
    },
    {
     "name": "stdout",
     "output_type": "stream",
     "text": [
      "Found 2 URLs in the text\n"
     ]
    },
    {
     "name": "stderr",
     "output_type": "stream",
     "text": [
      " 96%|█████████▋| 10594/10990 [05:02<00:06, 61.06it/s]"
     ]
    },
    {
     "name": "stdout",
     "output_type": "stream",
     "text": [
      "Found 2 URLs in the text\n",
      "Found 1 URLs in the text\n",
      "Found 1 URLs in the text\n",
      "Found 1 URLs in the text\n",
      "Found 1 URLs in the text\n"
     ]
    },
    {
     "name": "stderr",
     "output_type": "stream",
     "text": [
      " 97%|█████████▋| 10616/10990 [05:03<00:06, 58.76it/s]"
     ]
    },
    {
     "name": "stdout",
     "output_type": "stream",
     "text": [
      "Found 2 URLs in the text\n",
      "Found DOI URL: https://data.mendeley.com/datasets/wfn2c3437n/2.\n",
      "Found 1 URLs in the text\n",
      "Found 3 URLs in the text\n"
     ]
    },
    {
     "name": "stderr",
     "output_type": "stream",
     "text": [
      " 97%|█████████▋| 10634/10990 [05:03<00:05, 68.07it/s]"
     ]
    },
    {
     "name": "stdout",
     "output_type": "stream",
     "text": [
      "Found 1 URLs in the text\n",
      "Found 1 URLs in the text\n",
      "Found 1 URLs in the text\n",
      "Found 1 URLs in the text\n"
     ]
    },
    {
     "name": "stderr",
     "output_type": "stream",
     "text": [
      " 97%|█████████▋| 10656/10990 [05:04<00:06, 54.83it/s]"
     ]
    },
    {
     "name": "stdout",
     "output_type": "stream",
     "text": [
      "Found 1 URLs in the text\n"
     ]
    },
    {
     "name": "stderr",
     "output_type": "stream",
     "text": [
      " 97%|█████████▋| 10668/10990 [05:04<00:07, 43.58it/s]"
     ]
    },
    {
     "name": "stdout",
     "output_type": "stream",
     "text": [
      "Found 2 URLs in the text\n",
      "Found 1 URLs in the text\n"
     ]
    },
    {
     "name": "stderr",
     "output_type": "stream",
     "text": [
      " 97%|█████████▋| 10684/10990 [05:04<00:05, 54.67it/s]"
     ]
    },
    {
     "name": "stdout",
     "output_type": "stream",
     "text": [
      "Found 7 URLs in the text\n",
      "Found 1 URLs in the text\n"
     ]
    },
    {
     "name": "stderr",
     "output_type": "stream",
     "text": [
      " 97%|█████████▋| 10696/10990 [05:04<00:05, 52.84it/s]"
     ]
    },
    {
     "name": "stdout",
     "output_type": "stream",
     "text": [
      "Found 1 URLs in the text\n",
      "Found 1 URLs in the text\n",
      "Found DOI URL: https://github.com/peterberr/sufficcs_mobility/tree/main/outputs.\n"
     ]
    },
    {
     "name": "stderr",
     "output_type": "stream",
     "text": [
      " 98%|█████████▊| 10730/10990 [05:05<00:05, 51.27it/s]"
     ]
    },
    {
     "name": "stdout",
     "output_type": "stream",
     "text": [
      "Found 1 URLs in the text\n",
      "Found 2 URLs in the text\n"
     ]
    },
    {
     "name": "stderr",
     "output_type": "stream",
     "text": [
      " 98%|█████████▊| 10743/10990 [05:05<00:04, 54.17it/s]"
     ]
    },
    {
     "name": "stdout",
     "output_type": "stream",
     "text": [
      "Found 3 URLs in the text\n"
     ]
    },
    {
     "name": "stderr",
     "output_type": "stream",
     "text": [
      " 98%|█████████▊| 10761/10990 [05:06<00:05, 44.51it/s]"
     ]
    },
    {
     "name": "stdout",
     "output_type": "stream",
     "text": [
      "Found 19 URLs in the text\n"
     ]
    },
    {
     "name": "stderr",
     "output_type": "stream",
     "text": [
      " 98%|█████████▊| 10773/10990 [05:06<00:04, 49.18it/s]"
     ]
    },
    {
     "name": "stdout",
     "output_type": "stream",
     "text": [
      "Found 1 URLs in the text\n",
      "Found 1 URLs in the text\n"
     ]
    },
    {
     "name": "stderr",
     "output_type": "stream",
     "text": [
      " 98%|█████████▊| 10785/10990 [05:06<00:04, 47.13it/s]"
     ]
    },
    {
     "name": "stdout",
     "output_type": "stream",
     "text": [
      "Found 1 URLs in the text\n",
      "Found 1 URLs in the text\n",
      "Found 2 URLs in the text\n"
     ]
    },
    {
     "name": "stderr",
     "output_type": "stream",
     "text": [
      " 98%|█████████▊| 10802/10990 [05:07<00:04, 45.50it/s]"
     ]
    },
    {
     "name": "stdout",
     "output_type": "stream",
     "text": [
      "Found 1 URLs in the text\n",
      "Found 1 URLs in the text\n",
      "Found 3 URLs in the text\n"
     ]
    },
    {
     "name": "stderr",
     "output_type": "stream",
     "text": [
      " 98%|█████████▊| 10819/10990 [05:07<00:03, 43.50it/s]"
     ]
    },
    {
     "name": "stdout",
     "output_type": "stream",
     "text": [
      "Found 3 URLs in the text\n",
      "Found 1 URLs in the text\n"
     ]
    },
    {
     "name": "stderr",
     "output_type": "stream",
     "text": [
      " 99%|█████████▊| 10829/10990 [05:07<00:03, 43.86it/s]"
     ]
    },
    {
     "name": "stdout",
     "output_type": "stream",
     "text": [
      "Found 1 URLs in the text\n",
      "Found 3 URLs in the text\n"
     ]
    },
    {
     "name": "stderr",
     "output_type": "stream",
     "text": [
      " 99%|█████████▉| 10863/10990 [05:08<00:02, 45.37it/s]"
     ]
    },
    {
     "name": "stdout",
     "output_type": "stream",
     "text": [
      "Found 1 URLs in the text\n"
     ]
    },
    {
     "name": "stderr",
     "output_type": "stream",
     "text": [
      " 99%|█████████▉| 10882/10990 [05:08<00:02, 52.45it/s]"
     ]
    },
    {
     "name": "stdout",
     "output_type": "stream",
     "text": [
      "Found 2 URLs in the text\n",
      "Found 2 URLs in the text\n",
      "Found 1 URLs in the text\n",
      "Found 1 URLs in the text\n"
     ]
    },
    {
     "name": "stderr",
     "output_type": "stream",
     "text": [
      " 99%|█████████▉| 10901/10990 [05:09<00:01, 52.04it/s]"
     ]
    },
    {
     "name": "stdout",
     "output_type": "stream",
     "text": [
      "Found 1 URLs in the text\n"
     ]
    },
    {
     "name": "stderr",
     "output_type": "stream",
     "text": [
      " 99%|█████████▉| 10916/10990 [05:09<00:01, 59.48it/s]"
     ]
    },
    {
     "name": "stdout",
     "output_type": "stream",
     "text": [
      "Found 1 URLs in the text\n",
      "Found 1 URLs in the text\n",
      "Found 1 URLs in the text\n",
      "Found DOI URL: https://doi.org/10.17632/r49tcwnyb6.1\n"
     ]
    },
    {
     "name": "stderr",
     "output_type": "stream",
     "text": [
      " 99%|█████████▉| 10929/10990 [05:09<00:01, 46.76it/s]"
     ]
    },
    {
     "name": "stdout",
     "output_type": "stream",
     "text": [
      "Found 5 URLs in the text\n"
     ]
    },
    {
     "name": "stderr",
     "output_type": "stream",
     "text": [
      "100%|█████████▉| 10953/10990 [05:10<00:00, 50.22it/s]"
     ]
    },
    {
     "name": "stdout",
     "output_type": "stream",
     "text": [
      "Found 2 URLs in the text\n",
      "Found 2 URLs in the text\n"
     ]
    },
    {
     "name": "stderr",
     "output_type": "stream",
     "text": [
      "100%|█████████▉| 10972/10990 [05:10<00:00, 50.59it/s]"
     ]
    },
    {
     "name": "stdout",
     "output_type": "stream",
     "text": [
      "Found 2 URLs in the text\n",
      "Found 1 URLs in the text\n",
      "Found DOI URL: https://github.com/ibatur/atus_heat_paper.\n",
      "Found 1 URLs in the text\n"
     ]
    },
    {
     "name": "stderr",
     "output_type": "stream",
     "text": [
      "100%|█████████▉| 10988/10990 [05:10<00:00, 45.69it/s]"
     ]
    },
    {
     "name": "stdout",
     "output_type": "stream",
     "text": [
      "Found 1 URLs in the text\n",
      "Found DOI URL: https://doi.org/10.4121/777220e4-9a78-4653-8780-89c2572f6c81.\n",
      "Found 1 URLs in the text\n",
      "Found 2 URLs in the text\n",
      "Found 1 URLs in the text\n"
     ]
    },
    {
     "name": "stderr",
     "output_type": "stream",
     "text": [
      "100%|██████████| 10990/10990 [05:10<00:00, 35.36it/s]\n"
     ]
    }
   ],
   "source": [
    "if not os.path.exists(result_data_folder + '/data-links'):\n",
    "    os.makedirs(result_data_folder + '/data-links')\n",
    "# Regular expression to find URLs\n",
    "url_pattern = r'https?://[^\\s\\)\\.]+(?:[^\\s\\)]+)' # Matches 'http://' or 'https://' followed by non-whitespace characters\n",
    "full_url_list = []\n",
    "for i in tqdm(range(len(data))):\n",
    "# for i in tqdm(range(2000, 2101)):\n",
    "    # Initialize data context\n",
    "    data_context = ''\n",
    "    label = 0\n",
    "    try:\n",
    "        # Construct paths for journal and paper\n",
    "        journal_path = os.path.join(full_data_folder, data['issn'][i])\n",
    "        paper_path = os.path.join(journal_path, f\"{data['unique_id'][i]}.xml\")\n",
    "        \n",
    "        # get the abstract from the xml\n",
    "        abstract = extract_abstract_from_xml(paper_path)\n",
    "        if abstract:\n",
    "            # if \"data\" in abstract.lower():\n",
    "            if \"data\" in abstract.lower():\n",
    "                label = 1\n",
    "        data_context += (abstract + '\\n')\n",
    "        # Extract and process sections from the paper XML\n",
    "        sections = extract_sections_and_text_from_xml(paper_path)\n",
    "        reorganized_sections = postprocess_sections(sections)\n",
    "\n",
    "        # Traverse the sections and collect data-related text\n",
    "        for section in reorganized_sections:\n",
    "            if 'data' in section['title'].lower() and 'supplementary' not in section['title'].lower():\n",
    "                data_context += (section['text'] + '\\n')\n",
    "                label = 1\n",
    "            for subsection in section.get('subsections', []):\n",
    "                if 'data' in subsection['title'].lower():\n",
    "                    data_context += (subsection['text'] + '\\n')\n",
    "                    label = 1\n",
    "                for subsubsection in subsection.get('subsubsections', []):\n",
    "                    if 'data' in subsubsection['title'].lower():\n",
    "                        data_context += (subsubsection['text'] + '\\n')\n",
    "                        label = 1\n",
    "    except KeyError as e:\n",
    "        print(f\"Missing key in data: {e}\")\n",
    "    except FileNotFoundError as e:\n",
    "        print(f\"File not found: {e}\")\n",
    "    except Exception as e:\n",
    "        print(f\"An error occurred: {e}\")\n",
    "    if data_context:\n",
    "        # Find all URLs in the text\n",
    "        urls = re.findall(url_pattern, data_context)\n",
    "        if urls:\n",
    "            print(f\"Found {len(urls)} URLs in the text\")\n",
    "            full_url_list.extend(urls)\n",
    "            # Save the URLs to a file\n",
    "            with open(os.path.join(result_data_folder, 'data-links', f\"{data['unique_id'][i]}.txt\"), 'w') as f:\n",
    "                for url in urls:\n",
    "                    f.write(url + '\\n')\n",
    "            # check if doi.org is in the url\n",
    "            for url in urls:\n",
    "                # result = is_dataset_link(url)\n",
    "                if (\n",
    "                    'doi.org' in url\n",
    "                    or 'osf.io' in url\n",
    "                    or 'figshare.com' in url\n",
    "                    or 'data.mendeley.com' in url\n",
    "                    or 'zenodo' in url\n",
    "                    or 'dataverse' in url\n",
    "                    or 'github' in url\n",
    "                    or 'dataverse.harvard.edu' in url\n",
    "                    or 'data-in-brief' in url\n",
    "                    or 'datadryad.org' in url\n",
    "                ):\n",
    "                    print(f\"Found DOI URL: {url}\")"
   ]
  },
  {
   "cell_type": "code",
   "execution_count": 19,
   "metadata": {},
   "outputs": [],
   "source": [
    "with open(os.path.join(result_data_folder, 'data-links', f\"{data['unique_id'][i]}.txt\"), 'w') as file:\n",
    "\tfile.write(data_context)"
   ]
  },
  {
   "cell_type": "code",
   "execution_count": null,
   "metadata": {},
   "outputs": [],
   "source": [
    "# save the full url list\n",
    "with open(os.path.join(result_data_folder, 'data-links', 'full-url-list.txt'), 'w') as f:\n",
    "    for url in full_url_list:\n",
    "        f.write(url + '\\n')"
   ]
  },
  {
   "cell_type": "code",
   "execution_count": 64,
   "metadata": {},
   "outputs": [
    {
     "data": {
      "text/plain": [
       "True"
      ]
     },
     "execution_count": 64,
     "metadata": {},
     "output_type": "execute_result"
    }
   ],
   "source": [
    "# transform str to json\n",
    "import json\n",
    "result = json.loads(result)\n",
    "\n",
    "result['is_dataset_link']"
   ]
  },
  {
   "cell_type": "code",
   "execution_count": 17,
   "metadata": {},
   "outputs": [
    {
     "data": {
      "text/plain": [
       "['https://github.com/RRinTransportation/rr-measure-basic/',\n",
       " 'https://example.com/path']"
      ]
     },
     "execution_count": 17,
     "metadata": {},
     "output_type": "execute_result"
    }
   ],
   "source": [
    "import re\n",
    "\n",
    "# Pattern to match URLs\n",
    "url_pattern = r'(https?://[A-Za-z0-9.\\-_/]+)(?=$|\\s|[.,\\)])'\n",
    "text = \"Found DOI URL: https://github.com/RRinTransportation/rr-measure-basic/. The Check https://example.com/path) for more information.\"\n",
    "\n",
    "# Find URLs\n",
    "urls = re.findall(url_pattern, text)\n",
    "\n",
    "# Clean up trailing parentheses and periods\n",
    "clean_urls = [re.sub(r'[)\\.]+$', '', url) for url in urls]\n",
    "clean_urls"
   ]
  },
  {
   "cell_type": "code",
   "execution_count": 54,
   "metadata": {},
   "outputs": [
    {
     "name": "stdout",
     "output_type": "stream",
     "text": [
      "Redirected URL: https://osf.io/de8km/\n",
      "Redirected URL: https://dataverse.harvard.edu/dataset.xhtml?persistentId=doi:10.7910/DVN/VGMDPC\n",
      "Redirected URL: https://data.mendeley.com/datasets/tfkgpmgf9t/1\n",
      "Redirected URL: https://figshare.com/articles/software/Data_and_code_for_FDA_analysis/13171862\n",
      "Redirected URL: https://data.mendeley.com/datasets/5gy6s8trbm/2\n",
      "Redirected URL: https://figshare.com/articles/dataset/Pedestrian_moral_disengagement_scale_for_sustainable_urban_planning/20311812/2\n",
      "Redirected URL: https://figshare.com/articles/software/Snapshot_of_GitHub_Repository_to_accompany_paper_b_Evaluation_of_bicycle_sharing_scheme_data_as_a_proxy_for_cycling_mobility_-_how_COVID-19_measures_influenced_cycling_in_Paris_b_/24231706?file=42570667\n",
      "Redirected URL: https://datadryad.org/stash/dataset/doi:10.25338/B8035D\n",
      "Redirected URL: https://data.4tu.nl/datasets/e4324d0c-2a82-4f03-8cbb-64dd207cd522\n",
      "Redirected URL: https://accounts.osf.io/login?service=https%3A%2F%2Fosf.io%2Fx7aer%2F\n",
      "Redirected URL: https://data.4tu.nl/datasets/a59fcc0f-4603-490a-b0b8-8b2287141e30\n",
      "Redirected URL: https://zenodo.org/records/6915943\n",
      "Redirected URL: https://data.mendeley.com/datasets/f38zrhc2k7/1\n",
      "Redirected URL: https://data.mendeley.com/datasets/f38zrhc2k7/1\n",
      "Redirected URL: https://dataverse.harvard.edu/dataset.xhtml?persistentId=doi:10.7910/DVN/UOAKTM\n",
      "Redirected URL: https://research-data.cardiff.ac.uk/articles/dataset/Data_underpinning_journal_article_on_the_effect_of_public_perception_of_autonomous_vehicle_capability_on_judgment_of_blame_and_trust_in_road_traffic_accidents/27277566?file=49921698\n",
      "Redirected URL: https://data.4tu.nl/datasets/f1272944-9b3d-480f-a37a-b41d972aec7d\n",
      "Redirected URL: https://www.researchgate.net/publication/348296938?channel=doi&linkId=5ff6c14d92851c13fef3b1be&showFulltext=true\n",
      "Redirected URL: https://data.mendeley.com/datasets/jybm8hkp9y/1\n",
      "Redirected URL: https://doi.org//10-2014/15\n",
      "Redirected URL: https://data.4tu.nl/articles/_/12694730/1\n",
      "Redirected URL: https://data.4tu.nl/articles/_/12694730/1\n",
      "Redirected URL: https://data.mendeley.com/datasets/zsmk3dxh7s/1\n",
      "Redirected URL: https://www.repository.cam.ac.uk/items/eac4ed06-28de-40d5-9fa9-d922ee940e3c\n",
      "Redirected URL: https://tudatalib.ulb.tu-darmstadt.de/handle/tudatalib/3398\n",
      "Redirected URL: https://www.fdr.uni-hamburg.de/record/10389\n",
      "Redirected URL: https://www.fdr.uni-hamburg.de/record/11183\n",
      "Redirected URL: https://osf.io/8je5c/\n",
      "Redirected URL: https://scholarship.libraries.rutgers.edu/esploro/outputs/technicalDocumentation/991031549990604646\n",
      "Redirected URL: https://data.4tu.nl/articles/_/14483220\n",
      "Redirected URL: https://data.4tu.nl/articles/_/14096067\n",
      "Redirected URL: https://data.4tu.nl/articles/_/16866709\n",
      "Redirected URL: https://osf.io/6g8vs/\n",
      "Redirected URL: https://data.4tu.nl/articles/_/21952685\n",
      "Redirected URL: https://zenodo.org/records/6915943\n",
      "Redirected URL: https://data.4tu.nl/articles/dataset/Which_Visual_Cues_do_Drivers_Use_to_Anticipate_and_Slow_Down_in_Freeway_Curve_Approach_An_Eye-Tracking_and_Think-Aloud_On-road_Study_-_Dataset/21069820\n",
      "Redirected URL: https://tudatalib.ulb.tu-darmstadt.de/handle/tudatalib/3679\n",
      "Redirected URL: https://osf.io/fn4vw\n",
      "Redirected URL: https://osf.io/4knvp\n",
      "Redirected URL: https://osf.io/j7fys/\n",
      "Redirected URL: https://data.4tu.nl/articles/_/12681650/1\n",
      "Redirected URL: https://zenodo.org/records/1205229\n",
      "Redirected URL: https://zenodo.org/records/3939793\n",
      "Redirected URL: https://zenodo.org/records/1205229\n",
      "Redirected URL: https://www.doi.org/10%E2%80%932019/11\n",
      "Redirected URL: https://zenodo.org/records/6011886\n",
      "Redirected URL: https://zenodo.org/records/1205229\n",
      "Redirected URL: https://zenodo.org/records/7426506\n",
      "Redirected URL: https://zenodo.org/records/3939793\n",
      "Redirected URL: https://data.4tu.nl/datasets/3ad2db22-ea82-4436-8df5-ebbbdb4aeec6\n",
      "Redirected URL: https://data.4tu.nl/articles/_/12708371/1\n",
      "Redirected URL: https://dataverse.harvard.edu/dataset.xhtml?persistentId=doi:10.7910/DVN/HNHJHU\n",
      "Redirected URL: https://beta.sedac.ciesin.columbia.edu/data/set/sdei-global-annual-gwr-pm2-5-modis-misr-seawifs-aod\n",
      "Redirected URL: https://osf.io/t6gjh/\n",
      "Redirected URL: https://zenodo.org/records/6587266\n",
      "Redirected URL: https://data.mendeley.com/datasets/r49tcwnyb6/1\n",
      "Redirected URL: https://data.4tu.nl/datasets/777220e4-9a78-4653-8780-89c2572f6c81\n",
      "Domain Distribution:\n",
      "github.com: 111\n",
      "osf.io: 29\n",
      "www.openstreetmap.org: 20\n",
      "zenodo.org: 17\n",
      "data.4tu.nl: 16\n",
      "lbs.amap.com: 16\n",
      "www.wjx.cn: 14\n",
      "data.cityofchicago.org: 14\n",
      "www1.nyc.gov: 14\n",
      "data.mendeley.com: 13\n",
      "\n",
      "Protocol Analysis:\n",
      "http: 205\n",
      "https: 1046\n",
      "\n",
      "Resource Type Analysis:\n",
      "Website: 1195\n",
      "PDF: 20\n",
      "API: 36\n"
     ]
    }
   ],
   "source": [
    "import re\n",
    "from collections import Counter\n",
    "from urllib.parse import urlparse\n",
    "import requests\n",
    "\n",
    "# Load the URL list from the file\n",
    "file_path = os.path.join(result_data_folder, 'data-links', 'full-url-list.txt')\n",
    "with open(file_path, 'r') as file:\n",
    "    urls = file.readlines()\n",
    "\n",
    "# Remove whitespace characters\n",
    "urls = [url.strip() for url in urls]\n",
    "\n",
    "# Extract domain, protocol, and resource type\n",
    "domains = []\n",
    "protocols = []\n",
    "resource_types = []\n",
    "\n",
    "for url in urls:\n",
    "    url = correct_url(url)\n",
    "    if 'doi.org' in url:\n",
    "        url = fetch_redirected_url_with_selenium(url)\n",
    "        print(f\"Redirected URL: {url}\")\n",
    "    parsed_url = urlparse(url)\n",
    "    domains.append(parsed_url.netloc)\n",
    "    protocols.append(parsed_url.scheme)\n",
    "    \n",
    "    # Identify resource type (e.g., API, PDF, general website)\n",
    "    if parsed_url.path.endswith('.pdf'):\n",
    "        resource_types.append('PDF')\n",
    "    elif 'api' in parsed_url.path or 'api' in parsed_url.netloc:\n",
    "        resource_types.append('API')\n",
    "    else:\n",
    "        resource_types.append('Website')\n",
    "\n",
    "# Count occurrences\n",
    "domain_counts = Counter(domains)\n",
    "protocol_counts = Counter(protocols)\n",
    "resource_type_counts = Counter(resource_types)\n",
    "\n",
    "# Print insights\n",
    "print(\"Domain Distribution:\")\n",
    "for domain, count in domain_counts.most_common(10):\n",
    "    print(f\"{domain}: {count}\")\n",
    "\n",
    "print(\"\\nProtocol Analysis:\")\n",
    "for protocol, count in protocol_counts.items():\n",
    "    print(f\"{protocol}: {count}\")\n",
    "\n",
    "print(\"\\nResource Type Analysis:\")\n",
    "for resource_type, count in resource_type_counts.items():\n",
    "    print(f\"{resource_type}: {count}\")\n"
   ]
  },
  {
   "cell_type": "code",
   "execution_count": 56,
   "metadata": {},
   "outputs": [
    {
     "name": "stdout",
     "output_type": "stream",
     "text": [
      "Domain Distribution:\n",
      "bitre.gov.au: 1\n",
      "www.nco.ncep.noaa.gov: 1\n",
      "cdn.wartsila.com: 1\n",
      "github.com: 111\n",
      "cran.r-project.org: 2\n",
      "www.afrra.org: 1\n",
      "www.who.int: 4\n",
      "www.worldometers.info: 1\n",
      "www.google.com: 9\n",
      "covid19.ncdc.gov.ng: 1\n",
      "osf.io: 29\n",
      "dataverse.harvard.edu: 4\n",
      "netlipse.eu: 1\n",
      "www.wko.at: 1\n",
      "www.aviationreg.ie: 2\n",
      "www.youtube.com: 5\n",
      "factfinder.census.gov: 1\n",
      "www.census.gov: 11\n",
      "pedbikeinfo.org: 3\n",
      "www.covidmobilityworks.org: 1\n",
      "datasketch.github.io: 1\n",
      "www.sfcta.org: 1\n",
      "cycleatlanta.org: 1\n",
      "www.thempo.org: 1\n",
      "maps.nyc.gov: 1\n",
      "covid19-dashboard.ages.at: 1\n",
      "www.norgeshelsa.no: 1\n",
      "www.innocom.gov.cn: 1\n",
      "www.qilib.com: 1\n",
      "www.udparty.com: 1\n",
      "www.stats.gov.cn: 4\n",
      "covid19.apple.com: 1\n",
      "covid19.saglik.gov.tr: 1\n",
      "drive.google.com: 3\n",
      "map.baidu.com: 4\n",
      "dianshi.baidu.com: 1\n",
      "data.worldbank.org: 3\n",
      "asrs.arc.nasa.gov: 1\n",
      "data.covid.umd.edu: 3\n",
      "openaq.org: 1\n",
      "www.icao.int: 4\n",
      "jeodpp.jrc.ec.europa.eu: 1\n",
      "www.mrlc.gov: 1\n",
      "www.kaggle.com: 3\n",
      "www.statistics.gr: 1\n",
      "data.mendeley.com: 13\n",
      "figshare.com: 4\n",
      "www.ncei.noaa.gov: 3\n",
      "c2smart.engineering.nyu.edu: 1\n",
      "cas.nzta.govt.nz: 1\n",
      "opendata-nztaopendata.arcgis.com: 1\n",
      "www.info.populix.co: 1\n",
      "www.mpndata.nl: 1\n",
      "pushshift.io: 1\n",
      "www.caliper.com: 2\n",
      "www.rideneuron.com: 1\n",
      "austintexas.gov: 2\n",
      "opendata.minneapolismn.gov: 1\n",
      "www.wunderground.com: 6\n",
      "datadryad.org: 2\n",
      "api.tehran.ir: 1\n",
      "platform.neshan.org: 1\n",
      "api.neshan.org: 1\n",
      "data.4tu.nl: 16\n",
      "data.gesis.org: 1\n",
      "prevision-meteo.ch: 1\n",
      "zenodo.org: 17\n",
      "www.nsw.gov.au: 1\n",
      "data.ibb.gov.tr: 3\n",
      "www.openstreetmap.org: 20\n",
      "www.usgs.gov: 1\n",
      "ghsl.jrc.ec.europa.eu: 1\n",
      "accounts.osf.io: 1\n",
      "www.sciencedirect.com: 1\n",
      "repo.bayesfusion.com: 1\n",
      "www.scimagojr.com: 1\n",
      "www.dot.ca.gov: 1\n",
      "maps.google.com: 2\n",
      "www.apmterminals.com: 1\n",
      "en.wikipedia.org: 4\n",
      "www.ship-technology.com: 1\n",
      "www.niceridemn.org: 1\n",
      "nhts.ornl.gov: 5\n",
      "www.idae.es: 1\n",
      "www.verkehrsauskunft.at: 1\n",
      "www.oeamtc.at: 1\n",
      "www.hugin.com: 1\n",
      "www.rics.org: 1\n",
      "www.ipaglobal.com: 1\n",
      "www.edinburghtraminquiry.org: 1\n",
      "data.qld.gov.au: 3\n",
      "transit.toronto.on.ca: 1\n",
      "uberestimate.com: 1\n",
      "www.dmtispatial.com: 1\n",
      "data.stats.gov.cn: 4\n",
      "ipip.ori.org: 1\n",
      "www.balticexchange.com: 1\n",
      "newsinfo.inquirer.net: 1\n",
      "www.denr.gov.ph: 1\n",
      "www.philstar.com: 1\n",
      "mindanao.politics.com.ph: 1\n",
      "www.landbank.com: 1\n",
      "news.mb.com.ph: 1\n",
      "gtfs.org: 1\n",
      "www.12306.cn: 7\n",
      "www.oica.net: 1\n",
      "www.forbes.com: 1\n",
      "www.qiche365.org.cn: 1\n",
      "www.transtats.bts.gov: 6\n",
      "www.lta.gov.sg: 2\n",
      "api.data.gov.sg: 1\n",
      "www.capitalbikeshare.com: 3\n",
      "opendata.dc.gov: 2\n",
      "www.gaotie.cn: 2\n",
      "www.mot.gov.cn: 1\n",
      "www.ubdc.ac.uk: 1\n",
      "www.piaojia.cn: 1\n",
      "www.hofstede-insights.com: 1\n",
      "www.city.nagoya.jp: 1\n",
      "www.cbr.mlit.go.jp: 1\n",
      "www.scb.se: 1\n",
      "map.bjsubway.com: 1\n",
      "www.agenciatributaria.es: 1\n",
      "www.aiscat.it: 1\n",
      "www.aci.it: 1\n",
      "dati.istat.it: 1\n",
      "ec.europa.eu: 3\n",
      "dgsaie.mise.gov.it: 1\n",
      "www.rfi.it: 1\n",
      "italospa.italotreno.it: 1\n",
      "www.automap.it: 1\n",
      "www.swg.it: 1\n",
      "www.dwdl.de: 1\n",
      "www.ssb.no: 7\n",
      "www.bufdir.no: 1\n",
      "youtu.be: 1\n",
      "www.wjx.cn: 14\n",
      "www.bjstats.gov.cn: 1\n",
      "baike.baidu.com: 1\n",
      "data.cdrc.ac.uk: 1\n",
      "www.citibikenyc.com: 7\n",
      "sustainabletransport.ca: 1\n",
      "www.enerdata.net: 2\n",
      "data.cma.cn: 2\n",
      "www.tianqihoubao.com: 2\n",
      "data.cityofchicago.org: 14\n",
      "lbs.amap.com: 16\n",
      "nycopendata.socrata.com: 2\n",
      "www.ncdc.noaa.gov: 2\n",
      "www.eea.europa.eu: 2\n",
      "dati.mit.gov.it: 1\n",
      "eur-lex.europa.eu: 1\n",
      "austin.bcycle.com: 1\n",
      "www.red.cl: 1\n",
      "www.sectra.gob.cl: 1\n",
      "lehd.ces.census.gov: 1\n",
      "www.d8aspring.com: 1\n",
      "www.lyft.com: 2\n",
      "www.bluebikes.com: 2\n",
      "www.niceridemn.com: 1\n",
      "sedac.ciesin.columbia.edu: 1\n",
      "www.encyclopedia.chicagohistory.org: 1\n",
      "dev.cityofchicago.org: 2\n",
      "www.divvybikes.com: 3\n",
      "www.epa.gov: 4\n",
      "data.census.gov: 1\n",
      "www.hse.ru: 1\n",
      "wsdj.samr.gov.cn: 2\n",
      "data.variflight.com: 1\n",
      "wsjkw.gd.gov.cn: 1\n",
      "wsjkw.sc.gov.cn: 2\n",
      "data.europa.eu: 1\n",
      "www.transitchicago.com: 2\n",
      "www.transportation.gov: 2\n",
      "www.bls.gov: 2\n",
      "www.ndrc.gov.cn: 2\n",
      "47.106.194.174: 1\n",
      "www.caam.org.cn: 1\n",
      "data.ny.gov: 3\n",
      "opendata.cityofnewyork.us: 4\n",
      "support.blablacar.com: 1\n",
      "jiaotong.baidu.com: 3\n",
      "www.worldshipping.org: 1\n",
      "www.resdc.cn: 3\n",
      "www.landchina.com: 4\n",
      "developers.google.com: 6\n",
      "www.racfoundation.org: 1\n",
      "www.gov.uk: 1\n",
      "beta.ukdataservice.ac.uk: 1\n",
      "www.ritis.org: 1\n",
      "www.ceicdata.com: 2\n",
      "www.eastmoney.com: 1\n",
      "www.weather.com.cn: 1\n",
      "ssrn.com: 1\n",
      "www.meteoswiss.admin.ch: 1\n",
      "www.cnrds.com: 2\n",
      "search.earthdata.nasa.gov: 1\n",
      "www.gtarsc.com: 1\n",
      "www.omio.com: 1\n",
      "data.oecd.org: 2\n",
      "www.adr.it: 1\n",
      "www.ceair.com: 1\n",
      "www.useit.com.cn: 1\n",
      "www.chyxx.com: 2\n",
      "www.csrc.gov.cn: 2\n",
      "www.shclearing.com: 1\n",
      "www.sohu.com: 2\n",
      "open-traffic.epfl.ch: 5\n",
      "www.qualtrics.com: 3\n",
      "www.dynata.com: 4\n",
      "www.nb.admin.ch: 1\n",
      "www.bfs.admin.ch: 3\n",
      "staedteverband.ch: 1\n",
      "kyfw.12306.cn: 1\n",
      "utd19.ethz.ch: 1\n",
      "sfpark.org: 1\n",
      "www.cnemc.cn: 2\n",
      "eogdata.mines.edu: 1\n",
      "www.camet.org.cn: 1\n",
      "www.amap.com: 6\n",
      "aspm.faa.gov: 1\n",
      "www.faa.gov: 1\n",
      "www.gov.cn: 4\n",
      "www.uber.com: 2\n",
      "www.moe.gov.cn: 1\n",
      "baijiahao.baidu.com: 3\n",
      "www.insee.fr: 1\n",
      "www1.nyc.gov: 14\n",
      "planet.openstreetmap.org: 1\n",
      "planet.osm.org: 1\n",
      "www.sabre.com: 1\n",
      "research-data.cardiff.ac.uk: 1\n",
      "cdn.ihs.com: 1\n",
      "radwege-check.de: 1\n",
      "www.mee.gov.cn: 1\n",
      "modis.gsfc.nasa.gov: 1\n",
      "data.tpdc.ac.cn: 3\n",
      "disc.gsfc.nasa.gov: 1\n",
      "www.cbs.nl: 2\n",
      "www.variflight.com: 1\n",
      "www.sojump.com: 4\n",
      "simplemaps.com: 1\n",
      "www.oag.com: 1\n",
      "ourairports.com: 2\n",
      "www.opentripplanner.org: 1\n",
      "www.shanghai.gov.cn: 1\n",
      "www.asianlii.org: 1\n",
      "106.37.208.233:20035: 1\n",
      "www.bjepb.gov.cn: 1\n",
      "www.tianqi24.com: 1\n",
      "www.bsg.ox.ac.uk: 1\n",
      "www.postnord.no: 2\n",
      "www.kartverket.nol: 2\n",
      "www.statistikbanken.dk: 1\n",
      "www.drivkraftdanmark.dk: 1\n",
      "datos.madrid.es: 1\n",
      "www.aemet.es: 1\n",
      "sedeaplicaciones.minetur.gob.es: 1\n",
      "opendata.esri.es: 1\n",
      "www.thetransportpolitic.com: 2\n",
      "hub.worldpop.org: 1\n",
      "es.inflation.eu: 1\n",
      "covid.cdc.gov: 1\n",
      "www.motc.gov.tw: 1\n",
      "ecoscore.be: 1\n",
      "www.edmunds.com: 1\n",
      "www.investing.com: 1\n",
      "www.macrotrends.net: 1\n",
      "www.ofx.com: 1\n",
      "www150.statcan.gc.ca: 1\n",
      "www.oecd.org: 1\n",
      "population.un.org: 1\n",
      "driver.chargepoint.com: 1\n",
      "en.sse.net.cn: 1\n",
      "agtransport.usda.gov: 1\n",
      "international.kk.dk: 1\n",
      "openweathermap.org: 1\n",
      "www.catarc.info: 1\n",
      "quotsoft.net: 1\n",
      "air.cnemc.cn:18007: 1\n",
      "www.aqistudy.cn: 2\n",
      "ped.fz-juelich.de: 3\n",
      "www.csi.ac.cn: 2\n",
      "pems.dot.ca.gov: 8\n",
      "www.tokyo-mou.org: 3\n",
      "implan.com: 1\n",
      "www.corelogic.com: 1\n",
      "www.webofknowledge.com: 2\n",
      "cometandnova.org: 1\n",
      "data.transportation.gov: 2\n",
      "www.cdstats.chengdu.gov.cn: 1\n",
      "sichuan.scol.com.cn: 1\n",
      "scnews.newssc.org: 1\n",
      "sin.clarksons.net: 5\n",
      "flow.dai-labor.de: 1\n",
      "CRAN.R-project.org: 2\n",
      "www.nhc.noaa.gov: 1\n",
      "researchdatafinder.qut.edu.au: 1\n",
      "gitfront.io: 1\n",
      "www.caa.co.uk: 1\n",
      "gtlville.inrialpes.fr: 1\n",
      "biendata.com: 1\n",
      "biogeme.epfl.ch: 1\n",
      "www.researchgate.net: 3\n",
      "people.brunel.ac.uk: 2\n",
      "company.sbb.ch: 1\n",
      "figure.nz: 1\n",
      "apcis.tmou.org: 1\n",
      "world-ships.com: 1\n",
      "www.bjsubway.com: 1\n",
      "www2.informatik.uni-freiburg.de: 1\n",
      "www.bookcrossing.com: 1\n",
      "wiki.openstreetmap.org: 1\n",
      "www.oocl.com: 1\n",
      "www.marketindex.com.au: 1\n",
      "www.norsys.com: 1\n",
      "www.openflights.org: 1\n",
      "www.iata.org: 1\n",
      "eng.stat.gov.tw: 1\n",
      "www.sintef.no: 1\n",
      "doi.org: 1\n",
      "www.tinysoft.com.cn: 1\n",
      "www.msci.com: 1\n",
      "www.investorideas.com: 1\n",
      "flightaware.com: 2\n",
      "www.economist.com: 1\n",
      "www.remss.com: 1\n",
      "www.singstat.gov.sg: 1\n",
      "lyle.smu.edu: 1\n",
      "lloydslist.maritimeintelligence.informa.com: 1\n",
      "www.netpas.net: 2\n",
      "analytics.oag.com: 3\n",
      "psc.apl.uw.edu: 1\n",
      "esgf-node.llnl.gov: 1\n",
      "nsidc.org: 1\n",
      "stratus.ssec.wisc.edu: 1\n",
      "tomvanwoensel.com: 1\n",
      "www.wakegov.com: 1\n",
      "www.nia.gov.cn: 1\n",
      "di.uniovi.es: 1\n",
      "sea-distances.org: 1\n",
      "www.gghypt.net: 6\n",
      "www.bloomberg.com: 1\n",
      "www.lyoncapitale.fr: 1\n",
      "be-mobile.com: 2\n",
      "gaia.didichuxing.com: 7\n",
      "www.mathorcup.org: 1\n",
      "www.chinawuliu.com.cn: 1\n",
      "www.grainger.com: 1\n",
      "vrp-d-mc-47.webselfsite.net: 1\n",
      "www.repository.cam.ac.uk: 1\n",
      "tudatalib.ulb.tu-darmstadt.de: 2\n",
      "balticexchange.com: 1\n",
      "www.cnss.com.cn: 1\n",
      "www2.informatik.uos.de: 1\n",
      "opensky-network.org: 1\n",
      "ext.eurocontrol.int: 1\n",
      "www.sy72.com: 1\n",
      "wjw.wuhan.gov.cn: 1\n",
      "fa68.com: 1\n",
      "datasets.vicomtech.org: 2\n",
      "www.ipe.org.cn: 1\n",
      "www.challengertrans.com: 1\n",
      "cx.cnca.cn: 1\n",
      "gaode.com: 1\n",
      "www.nyc.gov: 3\n",
      "landscan.ornl.gov: 1\n",
      "osmnx.readthedocs.io: 1\n",
      "ogeiee.produce.gob.pe: 1\n",
      "www.klnews.co.kr: 1\n",
      "www.freightera.com: 1\n",
      "convoy.com: 1\n",
      "www.95306.cn: 3\n",
      "ride.citibikenyc.com: 2\n",
      "data.cityofnewyork.us: 2\n",
      "njogis-newjersey.opendata.arcgis.com: 1\n",
      "www.latlong.net: 1\n",
      "www.fdr.uni-hamburg.de: 2\n",
      "weather.sz.gov.cn: 1\n",
      "ieconferences.cikd.ca: 1\n",
      "www.uzh.ch: 1\n",
      "www.data.gov.uk: 1\n",
      "api.vegdata.no: 1\n",
      "vrp.atd-lab.inf.puc-rio.br: 1\n",
      "www.clarksons.net: 1\n",
      "shipandbunker.com: 1\n",
      "www.alphaliner.com: 1\n",
      "www.xibulhxtd.cn: 1\n",
      "lines.coscoshipping.com: 1\n",
      "www.maersk.com: 1\n",
      "www.msccargo.cn: 1\n",
      "ch.one-line.com: 1\n",
      "www.chineseport.cn: 1\n",
      "www.sofreight.com: 1\n",
      "www.searates.com: 1\n",
      "www.vesselsvalue.com: 1\n",
      "www.shipandbunker.com: 1\n",
      "lbsyun.baidu.com: 4\n",
      "www.zakkaugihrizqi.com: 1\n",
      "www.r-project.org: 2\n",
      "processing.org: 1\n",
      "ibm.com: 2\n",
      "www.anaconda.com: 1\n",
      "insight.SHRP2nds.us: 1\n",
      "scholarship.libraries.rutgers.edu: 1\n",
      "www.biendata.com: 1\n",
      "ditu.amap.com: 2\n",
      "www.kinovea.org: 1\n",
      "solomon.andraspeter.com: 1\n",
      "aaafoundation.org: 1\n",
      "www.its.dot.gov: 4\n",
      "cedrus.com: 1\n",
      "labstreaminglayer.readthedocs.io: 1\n",
      "toc-rating.de: 1\n",
      "www.typeform.com: 1\n",
      "vancouver.ca: 1\n",
      "www.ibm.com: 3\n",
      "covidfuture.org: 1\n",
      "www.fil.ion.ucl.ac.uk: 1\n",
      "www.python.org: 1\n",
      "bit.ly: 1\n",
      "data.townofcary.org: 1\n",
      "www.igroup.org: 1\n",
      "bbbserver.eu: 2\n",
      "www.techsmith.com: 4\n",
      "www.maxqda.com: 2\n",
      "www.credamo.com: 1\n",
      "portal.bt-hypercat.com: 6\n",
      "www.w3.org: 4\n",
      "api.bt-hypercat.com: 4\n",
      "transport.data.gov.uk: 1\n",
      "gov.tso.co.uk: 1\n",
      "www.here.com: 2\n",
      "inrix.com: 4\n",
      "www.fcpiao.com: 1\n",
      "tyj.sh.gov.cn: 1\n",
      "www.021f1.com: 1\n",
      "maps.googleapis.com: 1\n",
      "developer.Uber.com: 1\n",
      "www.eventbrite.com: 1\n",
      "api.eventful.com: 1\n",
      "docs.lotadata.com: 1\n",
      "platform.seatgeek.com: 1\n",
      "www.penndot.gov: 2\n",
      "catalog.data.gov: 1\n",
      "www.citymovil.cl: 1\n",
      "www.campotexas.org: 1\n",
      "outreach.didichuxing.com: 3\n",
      "motion-tag.com: 1\n",
      "data.gov.uk: 2\n",
      "movement.uber.com: 2\n",
      "www.gpskit.cn: 1\n",
      "web.mta.info: 1\n",
      "ai.baidu.com: 1\n",
      "webtris.highwaysengland.co.uk: 1\n",
      "developer.twitter.com: 2\n",
      "www.opal.com.au: 1\n",
      "transportnsw.info: 1\n",
      "global.chinadaily.com.cn: 1\n",
      "www.aviationweather.gov: 1\n",
      "www.share-now.com: 1\n",
      "www.car2go.com: 1\n",
      "cloud.google.com: 2\n",
      "www.trafficengland.com: 1\n",
      "www.ita.es: 1\n",
      "data.gov.sg: 1\n",
      "land.copernicus.eu: 1\n",
      "outreach: 1\n",
      "gdpr.eu: 1\n",
      "www.florida-demographics.com: 1\n",
      "datahub.cmap.illinois.gov: 1\n",
      "www.njgongjiao.com: 1\n",
      "www.psrc.org: 1\n",
      "sites.google.com: 1\n",
      "topis.seoul.go.kr: 1\n",
      "waymo.com: 3\n",
      "www.doi.org: 1\n",
      "trafficintelligence.confins.net: 1\n",
      "recherche.enac.fr: 1\n",
      "www.abs.gov.au: 1\n",
      "medium.com: 1\n",
      "towardsdatascience.com: 1\n",
      "www.nltk.org: 1\n",
      "www.txdot.gov: 1\n",
      "mesonet.agron.iastate.edu: 1\n",
      "cris.dot.state.tx.us: 2\n",
      "www.metrovancouver.org: 1\n",
      "www.timeanddate.com: 1\n",
      "new.mta.info: 2\n",
      "toddwschneider.com: 1\n",
      "www.highd-dataset.com: 1\n",
      "s-attack.github.io: 1\n",
      "www.iteris.com: 1\n",
      "www.microsoft.com: 2\n",
      "js.dclab.run: 1\n",
      "www.gbis.go.kr: 1\n",
      "www.eumetnet.eu: 1\n",
      "portal.its.pdx.edu: 2\n",
      "zalazone.hu: 1\n",
      "www.fdot.gov: 2\n",
      "osm2gmns.readthedocs.io: 1\n",
      "asu-trans-ai-lab.github.io: 1\n",
      "www.weather.gov: 1\n",
      "data.noaa.gov: 1\n",
      "i24motion.org: 2\n",
      "www.alexandrenicolas.net: 1\n",
      "prolific.co: 1\n",
      "cogsys.imm.dtu.dk: 1\n",
      "help.lyft.com: 1\n",
      "foursquare.com: 1\n",
      "developers.facebook.com: 1\n",
      "gwu.box.com: 1\n",
      "arb.ca.gov: 1\n",
      "www.iarai.ac.at: 1\n",
      "opendata.bordeaux-metropole.fr: 2\n",
      "www.dropbox.com: 1\n",
      "tianchi.aliyun.com: 2\n",
      "people.eecs.berkeley.edu: 1\n",
      "www.calmac.org: 1\n",
      "www.piie.com: 1\n",
      "www.imf.org: 1\n",
      "ourworldindata.org: 1\n",
      "www.gisaid.org: 1\n",
      "mobilitaetspanel.ifv.kit.edu: 1\n",
      "zen-traffic-data.net: 1\n",
      "www.cmap.illinois.gov: 1\n",
      "www.argoverse.org: 1\n",
      "www.spglobal.com: 1\n",
      "emissionsanalytics.com: 1\n",
      "www.its-rde.net: 2\n",
      "www.aimsun.com: 1\n",
      "www.beijingcitylab.org: 1\n",
      "www.worldpop.org.uk: 1\n",
      "www3.epa.gov: 2\n",
      "www.walkscore.com: 2\n",
      "nabobil.no: 1\n",
      "www.poverty.ac.uk: 1\n",
      "www.stat.go.jp: 3\n",
      "gisdata.mn.gov: 1\n",
      "stats.oecd.org: 3\n",
      "web.mit.edu: 1\n",
      "www.google.co.in: 1\n",
      "52.172.182.107: 1\n",
      "censusindia.gov.in: 1\n",
      "www.delhimetrorail.com: 1\n",
      "delhi.gov.in: 1\n",
      "lisboaaberta.cm-lisboa.pt: 1\n",
      "www.precoscombustiveis.dgeg.pt: 1\n",
      "www12.statcan.gc.ca: 1\n",
      "www.stats-sh.gov.cn: 1\n",
      "inventory.pku.edu.cn: 1\n",
      "www.sdpc.gov.cn: 1\n",
      "www.lianjia.com: 1\n",
      "mobility.tamu.edu: 1\n",
      "transitfeeds.com: 1\n",
      "www.qgis.org: 1\n",
      "www.andata.at: 1\n",
      "www.bmiresearch.com: 1\n",
      "www.data-axle.com: 1\n",
      "www.pland.gov.hk: 1\n",
      "x-engineer.org: 1\n",
      "www.shipdt.com: 1\n",
      "www.shipxy.com: 2\n",
      "huochepiao.com: 1\n",
      "api.map.baidu.com: 4\n",
      "cd.lianjia.com: 3\n",
      "scrapy.org: 1\n",
      "www.nrel.gov: 1\n",
      "viriciti.com: 1\n",
      "darksky.net: 1\n",
      "css.sysu.edu.cn: 3\n",
      "www.columbia.edu: 1\n",
      "dataserver.nccs.nasa.gov: 1\n",
      "data.world: 1\n",
      "www.nra.gov.cn: 1\n",
      "dev-aqli-epic.pantheonsite.io: 1\n",
      "mobike.com: 1\n",
      "www.easa.europa.eu: 1\n",
      "openflights.org: 1\n",
      "docs.google.com: 1\n",
      "beta.sedac.ciesin.columbia.edu: 1\n",
      "www.microm.de: 1\n",
      "city.eastday.com: 2\n",
      "aci.aero: 1\n",
      "dogc.gencat.cat: 1\n",
      "www.lavanguardia.co: 1\n",
      "tianqi.2345.com: 1\n",
      "www.gisdeveloper.co.kr: 1\n",
      "egis.me.go.kr: 2\n",
      "kosis.kr: 1\n",
      "www.ngii.go.kr: 1\n",
      "www.nsdi.go.kr: 2\n",
      "www.thesignalgroup.com: 1\n",
      "opendata.sz.gov.cn: 2\n",
      "developer.baidu.com: 1\n",
      "transitapp.com: 1\n",
      "open.hamilton.ca: 1\n",
      "www.ordnancesurvey.co.uk: 3\n",
      "catalogue.data.govt.nz: 1\n",
      "charge.net.nz: 1\n",
      "www.cpc.unc.edu: 1\n",
      "www.oilmonster.com: 1\n",
      "www.worldscale.co.uk: 1\n",
      "jscv.njau.edu.cn: 1\n",
      "www.hifleet.com: 1\n",
      "geohash.org: 1\n",
      "www.autohome.com.cn: 1\n",
      "auto.sina.com.cn: 1\n",
      "www.bitauto.com: 1\n",
      "www.ons.gov.uk: 1\n",
      "www.haicj.com: 1\n",
      "www.fhwa.dot.gov: 1\n",
      "ippsr.msu.edu: 1\n",
      "sghexport.shobserver.com: 1\n",
      "www.worldpop.org: 4\n",
      "dt.8684.cn: 1\n",
      "data.worldbank.org.cn: 1\n",
      "energetics.com: 1\n",
      "www.fang.com: 2\n",
      "admin.taiwan.net.tw: 1\n",
      "www.breathelondon.org: 1\n",
      "move.tomtom.com: 1\n",
      "www.hsisinfo.org: 1\n",
      "gitlab.com: 1\n",
      "nangs.org: 1\n",
      "www.profavtodor.ru: 1\n",
      "meicmodel.org: 1\n",
      "greet.es.anl.gov: 1\n",
      "link.sthj.sh.gov.cn: 1\n",
      "www.mamh.gouv.qc.ca: 1\n",
      "dlysj.sh.gov.cn: 1\n",
      "sh.lianjia.com: 1\n",
      "www.fema.gov: 1\n",
      "xzqh.mca.gov.cn: 1\n",
      "traffic-open-data.cn: 1\n",
      "www.kopla.or.kr: 1\n",
      "datamall.lta.gov.sg: 1\n",
      "cbndata.com: 1\n",
      "dexter.ndwcloud.nu: 1\n",
      "www.knmi.nl: 1\n",
      "tjj.gz.gov.cn: 1\n",
      "www.wejo.com: 1\n",
      "efdb.apps.eea.europa.eu: 1\n",
      "www.tianditu.gov.cn: 1\n",
      "trp.autonavi.com: 1\n",
      "norstatgroup.com: 1\n",
      "www.sgmaritime.com: 1\n",
      "data.gov.hk: 1\n",
      "www.asam.net: 1\n",
      "m.lianjia.com: 1\n",
      "news.cjn.cn: 1\n",
      "xihe-energy.com: 1\n",
      "zhiyun.souche.com: 1\n",
      "www.pkulaw.com: 1\n",
      "postal-codes.cybo.com: 1\n",
      "english.nanjing.gov.cn: 1\n",
      "isocarp.org: 1\n",
      "www.thenanjinger.com: 1\n",
      "siteselection.com: 1\n",
      "theicct.org: 1\n",
      "senecaesg.com: 1\n",
      "www.gem.wiki: 1\n",
      "evchargingsummit.com: 1\n",
      "blinkcharging.com: 1\n",
      "www.route-fifty.com: 1\n",
      "energy5.com: 1\n",
      "calstart.org: 1\n",
      "www.cnbc.com: 1\n",
      "www.realtor.com: 1\n",
      "www.credamo.world: 1\n",
      "www.webmap.cn: 1\n",
      "www.gscloud.cn: 1\n",
      "www.ctrip.com: 1\n",
      "public.alphaliner.com: 1\n",
      "cds.climate.copernicus.eu: 1\n",
      "mds.nmdis.org.cn: 1\n",
      "www.marinetraffic.com: 1\n",
      "www.geodata.cn: 1\n",
      "www.gie.eu: 1\n",
      "metro.strava.com: 1\n",
      "open.geovisearth.com: 1\n",
      "nlftp.mlit.go.jp: 1\n",
      "insight.rakuten.com: 1\n",
      "m.weibo.cn: 1\n",
      "www.cso.ie: 1\n",
      "www.skatteetaten.no: 1\n",
      "e24.no: 1\n",
      "www.skatt.no: 1\n",
      "www.visualcrossing.com: 1\n",
      "www.afdc.energy.gov: 1\n",
      "www.sdir.no: 1\n",
      "www.unem.it: 2\n",
      "\n",
      "Protocol Analysis:\n",
      "http: 205\n",
      "https: 1046\n",
      "\n",
      "Resource Type Analysis:\n",
      "Website: 1195\n",
      "PDF: 20\n",
      "API: 36\n"
     ]
    }
   ],
   "source": [
    "# Print insights\n",
    "print(\"Domain Distribution:\")\n",
    "for domain, count in domain_counts.items():\n",
    "    print(f\"{domain}: {count}\")\n",
    "\n",
    "print(\"\\nProtocol Analysis:\")\n",
    "for protocol, count in protocol_counts.items():\n",
    "    print(f\"{protocol}: {count}\")\n",
    "\n",
    "print(\"\\nResource Type Analysis:\")\n",
    "for resource_type, count in resource_type_counts.items():\n",
    "    print(f\"{resource_type}: {count}\")"
   ]
  },
  {
   "cell_type": "code",
   "execution_count": 31,
   "metadata": {},
   "outputs": [
    {
     "data": {
      "text/plain": [
       "'https://data.4tu.nl/articles/_/12681650/1'"
      ]
     },
     "execution_count": 31,
     "metadata": {},
     "output_type": "execute_result"
    }
   ],
   "source": [
    "response.url"
   ]
  },
  {
   "cell_type": "code",
   "execution_count": 55,
   "metadata": {},
   "outputs": [
    {
     "name": "stdout",
     "output_type": "stream",
     "text": [
      "Domain Distribution:\n",
      "github.com: 111\n",
      "osf.io: 29\n",
      "www.openstreetmap.org: 20\n",
      "zenodo.org: 17\n",
      "data.4tu.nl: 16\n",
      "lbs.amap.com: 16\n",
      "www.wjx.cn: 14\n",
      "data.cityofchicago.org: 14\n",
      "www1.nyc.gov: 14\n",
      "data.mendeley.com: 13\n",
      "www.census.gov: 11\n",
      "www.google.com: 9\n",
      "pems.dot.ca.gov: 8\n",
      "www.12306.cn: 7\n",
      "www.ssb.no: 7\n",
      "www.citibikenyc.com: 7\n",
      "gaia.didichuxing.com: 7\n",
      "www.wunderground.com: 6\n",
      "www.transtats.bts.gov: 6\n",
      "developers.google.com: 6\n"
     ]
    }
   ],
   "source": [
    "print(\"Domain Distribution:\")\n",
    "for domain, count in domain_counts.most_common(20):\n",
    "    print(f\"{domain}: {count}\")"
   ]
  },
  {
   "cell_type": "code",
   "execution_count": 52,
   "metadata": {},
   "outputs": [
    {
     "name": "stdout",
     "output_type": "stream",
     "text": [
      "Redirected URL: https://osf.io/de8km/\n"
     ]
    }
   ],
   "source": [
    "from selenium import webdriver\n",
    "from selenium.webdriver.chrome.service import Service\n",
    "from selenium.webdriver.common.by import By\n",
    "from selenium.webdriver.chrome.options import Options\n",
    "import time\n",
    "\n",
    "def fetch_redirected_url_with_selenium(doi_url):\n",
    "    try:\n",
    "        # Set up Selenium WebDriver with headless mode\n",
    "        options = Options()\n",
    "        options.add_argument('--headless')\n",
    "        options.add_argument('--disable-gpu')\n",
    "        options.add_argument('--no-sandbox')\n",
    "\n",
    "        service = Service()  # Ensure ChromeDriver is correctly installed or provide the path\n",
    "        driver = webdriver.Chrome(service=service, options=options)\n",
    "\n",
    "        driver.get(doi_url)\n",
    "        time.sleep(5)  # Allow time for redirection if needed\n",
    "\n",
    "        redirected_url = driver.current_url\n",
    "        driver.quit()\n",
    "        return redirected_url\n",
    "    except Exception as e:\n",
    "        return f\"Error: {str(e)}\"\n",
    "\n",
    "# Example usage\n",
    "doi_url = \"https://doi.org/10.17605/OSF.IO/DE8KM.\"\n",
    "\n",
    "doi_url = correct_url(doi_url)\n",
    "redirected_url = fetch_redirected_url_with_selenium(doi_url)\n",
    "print(\"Redirected URL:\", redirected_url)"
   ]
  },
  {
   "cell_type": "code",
   "execution_count": 49,
   "metadata": {},
   "outputs": [
    {
     "data": {
      "text/plain": [
       "'https://doi.org/10.17632/tfkgpmgf9t.1'"
      ]
     },
     "execution_count": 49,
     "metadata": {},
     "output_type": "execute_result"
    }
   ],
   "source": [
    "import string\n",
    "\n",
    "def correct_url(url):\n",
    "    return url.rstrip(string.punctuation)\n",
    "corrected_url = correct_url(url)\n",
    "corrected_url"
   ]
  },
  {
   "cell_type": "code",
   "execution_count": null,
   "metadata": {},
   "outputs": [],
   "source": []
  }
 ],
 "metadata": {
  "kernelspec": {
   "display_name": "RR-measure",
   "language": "python",
   "name": "python3"
  },
  "language_info": {
   "codemirror_mode": {
    "name": "ipython",
    "version": 3
   },
   "file_extension": ".py",
   "mimetype": "text/x-python",
   "name": "python",
   "nbconvert_exporter": "python",
   "pygments_lexer": "ipython3",
   "version": "3.10.15"
  }
 },
 "nbformat": 4,
 "nbformat_minor": 2
}

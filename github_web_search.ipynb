{
 "cells": [
  {
   "cell_type": "code",
   "execution_count": 10,
   "metadata": {},
   "outputs": [],
   "source": [
    "import requests\n",
    "import os\n",
    "from urllib.parse import urlparse\n",
    "\n",
    "params = {\n",
    "    'q': \"\",\n",
    "    'cx': \"d59d166aa06584204\",\n",
    "    'key': os.environ[\"API_SEARCH_KEY\"]\n",
    "}"
   ]
  },
  {
   "cell_type": "code",
   "execution_count": 11,
   "metadata": {},
   "outputs": [],
   "source": [
    "def is_github_repo(url):\n",
    "    \"\"\"Check if a given URL is a GitHub repository.\"\"\"\n",
    "    parsed = urlparse(url)\n",
    "    \n",
    "    path_parts = parsed.path.strip('/').split('/')\n",
    "    \n",
    "    # <username>/<repository_name>\n",
    "    if len(path_parts) == 2:\n",
    "        return True\n",
    "    return False\n",
    "\n",
    "def get_github_repo_link(paper_title, first_author):\n",
    "    # Form the search query\n",
    "    query = f\"{paper_title}, {first_author}\"\n",
    "\n",
    "    params[\"q\"] = query\n",
    "    \n",
    "    # Google Custom Search API endpoint\n",
    "    url = \"https://www.googleapis.com/customsearch/v1\"\n",
    "    \n",
    "    try:\n",
    "        # Send the request\n",
    "        response = requests.get(url, params=params)\n",
    "        response.raise_for_status()\n",
    "        results = response.json()\n",
    "        \n",
    "        # Extract items from the response\n",
    "        for item in results.get('items', []):\n",
    "            link = item.get('link', '')\n",
    "            # Check if the link points to a GitHub repository\n",
    "            if is_github_repo(link) and not link.endswith(('.md', '/issues', '/pulls')):\n",
    "                return link\n",
    "        return \"No GitHub repository found.\"\n",
    "    \n",
    "    except requests.exceptions.RequestException as e:\n",
    "        return f\"An error occurred: {e}\""
   ]
  },
  {
   "cell_type": "code",
   "execution_count": 12,
   "metadata": {},
   "outputs": [
    {
     "data": {
      "text/plain": [
       "'No GitHub repository found.'"
      ]
     },
     "execution_count": 12,
     "metadata": {},
     "output_type": "execute_result"
    }
   ],
   "source": [
    "get_github_repo_link(\"Deep Quantum Error Correction\", \"Yoni Choukroun\")"
   ]
  },
  {
   "cell_type": "code",
   "execution_count": null,
   "metadata": {},
   "outputs": [],
   "source": []
  }
 ],
 "metadata": {
  "kernelspec": {
   "display_name": "RR-measure",
   "language": "python",
   "name": "python3"
  },
  "language_info": {
   "codemirror_mode": {
    "name": "ipython",
    "version": 3
   },
   "file_extension": ".py",
   "mimetype": "text/x-python",
   "name": "python",
   "nbconvert_exporter": "python",
   "pygments_lexer": "ipython3",
   "version": "3.10.15"
  }
 },
 "nbformat": 4,
 "nbformat_minor": 2
}

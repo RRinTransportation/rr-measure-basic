{
 "cells": [
  {
   "cell_type": "code",
   "execution_count": 1,
   "metadata": {},
   "outputs": [],
   "source": [
    "import requests\n",
    "import yaml\n",
    "import pandas as pd\n",
    "with open('../config.yaml', 'r') as file:\n",
    "    config = yaml.safe_load(file)\n",
    "\n",
    "# Access the API key\n",
    "api_key = config['elsevier_api']['api_key']"
   ]
  },
  {
   "cell_type": "code",
   "execution_count": 2,
   "metadata": {},
   "outputs": [],
   "source": [
    "def get_all_doi_journal(journal_issn, end_volume=200):\n",
    "    title_doi_list = []\n",
    "    # Specify the volume you want to query\n",
    "    for volume_number in range(0,end_volume):\n",
    "        # API Endpoi\n",
    "        # nt for searching articles in Scopus based on volume and ISSN\n",
    "        url = \"https://api.elsevier.com/content/search/scopus\"\n",
    "\n",
    "        # Headers: Include API key and specify JSON response\n",
    "        headers = {\n",
    "            \"X-ELS-APIKey\": api_key,\n",
    "            \"Accept\": \"application/json\",\n",
    "        }\n",
    "\n",
    "        # Pagination control\n",
    "        start = 0  # Start index of results\n",
    "        count = 20  # Number of results per page (max is 25)\n",
    "        # Pagination control\n",
    "        start = 0  # Start index of results\n",
    "        count = 20  # Number of results per page (max is 25)\n",
    "\n",
    "        # Loop to paginate through results\n",
    "        while True:\n",
    "            # Query parameters: Filter articles by journal ISSN and volume number\n",
    "            params = {\n",
    "                \"query\": f\"ISSN({journal_issn}) AND VOLUME({volume_number})\",\n",
    "                \"view\": \"COMPLETE\",  # Request complete metadata for the articles\n",
    "                \"count\": count,  # Number of results per page\n",
    "                \"start\": start,  # Start index of results for pagination\n",
    "            }\n",
    "\n",
    "            try:\n",
    "                # Send the request to the API\n",
    "                response = requests.get(url, headers=headers, params=params)\n",
    "\n",
    "                # Check if the response is successful\n",
    "                if response.status_code == 200:\n",
    "                    data = response.json()\n",
    "\n",
    "                    # Extract article entries from the response\n",
    "                    entries = data.get(\"search-results\", {}).get(\"entry\", [])\n",
    "\n",
    "                    # If no more entries, break the loop\n",
    "                    if not entries:\n",
    "                        print(f\"Volume {volume_number} done.\")\n",
    "                        break\n",
    "\n",
    "                    if len(entries) == 1:\n",
    "                        doi = entries[0].get(\"prism:doi\", \"No DOI\")\n",
    "                        if doi == \"No DOI\":\n",
    "                            break\n",
    "\n",
    "                    # print(f\"Found {len(entries)} articles starting at index {start}.\\n\")\n",
    "\n",
    "                    # Iterate over articles and print their titles and DOIs\n",
    "                    for entry in entries:\n",
    "                        title = entry.get(\"dc:title\", \"No Title\")\n",
    "                        doi = entry.get(\"prism:doi\", \"No DOI\")\n",
    "                        date = entry.get(\"prism:coverDate\", \"No Date\")\n",
    "                        # make sure it's not \"No DOI\"\n",
    "                        if doi != \"No DOI\":\n",
    "                            title_doi_list.append({\"title\": title, \"doi\": doi, \"volume\": volume_number, \"date\": date})\n",
    "                        # print(f\"Title: {title}\\nDOI: {doi}\\n\")\n",
    "\n",
    "                    # Increment the start index for the next batch of articles\n",
    "                    start += count\n",
    "\n",
    "                elif response.status_code == 403:\n",
    "                    print(\"Access Denied. Check if you have the proper entitlements.\")\n",
    "                    break  # Stop if access is denied\n",
    "\n",
    "                else:\n",
    "                    print(f\"Failed to retrieve articles. Status Code: {response.status_code}\")\n",
    "                    print(\"Response:\", response.text)\n",
    "                    break  # Stop on other failures\n",
    "\n",
    "            except Exception as e:\n",
    "                print(f\"An error occurred: {e}\")\n",
    "                break  # Stop on exceptions\n",
    "        if  volume_number %10 == 0:\n",
    "            print(f\"{len(title_doi_list)} records done\")\n",
    "            title_doi_dataframe = pd.DataFrame(title_doi_list)\n",
    "            title_doi_dataframe.to_csv(f\"../journal-meta/{journal_issn}_doi.csv\", index=False)\n",
    "    title_doi_dataframe = pd.DataFrame(title_doi_list)\n",
    "    title_doi_dataframe.to_csv(f\"../journal-meta/{journal_issn}_doi.csv\", index=False)\n",
    "    return title_doi_dataframe"
   ]
  },
  {
   "cell_type": "code",
   "execution_count": null,
   "metadata": {},
   "outputs": [],
   "source": [
    "# TRC\n",
    "title_doi_dataframe = get_all_doi_journal(\"0968-090X\", 200)"
   ]
  },
  {
   "cell_type": "code",
   "execution_count": null,
   "metadata": {},
   "outputs": [],
   "source": [
    "# TRA\n",
    "title_doi_dataframe = get_all_doi_journal(\"0965-8564\", 200)"
   ]
  },
  {
   "cell_type": "code",
   "execution_count": null,
   "metadata": {},
   "outputs": [],
   "source": [
    "# TRB\n",
    "title_doi_dataframe = get_all_doi_journal(\"0191-2615\", 200)"
   ]
  },
  {
   "cell_type": "code",
   "execution_count": null,
   "metadata": {},
   "outputs": [],
   "source": [
    "# TRD\n",
    "title_doi_dataframe = get_all_doi_journal(\"1361-9209\", 200)"
   ]
  },
  {
   "cell_type": "code",
   "execution_count": null,
   "metadata": {},
   "outputs": [],
   "source": [
    "# TRE\n",
    "title_doi_dataframe = get_all_doi_journal(\"1366-5545\", 200)"
   ]
  },
  {
   "cell_type": "code",
   "execution_count": null,
   "metadata": {},
   "outputs": [],
   "source": [
    "# TRF\n",
    "title_doi_dataframe = get_all_doi_journal(\"1369-8478\", 200)"
   ]
  },
  {
   "cell_type": "code",
   "execution_count": null,
   "metadata": {},
   "outputs": [],
   "source": [
    "# TRIP\n",
    "title_doi_dataframe = get_all_doi_journal(\"2590-1982\", 30)"
   ]
  },
  {
   "cell_type": "code",
   "execution_count": null,
   "metadata": {},
   "outputs": [],
   "source": []
  }
 ],
 "metadata": {
  "kernelspec": {
   "display_name": "RR-measure",
   "language": "python",
   "name": "python3"
  },
  "language_info": {
   "codemirror_mode": {
    "name": "ipython",
    "version": 3
   },
   "file_extension": ".py",
   "mimetype": "text/x-python",
   "name": "python",
   "nbconvert_exporter": "python",
   "pygments_lexer": "ipython3",
   "version": "3.10.15"
  }
 },
 "nbformat": 4,
 "nbformat_minor": 2
}

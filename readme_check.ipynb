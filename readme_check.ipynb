{
 "cells": [
  {
   "cell_type": "markdown",
   "metadata": {},
   "source": [
    "This notebook will take a list of github URLs and return what checkboxes they tick off for reproducability."
   ]
  },
  {
   "cell_type": "code",
   "execution_count": 24,
   "metadata": {},
   "outputs": [],
   "source": [
    "import requests\n",
    "import base64\n",
    "import re\n",
    "\n",
    "import google.generativeai as genai\n",
    "import os\n",
    "\n",
    "genai.configure(api_key=os.environ[\"GEMINI_API_KEY\"])"
   ]
  },
  {
   "cell_type": "code",
   "execution_count": 25,
   "metadata": {},
   "outputs": [],
   "source": [
    "# https://github.com/RRinTransportation/rr-measure-basic\n",
    "\n",
    "def get_readme_from_github(url):\n",
    "    parts = url.split(\"/\")\n",
    "    owner = parts[3]\n",
    "    repo = parts[4]\n",
    "\n",
    "    # GitHub API URL for the repository README\n",
    "    url = f\"https://api.github.com/repos/{owner}/{repo}/readme\"\n",
    "    headers = {\n",
    "        \"Accept\": \"application/vnd.github.v3+json\"\n",
    "    }\n",
    "\n",
    "    response = requests.get(url, headers=headers)\n",
    "\n",
    "    if response.status_code == 200:\n",
    "        readme_data = response.json()\n",
    "        readme_content_base64 = readme_data.get(\"content\", \"\")\n",
    "        # Decode the base64 content\n",
    "        readme_content = base64.b64decode(readme_content_base64).decode('utf-8')\n",
    "        return readme_content\n",
    "    else:\n",
    "        return f\"Error: Unable to fetch README (status code: {response.status_code})\"\n",
    "\n",
    "# Example usage\n",
    "url = \"https://github.com/RRinTransportation/rr-measure-basic/tree/main?tab=readme-ov-file\"\n",
    "readme_content = get_readme_from_github(url)\n",
    "# print(readme_content)"
   ]
  },
  {
   "cell_type": "markdown",
   "metadata": {},
   "source": [
    "The below are different \"checks\" to run, to make a new check just write a new function. Each takes a string (the markdown of readme) as input and outputs true (satisfies check) or false (does not satisfy check)."
   ]
  },
  {
   "cell_type": "code",
   "execution_count": 41,
   "metadata": {},
   "outputs": [],
   "source": [
    "model = genai.GenerativeModel(\"gemini-1.5-flash\")\n",
    "\n",
    "def check_keywords(readme_text, keywords):\n",
    "    \"\"\"Check for presence of keywords in README.\"\"\"\n",
    "\n",
    "    keyword_matches = {keyword: re.search(rf\"\\b{keyword}\\b\", readme_text, re.IGNORECASE) \n",
    "                       for keyword in keywords}\n",
    "    return {kw: match.group(0) for kw, match in keyword_matches.items() if match}\n",
    "\n",
    "def readme_not_empty(readme):\n",
    "    \"\"\"\n",
    "    Returns true if readme has more than 150 characters (since github default adds title)\n",
    "    \"\"\"\n",
    "    return len(readme) > 150\n",
    "\n",
    "def data_location(readme):\n",
    "    \"\"\"\n",
    "    Check if readme states where the data can be found\n",
    "    \"\"\"\n",
    "\n",
    "    keywords = [\n",
    "        \"data\", \"dataset\", \"data source\", \"download\", \"available\", \"access\", \n",
    "        \"input data\", \"training data\", \"data link\", \"data directory\", \n",
    "        \"data location\", \"data path\", \"data folder\", \"data archive\"\n",
    "    ]\n",
    "\n",
    "    if not readme:\n",
    "        return {}\n",
    "    \n",
    "    matches = check_keywords(readme, keywords)\n",
    "    return True if matches else False\n",
    "\n",
    "def enviroment_setup(readme):\n",
    "    \"\"\"\n",
    "    Check if readme includes how to setup the environment / dependencies\n",
    "    \"\"\"\n",
    "    keywords = [\n",
    "        # General setup terms\n",
    "        \"requirements\", \"dependencies\", \"environment\", \"install\", \"setup\", \n",
    "        \"virtualenv\", \"pip\", \"docker\", \"build\", \"configuration\",\n",
    "        \"environment.yaml\", \"requirements.txt\", \n",
    "\n",
    "        # MATLAB-specific terms\n",
    "        \"MATLAB\", \"matlabpath\", \"toolbox\", \"mex\", \"matlab script\", \"matlab install\",\n",
    "\n",
    "        # C/C++-specific terms\n",
    "        \"makefile\", \"gcc\", \"g\\+\\+\", \"cmake\", \"make\", \"compile\", \"C compiler\", \"C\\+\\+ compiler\",\n",
    "\n",
    "        # Java-specific terms\n",
    "        \"JDK\", \"Maven\", \"Gradle\", \"java -jar\", \"javac\", \"java version\", \"Java SDK\",\n",
    "\n",
    "        # R-specific terms\n",
    "        \"R package\", \"CRAN\", \"install.packages\", \"Rscript\", \"R environment\", \"R version\"\n",
    "    ]\n",
    "\n",
    "    if not readme:\n",
    "        return {}\n",
    "    \n",
    "    matches = check_keywords(readme, keywords)\n",
    "    return True if matches else False\n",
    "\n",
    "\n",
    "def commands(readme):\n",
    "    \"\"\"\n",
    "    Check if readme includes commands that can be run to reproduce data\n",
    "    \"\"\"\n",
    "    keywords = [\n",
    "        \"run\", \"execute\", \"executable\", \"command\", \"reproduce\", \"steps\", \"usage\", \n",
    "        \"experiment\", \"reproduction\", \"how to run\", \"command line\", \n",
    "        \"terminal\", \"CLI\", \"script\", \"bash\", \"shell\"\n",
    "    ]\n",
    "\n",
    "    if not readme:\n",
    "        return {}\n",
    "    \n",
    "    matches = check_keywords(readme, keywords)\n",
    "    return True if matches else False\n",
    "\n",
    "def parameters(readme):\n",
    "    \"\"\"\n",
    "    Check if readme includes parameters that can be run to reproduce data\n",
    "\n",
    "    Checks for 2 things:\n",
    "    1 - keywords about parameters\n",
    "    2 - anything of the format --[something]=[something]\n",
    "    \"\"\"\n",
    "\n",
    "    keywords = [\"parameters\", \"hyperparameters\", \"configuration\", \"settings\", \"args\", \"arguments\", \"--[a-zA-Z0-9_-]+=[a-zA-Z0-9_-]+\"]\n",
    "\n",
    "    if not readme:\n",
    "        return {}\n",
    "    \n",
    "    matches = check_keywords(readme, keywords)\n",
    "    return True if matches else False\n",
    "    "
   ]
  },
  {
   "cell_type": "markdown",
   "metadata": {},
   "source": [
    "The following dictionary contains every check and will list all repos that satisfy the check."
   ]
  },
  {
   "cell_type": "code",
   "execution_count": 42,
   "metadata": {},
   "outputs": [
    {
     "data": {
      "text/plain": [
       "{'readme not empty': [0, 1, 2],\n",
       " 'environment setup': [0, 1, 2],\n",
       " 'data location': [0, 1, 2],\n",
       " 'commands': [1, 2],\n",
       " 'parameters': [2]}"
      ]
     },
     "execution_count": 42,
     "metadata": {},
     "output_type": "execute_result"
    }
   ],
   "source": [
    "check_functions = {\n",
    "    \"readme not empty\": readme_not_empty,\n",
    "    \"environment setup\": enviroment_setup,\n",
    "    \"data location\": data_location,\n",
    "    \"commands\": commands,\n",
    "    \"parameters\": parameters\n",
    "    # ADD NEW FUNCTIONS HERE\n",
    "}\n",
    "\n",
    "check_repos = {}\n",
    "\n",
    "for check in check_functions:\n",
    "    check_repos[check] = []\n",
    "\n",
    "github_urls = [\"https://github.com/uctb/UCTB/\", \"https://github.com/marsauto/europilot\", \"https://github.com/hengli/camodocal\"] # ADD URLS HERE\n",
    "\n",
    "for i, url in enumerate(github_urls):\n",
    "    readme = get_readme_from_github(url)\n",
    "    # print(readme)\n",
    "    for check in check_functions:\n",
    "        if check_functions[check](readme):\n",
    "            check_repos[check].append(i)\n",
    "\n",
    "check_repos"
   ]
  },
  {
   "cell_type": "code",
   "execution_count": null,
   "metadata": {},
   "outputs": [],
   "source": []
  }
 ],
 "metadata": {
  "kernelspec": {
   "display_name": "base",
   "language": "python",
   "name": "python3"
  },
  "language_info": {
   "codemirror_mode": {
    "name": "ipython",
    "version": 3
   },
   "file_extension": ".py",
   "mimetype": "text/x-python",
   "name": "python",
   "nbconvert_exporter": "python",
   "pygments_lexer": "ipython3",
   "version": "3.10.15"
  }
 },
 "nbformat": 4,
 "nbformat_minor": 2
}

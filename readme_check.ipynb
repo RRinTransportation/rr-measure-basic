{
 "cells": [
  {
   "cell_type": "markdown",
   "metadata": {},
   "source": [
    "This notebook will take a list of github URLs and return what checkboxes they tick off for reproducability."
   ]
  },
  {
   "cell_type": "code",
   "execution_count": 5,
   "metadata": {},
   "outputs": [],
   "source": [
    "import requests\n",
    "import base64"
   ]
  },
  {
   "cell_type": "code",
   "execution_count": 6,
   "metadata": {},
   "outputs": [
    {
     "name": "stdout",
     "output_type": "stream",
     "text": [
      "# Reproducibility in Transportation - Measurement tools development\n",
      "Create a basic set of tools to retrieve paper information.\n",
      "\n",
      "## How to use this repo\n",
      "\n",
      "### Create the virtual environment\n",
      "To create the virtual environment from the `environment.yml` file, run the following commands:\n",
      "\n",
      "```sh\n",
      "conda env create -f environment.yml\n",
      "conda activate RR-measure\n",
      "```\n",
      "\n",
      "### About the Elsevier API usage\n",
      "\n",
      "#### Get your API key\n",
      "[Elsevier API](https://dev.elsevier.com/)\n",
      "\n",
      "#### Safely use your API key\n",
      "\n",
      "Put the API key in a file named `config.yaml` in the parent directory `../config.yaml` of this GitHub repo. The content of the file should be like this:\n",
      "    \n",
      "```yaml\n",
      "elsevier_api:\n",
      "    api_key: your_api_key_here\n",
      "```\n",
      "\n",
      "\n",
      "\n",
      "----------------\n",
      "## Background information for the project\n",
      "\n",
      "### IEEE Xplore API to explore the journal\n",
      "- [IEEE Xplore API](https://developer.ieee.org/)\n",
      "- [IEEE Xplore API develop registration](https://developer.ieee.org/apps/register)\n",
      "\n",
      "### Elsevier API to explore the journal\n",
      "- [Elsevier API](https://dev.elsevier.com/)\n",
      "\n",
      "### Timeline\n",
      "\n",
      "- 2024-10-01: Project started\n",
      "- 2024-11-01: Dataset v0.1 created (expected)\n",
      "\n",
      "### Literature\n",
      "\n",
      "- [Try to Start It! The Challenge of Reusing Code in Robotics Research](https://ieeexplore.ieee.org/document/8514000)\n",
      "- [Get in Researchers; We're Measuring Reproducibility\": A Reproducibility Study of Machine Learning Papers in Tier 1 Security Conferences.](https://dl.acm.org/doi/10.1145/3576915.3623130)\n",
      "\n",
      "\n",
      "### Acknowledgement\n",
      "\n",
      "It's a project developed under the instruction of materials from [Wu et al. (2024)](https://www.rerite.org/itsc24-rr-tutorial/). Views here are my own and do not represent the views of any organization.\n",
      "\n",
      "### Reference\n",
      "- C. Wu, B. Ghosh, Z. Zheng, and I. Martínez, “Reproducibility in transportation research: a hands-on tutorial.” IEEE International Conference on Intelligent Transportation Systems (ITSC), 2024. [Online](https://www.rerite.org/itsc24-rr-tutorial/). Available: https://www.rerite.org/itsc24-rr-tutorial/\n",
      "\n",
      "### Team\n",
      "- [Junyi Ji](https://www.jijunyi.com)\n",
      "- Ruth Lu\n",
      "- [Cathy Wu](https://www.wucathy.com)\n"
     ]
    }
   ],
   "source": [
    "# https://github.com/RRinTransportation/rr-measure-basic\n",
    "\n",
    "def get_readme_from_github(url):\n",
    "    parts = url.split(\"/\")\n",
    "    owner = parts[3]\n",
    "    repo = parts[4]\n",
    "\n",
    "    # GitHub API URL for the repository README\n",
    "    url = f\"https://api.github.com/repos/{owner}/{repo}/readme\"\n",
    "    headers = {\n",
    "        \"Accept\": \"application/vnd.github.v3+json\"\n",
    "    }\n",
    "\n",
    "    response = requests.get(url, headers=headers)\n",
    "\n",
    "    if response.status_code == 200:\n",
    "        readme_data = response.json()\n",
    "        readme_content_base64 = readme_data.get(\"content\", \"\")\n",
    "        # Decode the base64 content\n",
    "        readme_content = base64.b64decode(readme_content_base64).decode('utf-8')\n",
    "        return readme_content\n",
    "    else:\n",
    "        return f\"Error: Unable to fetch README (status code: {response.status_code})\"\n",
    "\n",
    "# Example usage\n",
    "url = \"https://github.com/RRinTransportation/rr-measure-basic/tree/main?tab=readme-ov-file\"\n",
    "readme_content = get_readme_from_github(url)\n",
    "print(readme_content)"
   ]
  },
  {
   "cell_type": "markdown",
   "metadata": {},
   "source": [
    "The below are different \"checks\" to run, to make a new check just write a new function. Each takes a string (the markdown of readme) as input and outputs true (satisfies check) or false (does not satisfy check)."
   ]
  },
  {
   "cell_type": "code",
   "execution_count": 7,
   "metadata": {},
   "outputs": [],
   "source": [
    "def readme_not_empty(readme):\n",
    "    \"\"\"\n",
    "    Returns true if readme has more than 150 characters (since github default adds title)\n",
    "    \"\"\"\n",
    "    return len(readme) > 150\n",
    "\n",
    "# ADD MORE FUNCTIONS HERE"
   ]
  },
  {
   "cell_type": "markdown",
   "metadata": {},
   "source": [
    "The following dictionary contains every check and will list all repos that satisfy the check."
   ]
  },
  {
   "cell_type": "code",
   "execution_count": 8,
   "metadata": {},
   "outputs": [
    {
     "data": {
      "text/plain": [
       "{'readme not empty': [0]}"
      ]
     },
     "execution_count": 8,
     "metadata": {},
     "output_type": "execute_result"
    }
   ],
   "source": [
    "check_functions = {\n",
    "    \"readme not empty\": readme_not_empty\n",
    "    # ADD NEW FUNCTIONS HERE\n",
    "}\n",
    "\n",
    "check_repos = {}\n",
    "\n",
    "for check in check_functions:\n",
    "    check_repos[check] = []\n",
    "\n",
    "github_urls = [\"https://github.com/RRinTransportation/rr-measure-basic/tree/main?tab=readme-ov-file\", \"https://github.com/octocat/Hello-World\"] # ADD URLS HERE\n",
    "\n",
    "for i, url in enumerate(github_urls):\n",
    "    readme = get_readme_from_github(url)\n",
    "    for check in check_functions:\n",
    "        if check_functions[check](readme):\n",
    "            check_repos[check].append(i)\n",
    "\n",
    "check_repos"
   ]
  },
  {
   "cell_type": "code",
   "execution_count": null,
   "metadata": {},
   "outputs": [],
   "source": []
  }
 ],
 "metadata": {
  "kernelspec": {
   "display_name": "base",
   "language": "python",
   "name": "python3"
  },
  "language_info": {
   "codemirror_mode": {
    "name": "ipython",
    "version": 3
   },
   "file_extension": ".py",
   "mimetype": "text/x-python",
   "name": "python",
   "nbconvert_exporter": "python",
   "pygments_lexer": "ipython3",
   "version": "3.9.7"
  }
 },
 "nbformat": 4,
 "nbformat_minor": 2
}

{
 "cells": [
  {
   "cell_type": "code",
   "execution_count": 4,
   "metadata": {},
   "outputs": [
    {
     "name": "stdout",
     "output_type": "stream",
     "text": [
      "An optimization approach for the terminal airspace scheduling problem\n",
      "Unraveling stochastic fundamental diagrams with empirical knowledge: Modeling, limitations, and future directions\n",
      "Multimodal traffic assignment considering heterogeneous demand and modular operation of shared autonomous vehicles\n",
      "Towards dynamic flight separation in final approach: A hybrid attention-based deep learning framework for long-term spatiotemporal wake vortex prediction\n",
      "Large scale multi-GPU based parallel traffic simulation for accelerated traffic assignment and propagation\n",
      "A conflict risk graph approach to modeling spatio-temporal dynamics of intersection safety\n",
      "Individual response prediction and personalized guidance strategy optimization in urban rail transit networks\n",
      "Predicting flight arrival times with deep learning: A strategy for minimizing potential conflicts in gate assignment\n",
      "A scalable macro–micro approach for cooperative platoon merging in mixed traffic flows\n",
      "Reliability modeling for perception systems in autonomous vehicles: A recursive event-triggering point process approach\n",
      "Feedback–feedforward signal control with exogenous demand estimation in congested urban road networks\n",
      "MetaFollower: Adaptable personalized autonomous car following\n",
      "Bi-objective robust nonlinear decision approach for en-route bus speed control considering implementation errors and traffic uncertainties\n",
      "Integrated optimization of lane allocation and adaptive signal control at isolated intersection under stochastic demand\n",
      "A cooperative perception based adaptive signal control under early deployment of connected and automated vehicles\n",
      "The Dial-a-Ride problem with meeting points: A problem formulation for shared demand–responsive transit\n",
      "Choice-based macroscopic lane-change prediction model for weaving areas\n",
      "Robust optimization of train timetables with short-length and full-length services considering uncertain passenger volume and service choice behavior\n",
      "A dynamic macroscopic framework for pricing of ride-hailing services with an optional bus lane access for pool vehicles\n",
      "Augmented reality safety warnings in roadway work zones: Evaluating the effect of modality on worker reaction times\n",
      "Network-wide speed–flow estimation considering uncertain traffic conditions and sparse multi-type detectors: A KL divergence-based optimization approach\n",
      "Revealing the impacts of COVID-19 pandemic on intercity truck transport: New insights from big data analytics\n",
      "An environmentally-aware dynamic planning of electric vehicles for aircraft towing considering stochastic aircraft arrival and departure times\n",
      "MATNEC: AIS data-driven environment-adaptive maritime traffic network construction for realistic route generation\n",
      "A qualitative AI security risk assessment of autonomous vehicles\n"
     ]
    }
   ],
   "source": [
    "import requests\n",
    "import yaml\n",
    "with open('../config.yaml', 'r') as file:\n",
    "    config = yaml.safe_load(file)\n",
    "\n",
    "# Access the API key\n",
    "api_key = config['elsevier_api']['api_key']\n",
    "journal_name = 'Transportation Research Part C: Emerging Technologies'\n",
    "url = f'https://api.elsevier.com/content/search/scopus?query=SRCTITLE(\"{journal_name}\")&apiKey={api_key}'\n",
    "\n",
    "response = requests.get(url)\n",
    "if response.status_code == 200:\n",
    "    data = response.json()\n",
    "    articles = data['search-results']['entry']\n",
    "    for article in articles:\n",
    "        print(article['dc:title'])\n",
    "else:\n",
    "    print(\"Error:\", response.status_code)\n"
   ]
  },
  {
   "cell_type": "code",
   "execution_count": null,
   "metadata": {},
   "outputs": [],
   "source": []
  }
 ],
 "metadata": {
  "kernelspec": {
   "display_name": "RR-measure",
   "language": "python",
   "name": "python3"
  },
  "language_info": {
   "codemirror_mode": {
    "name": "ipython",
    "version": 3
   },
   "file_extension": ".py",
   "mimetype": "text/x-python",
   "name": "python",
   "nbconvert_exporter": "python",
   "pygments_lexer": "ipython3",
   "version": "3.10.15"
  }
 },
 "nbformat": 4,
 "nbformat_minor": 2
}

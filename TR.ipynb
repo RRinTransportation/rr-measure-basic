{
 "cells": [
  {
   "cell_type": "code",
   "execution_count": 47,
   "metadata": {},
   "outputs": [],
   "source": [
    "import requests\n",
    "import yaml\n",
    "with open('../config.yaml', 'r') as file:\n",
    "    config = yaml.safe_load(file)\n",
    "\n",
    "# Access the API key\n",
    "api_key = config['elsevier_api']['api_key']"
   ]
  },
  {
   "cell_type": "code",
   "execution_count": null,
   "metadata": {},
   "outputs": [],
   "source": [
    "# Replace with a valid article DOI or EID for testing\n",
    "article_doi = \"10.1016/j.trc.2023.104311\"\n",
    "\n",
    "# API Endpoint for Article Retrieval\n",
    "url = f\"https://api.elsevier.com/content/article/doi/{article_doi}\"\n",
    "\n",
    "# Headers including API Key and other parameters\n",
    "headers = {\n",
    "    \"X-ELS-APIKey\": api_key,\n",
    "    \"Accept\": \"application/json\",\n",
    "}\n",
    "\n",
    "# Optional: Specify parameters (e.g., view level or HTTP response language)\n",
    "params = {\n",
    "    \"view\": \"FULL\",  # Options: \"REF\", \"FULL\", \"META\"\n",
    "}\n",
    "try:\n",
    "    # Send the request\n",
    "    response = requests.get(url, headers=headers, params=params)\n",
    "\n",
    "    # Check the status of the response\n",
    "    if response.status_code == 200:\n",
    "        data = response.json()\n",
    "        print(\"Full Text Data Retrieved Successfully!\")\n",
    "\n",
    "        # Extract core metadata\n",
    "        title = data.get(\"full-text-retrieval-response\", {}).get(\"coredata\", {}).get(\"dc:title\", \"N/A\")\n",
    "        abstract = data.get(\"full-text-retrieval-response\", {}).get(\"coredata\", {}).get(\"dc:description\", \"N/A\")\n",
    "        # Attempt to extract full text sections\n",
    "        fulltext = data.get(\"full-text-retrieval-response\", {}).get(\"originalText\", \"No full text available\")\n",
    "\n",
    "        print(f\"Title: {title}\\n\")\n",
    "        print(f\"Abstract: {abstract}\\n\")\n",
    "        \n",
    "    elif response.status_code == 403:\n",
    "        print(\"Access Denied. Check if you have proper entitlements.\")\n",
    "    else:\n",
    "        print(f\"Failed to retrieve full text. Status Code: {response.status_code}\")\n",
    "        print(\"Response:\", response.text)\n",
    "\n",
    "except Exception as e:\n",
    "    print(f\"An error occurred: {e}\")"
   ]
  },
  {
   "cell_type": "code",
   "execution_count": 25,
   "metadata": {},
   "outputs": [],
   "source": [
    "# save data to a file\n",
    "with open('../full_text_data.json', 'w') as file:\n",
    "    file.write(response.text)"
   ]
  },
  {
   "cell_type": "code",
   "execution_count": null,
   "metadata": {},
   "outputs": [],
   "source": []
  }
 ],
 "metadata": {
  "kernelspec": {
   "display_name": "RR-measure",
   "language": "python",
   "name": "python3"
  },
  "language_info": {
   "codemirror_mode": {
    "name": "ipython",
    "version": 3
   },
   "file_extension": ".py",
   "mimetype": "text/x-python",
   "name": "python",
   "nbconvert_exporter": "python",
   "pygments_lexer": "ipython3",
   "version": "3.10.15"
  }
 },
 "nbformat": 4,
 "nbformat_minor": 2
}

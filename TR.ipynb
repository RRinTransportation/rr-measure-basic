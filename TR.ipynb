{
 "cells": [
  {
   "cell_type": "code",
   "execution_count": null,
   "metadata": {},
   "outputs": [],
   "source": [
    "import requests\n",
    "import yaml\n",
    "import pandas as pd\n",
    "import json\n",
    "with open('../config.yaml', 'r') as file:\n",
    "    config = yaml.safe_load(file)\n",
    "\n",
    "# Access the API key\n",
    "api_key = config['elsevier_api']['api_key']"
   ]
  },
  {
   "cell_type": "code",
   "execution_count": null,
   "metadata": {},
   "outputs": [],
   "source": [
    "# Replace with a valid article DOI or EID for testing\n",
    "# article_doi = \"10.1016/j.trc.2023.104311\"\n",
    "def retrieve_full_text(article_doi, save_folder, api_key=api_key):\n",
    "    # API Endpoint for Article Retrieval\n",
    "    url = f\"https://api.elsevier.com/content/article/doi/{article_doi}\"\n",
    "    \n",
    "    # Headers including API Key and other parameters\n",
    "    headers = {\n",
    "        \"X-ELS-APIKey\": api_key,\n",
    "        \"Accept\": \"application/xml\",  # Change to accept XML format\n",
    "    }\n",
    "\n",
    "    # Optional: Specify parameters (e.g., view level or HTTP response language)\n",
    "    params = {\n",
    "        \"view\": \"FULL\",  # Options: \"REF\", \"FULL\", \"META\"\n",
    "    }\n",
    "    try:\n",
    "        # Send the request\n",
    "        response = requests.get(url, headers=headers, params=params)\n",
    "\n",
    "        # Check the status of the response\n",
    "        if response.status_code == 200:\n",
    "            print(\"Full Text Data Retrieved Successfully!\")\n",
    "\n",
    "            # Save the XML response directly\n",
    "            unique_id = article_doi.replace('/', '_')\n",
    "            with open(f'{save_folder}/{unique_id}.xml', 'wb') as file:  # Use 'wb' for binary write\n",
    "                file.write(response.content)  # Write the raw XML content\n",
    "\n",
    "            # Extract abstract from the XML response\n",
    "            from xml.etree import ElementTree as ET\n",
    "            root = ET.fromstring(response.content)\n",
    "            abstract = root.find('.//dc:description', namespaces={'dc': 'http://purl.org/dc/elements/1.1/'})\n",
    "            abstract_text = abstract.text if abstract is not None else \"N/A\"\n",
    "            # print(f\"Abstract: {abstract_text}\\n\")\n",
    "            title = root.find('.//dc:title', namespaces={'dc': 'http://purl.org/dc/elements/1.1/'})\n",
    "            title_text = title.text if title is not None else \"N/A\"\n",
    "            print(f\"Title: {title_text}\\n\")\n",
    "\n",
    "        elif response.status_code == 403:\n",
    "            print(\"Access Denied. Check if you have proper entitlements.\")\n",
    "        else:\n",
    "            print(f\"Failed to retrieve full text. Status Code: {response.status_code}\")\n",
    "            print(\"Response:\", response.text)\n",
    "    except Exception as e:\n",
    "        print(f\"An error occurred: {e}\")\n",
    "    return abstract_text  # Return the extracted abstract"
   ]
  },
  {
   "cell_type": "code",
   "execution_count": null,
   "metadata": {},
   "outputs": [],
   "source": [
    "# read the journal-meta folder and get a list of csv files\n",
    "import os\n",
    "folder = '../journal-meta'\n",
    "full_text_folder = '../journal-full-text'\n",
    "csv_files = [file for file in os.listdir(folder) if file.endswith('.csv')]\n",
    "for csv_file in csv_files:\n",
    "    journal_info = csv_file.split('_')[0]\n",
    "    # create a folder in the full_text_folder under the journal info\n",
    "    save_folder = os.path.join(full_text_folder, journal_info)\n",
    "    # Check if the folder doesn't already exist and create it if necessary\n",
    "    if not os.path.exists(save_folder):\n",
    "        os.makedirs(save_folder)\n",
    "    article_info = pd.read_csv(folder + '/' + csv_file)\n",
    "    article_info['year'] = article_info['date'].str.extract(r'(\\d{4})')\n",
    "    # get the month from the format of YYYY-MM-DD\n",
    "    article_info['month'] = article_info['date'].str.extract(r'-(\\d{2})-')\n",
    "    article = article_info[article_info['year'] >= '2019']\n",
    "    article.loc[:, 'abstract'] = article.apply(lambda x: retrieve_full_text(x['doi'],save_folder), axis=1)\n",
    "    article.to_csv(full_text_folder + '/' + journal_info + '.csv', index=False)"
   ]
  }
 ],
 "metadata": {
  "kernelspec": {
   "display_name": "RR-measure",
   "language": "python",
   "name": "python3"
  },
  "language_info": {
   "codemirror_mode": {
    "name": "ipython",
    "version": 3
   },
   "file_extension": ".py",
   "mimetype": "text/x-python",
   "name": "python",
   "nbconvert_exporter": "python",
   "pygments_lexer": "ipython3",
   "version": "3.10.15"
  }
 },
 "nbformat": 4,
 "nbformat_minor": 2
}
